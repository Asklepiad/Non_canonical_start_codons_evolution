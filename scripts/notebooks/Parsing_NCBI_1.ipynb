{
 "cells": [
  {
   "cell_type": "markdown",
   "metadata": {
    "id": "DTOWjLn73FjG"
   },
   "source": [
    "### Installing packages"
   ]
  },
  {
   "cell_type": "code",
   "execution_count": 3,
   "metadata": {
    "colab": {
     "base_uri": "https://localhost:8080/"
    },
    "id": "iIn18S_j2Ra4",
    "outputId": "af660329-370e-4e43-8e9d-1a6f1fdd1c9e"
   },
   "outputs": [],
   "source": [
    "# Importing packages\n",
    "import os\n",
    "import sys\n",
    "import argparse\n",
    "import re\n",
    "import json\n",
    "import Bio\n",
    "from Bio import SeqIO\n",
    "from Bio import Entrez\n",
    "from tqdm import tqdm"
   ]
  },
  {
   "cell_type": "code",
   "execution_count": 4,
   "metadata": {},
   "outputs": [],
   "source": [
    "# Asserting name of file.\n",
    "# In fact shortened form of bacteria name - first letter of genus and nine (or lesser) letters of specie.\n",
    "json_file_name = \"S_ruber.json\"\n",
    "# Asserting email for Entrez.  Print your own mail in the line below\n",
    "Entrez.email = \"vibrio.choleri.1854@gmail.com\""
   ]
  },
  {
   "cell_type": "code",
   "execution_count": 5,
   "metadata": {},
   "outputs": [],
   "source": [
    "json_path = f\"../../data/jsons/{json_file_name}\"\n",
    "with open(json_path, \"r\") as json_organism:\n",
    "    json_organism = json.load(json_organism)\n",
    "\n",
    "# Creating a variables for futher working with links\n",
    "organism = json_organism[0]\n",
    "db_search = \"assembly\"\n",
    "db_current = \"nucleotide\"\n",
    "complete_ids = list(json_organism[1].values())[0]"
   ]
  },
  {
   "cell_type": "code",
   "execution_count": 6,
   "metadata": {},
   "outputs": [],
   "source": [
    "if type(complete_ids[len(complete_ids)-1]) == list:\n",
    "    scaffs = complete_ids[len(complete_ids)-1]\n",
    "    del complete_ids[len(complete_ids)-1]\n",
    "    complete_ids += scaffs"
   ]
  },
  {
   "cell_type": "code",
   "execution_count": 32,
   "metadata": {},
   "outputs": [],
   "source": [
    "# Code from source above, with modifications. It is for choosing GenBank nucleotide data only.\n",
    "def extract_insdc(links):\n",
    "    linkset = [ls for ls in links[0]['LinkSetDb'] if\n",
    "              ls['LinkName'] == 'assembly_nuccore_insdc']\n",
    "    if 0 != len(linkset):\n",
    "        uids = [link['Id'] for link in linkset[0]['Link']]\n",
    "    else:\n",
    "        uids = 0\n",
    "    return uids\n",
    "\n",
    "def download_links(db_search, db_current, complete_id, timer, num_link):\n",
    "    if timer > 0:\n",
    "        link_handle = Entrez.elink(dbfrom=db_search, db=db_current, from_uid=complete_id)\n",
    "        link_record = Entrez.read(link_handle)\n",
    "        uids = extract_insdc(link_record)\n",
    "        if uids != 0:\n",
    "            for uid in uids:\n",
    "                if uid not in links_checked:  # Checking for duplicates\n",
    "                    links_checked.append(uid)\n",
    "                    links.append((uid, n))\n",
    "                    cumulative = 1\n",
    "                else:\n",
    "                    cumulative = 0\n",
    "            num_link += cumulative\n",
    "    return num_link\n",
    "            \n",
    "def forced_download_links(db_search, db_current, complete_id, timer, level, num_link):   # Наверное, это можно реализовать декоратором\n",
    "    try:\n",
    "        num_link = download_links(db_search=db_search, db_current=db_current, complete_id=complete_id, timer=timer, num_link=num_link)    \n",
    "    except RuntimeError:\n",
    "        print(f\"Problem is with {complete_id}\")\n",
    "        timer -= 1\n",
    "        level += 1\n",
    "        print(f\"We are on the {level} level now\")\n",
    "        num_link = forced_download_links(db_search, db_current, complete_id, timer, level, num_link)\n",
    "    return num_link"
   ]
  },
  {
   "cell_type": "code",
   "execution_count": 33,
   "metadata": {
    "id": "hmHfpdhjGdZy"
   },
   "outputs": [
    {
     "name": "stderr",
     "output_type": "stream",
     "text": [
      "\r",
      "  0%|                                                                                                                 | 0/38 [00:00<?, ?it/s]"
     ]
    },
    {
     "name": "stdout",
     "output_type": "stream",
     "text": [
      "Start_n: 0\n"
     ]
    },
    {
     "name": "stderr",
     "output_type": "stream",
     "text": [
      "\r",
      "  3%|██▊                                                                                                      | 1/38 [00:01<00:45,  1.22s/it]"
     ]
    },
    {
     "name": "stdout",
     "output_type": "stream",
     "text": [
      "Start_n: 0\n"
     ]
    },
    {
     "name": "stderr",
     "output_type": "stream",
     "text": [
      "\r",
      "  5%|█████▌                                                                                                   | 2/38 [00:02<00:44,  1.23s/it]"
     ]
    },
    {
     "name": "stdout",
     "output_type": "stream",
     "text": [
      "Start_n: 0\n"
     ]
    },
    {
     "name": "stderr",
     "output_type": "stream",
     "text": [
      "\r",
      "  8%|████████▎                                                                                                | 3/38 [00:03<00:41,  1.19s/it]"
     ]
    },
    {
     "name": "stdout",
     "output_type": "stream",
     "text": [
      "Start_n: 0\n"
     ]
    },
    {
     "name": "stderr",
     "output_type": "stream",
     "text": [
      "\r",
      " 11%|███████████                                                                                              | 4/38 [00:04<00:37,  1.12s/it]"
     ]
    },
    {
     "name": "stdout",
     "output_type": "stream",
     "text": [
      "Start_n: 0\n"
     ]
    },
    {
     "name": "stderr",
     "output_type": "stream",
     "text": [
      "\r",
      " 13%|█████████████▊                                                                                           | 5/38 [00:05<00:39,  1.20s/it]"
     ]
    },
    {
     "name": "stdout",
     "output_type": "stream",
     "text": [
      "Start_n: 0\n"
     ]
    },
    {
     "name": "stderr",
     "output_type": "stream",
     "text": [
      "\r",
      " 16%|████████████████▌                                                                                        | 6/38 [00:07<00:38,  1.20s/it]"
     ]
    },
    {
     "name": "stdout",
     "output_type": "stream",
     "text": [
      "Start_n: 0\n"
     ]
    },
    {
     "name": "stderr",
     "output_type": "stream",
     "text": [
      "\r",
      " 18%|███████████████████▎                                                                                     | 7/38 [00:08<00:38,  1.25s/it]"
     ]
    },
    {
     "name": "stdout",
     "output_type": "stream",
     "text": [
      "Start_n: 0\n"
     ]
    },
    {
     "name": "stderr",
     "output_type": "stream",
     "text": [
      "\r",
      " 21%|██████████████████████                                                                                   | 8/38 [00:09<00:37,  1.24s/it]"
     ]
    },
    {
     "name": "stdout",
     "output_type": "stream",
     "text": [
      "Start_n: 0\n"
     ]
    },
    {
     "name": "stderr",
     "output_type": "stream",
     "text": [
      "\r",
      " 24%|████████████████████████▊                                                                                | 9/38 [00:10<00:35,  1.24s/it]"
     ]
    },
    {
     "name": "stdout",
     "output_type": "stream",
     "text": [
      "Start_n: 0\n"
     ]
    },
    {
     "name": "stderr",
     "output_type": "stream",
     "text": [
      "\r",
      " 26%|███████████████████████████▎                                                                            | 10/38 [00:12<00:33,  1.20s/it]"
     ]
    },
    {
     "name": "stdout",
     "output_type": "stream",
     "text": [
      "Start_n: 0\n"
     ]
    },
    {
     "name": "stderr",
     "output_type": "stream",
     "text": [
      "\r",
      " 29%|██████████████████████████████                                                                          | 11/38 [00:13<00:33,  1.24s/it]"
     ]
    },
    {
     "name": "stdout",
     "output_type": "stream",
     "text": [
      "Start_n: 0\n"
     ]
    },
    {
     "name": "stderr",
     "output_type": "stream",
     "text": [
      "\r",
      " 32%|████████████████████████████████▊                                                                       | 12/38 [00:14<00:32,  1.24s/it]"
     ]
    },
    {
     "name": "stdout",
     "output_type": "stream",
     "text": [
      "Start_n: 0\n"
     ]
    },
    {
     "name": "stderr",
     "output_type": "stream",
     "text": [
      "\r",
      " 34%|███████████████████████████████████▌                                                                    | 13/38 [00:15<00:30,  1.24s/it]"
     ]
    },
    {
     "name": "stdout",
     "output_type": "stream",
     "text": [
      "Start_n: 0\n"
     ]
    },
    {
     "name": "stderr",
     "output_type": "stream",
     "text": [
      "\r",
      " 37%|██████████████████████████████████████▎                                                                 | 14/38 [00:17<00:29,  1.24s/it]"
     ]
    },
    {
     "name": "stdout",
     "output_type": "stream",
     "text": [
      "Start_n: 0\n"
     ]
    },
    {
     "name": "stderr",
     "output_type": "stream",
     "text": [
      "\r",
      " 39%|█████████████████████████████████████████                                                               | 15/38 [00:18<00:28,  1.23s/it]"
     ]
    },
    {
     "name": "stdout",
     "output_type": "stream",
     "text": [
      "Start_n: 0\n"
     ]
    },
    {
     "name": "stderr",
     "output_type": "stream",
     "text": [
      "\r",
      " 42%|███████████████████████████████████████████▊                                                            | 16/38 [00:19<00:27,  1.23s/it]"
     ]
    },
    {
     "name": "stdout",
     "output_type": "stream",
     "text": [
      "Start_n: 0\n"
     ]
    },
    {
     "name": "stderr",
     "output_type": "stream",
     "text": [
      "\r",
      " 45%|██████████████████████████████████████████████▌                                                         | 17/38 [00:20<00:25,  1.23s/it]"
     ]
    },
    {
     "name": "stdout",
     "output_type": "stream",
     "text": [
      "Start_n: 0\n"
     ]
    },
    {
     "name": "stderr",
     "output_type": "stream",
     "text": [
      "\r",
      " 47%|█████████████████████████████████████████████████▎                                                      | 18/38 [00:22<00:24,  1.23s/it]"
     ]
    },
    {
     "name": "stdout",
     "output_type": "stream",
     "text": [
      "Start_n: 0\n"
     ]
    },
    {
     "name": "stderr",
     "output_type": "stream",
     "text": [
      "\r",
      " 50%|████████████████████████████████████████████████████                                                    | 19/38 [00:23<00:23,  1.23s/it]"
     ]
    },
    {
     "name": "stdout",
     "output_type": "stream",
     "text": [
      "Start_n: 0\n"
     ]
    },
    {
     "name": "stderr",
     "output_type": "stream",
     "text": [
      "\r",
      " 53%|██████████████████████████████████████████████████████▋                                                 | 20/38 [00:24<00:22,  1.23s/it]"
     ]
    },
    {
     "name": "stdout",
     "output_type": "stream",
     "text": [
      "Start_n: 0\n"
     ]
    },
    {
     "name": "stderr",
     "output_type": "stream",
     "text": [
      "\r",
      " 55%|█████████████████████████████████████████████████████████▍                                              | 21/38 [00:25<00:20,  1.23s/it]"
     ]
    },
    {
     "name": "stdout",
     "output_type": "stream",
     "text": [
      "Start_n: 0\n"
     ]
    },
    {
     "name": "stderr",
     "output_type": "stream",
     "text": [
      "\r",
      " 58%|████████████████████████████████████████████████████████████▏                                           | 22/38 [00:26<00:19,  1.23s/it]"
     ]
    },
    {
     "name": "stdout",
     "output_type": "stream",
     "text": [
      "Start_n: 0\n"
     ]
    },
    {
     "name": "stderr",
     "output_type": "stream",
     "text": [
      "\r",
      " 61%|██████████████████████████████████████████████████████████████▉                                         | 23/38 [00:28<00:18,  1.23s/it]"
     ]
    },
    {
     "name": "stdout",
     "output_type": "stream",
     "text": [
      "Start_n: 0\n"
     ]
    },
    {
     "name": "stderr",
     "output_type": "stream",
     "text": [
      "\r",
      " 63%|█████████████████████████████████████████████████████████████████▋                                      | 24/38 [00:29<00:17,  1.23s/it]"
     ]
    },
    {
     "name": "stdout",
     "output_type": "stream",
     "text": [
      "Start_n: 0\n"
     ]
    },
    {
     "name": "stderr",
     "output_type": "stream",
     "text": [
      "\r",
      " 66%|████████████████████████████████████████████████████████████████████▍                                   | 25/38 [00:30<00:15,  1.23s/it]"
     ]
    },
    {
     "name": "stdout",
     "output_type": "stream",
     "text": [
      "Start_n: 0\n"
     ]
    },
    {
     "name": "stderr",
     "output_type": "stream",
     "text": [
      "\r",
      " 68%|███████████████████████████████████████████████████████████████████████▏                                | 26/38 [00:31<00:14,  1.23s/it]"
     ]
    },
    {
     "name": "stdout",
     "output_type": "stream",
     "text": [
      "Start_n: 0\n"
     ]
    },
    {
     "name": "stderr",
     "output_type": "stream",
     "text": [
      "\r",
      " 71%|█████████████████████████████████████████████████████████████████████████▉                              | 27/38 [00:33<00:16,  1.47s/it]"
     ]
    },
    {
     "name": "stdout",
     "output_type": "stream",
     "text": [
      "Start_n: 0\n"
     ]
    },
    {
     "name": "stderr",
     "output_type": "stream",
     "text": [
      "\r",
      " 74%|████████████████████████████████████████████████████████████████████████████▋                           | 28/38 [00:35<00:13,  1.37s/it]"
     ]
    },
    {
     "name": "stdout",
     "output_type": "stream",
     "text": [
      "Start_n: 0\n"
     ]
    },
    {
     "name": "stderr",
     "output_type": "stream",
     "text": [
      "\r",
      " 76%|███████████████████████████████████████████████████████████████████████████████▎                        | 29/38 [00:36<00:11,  1.33s/it]"
     ]
    },
    {
     "name": "stdout",
     "output_type": "stream",
     "text": [
      "Start_n: 0\n"
     ]
    },
    {
     "name": "stderr",
     "output_type": "stream",
     "text": [
      "\r",
      " 79%|██████████████████████████████████████████████████████████████████████████████████                      | 30/38 [00:37<00:10,  1.30s/it]"
     ]
    },
    {
     "name": "stdout",
     "output_type": "stream",
     "text": [
      "Start_n: 0\n"
     ]
    },
    {
     "name": "stderr",
     "output_type": "stream",
     "text": [
      "\r",
      " 82%|████████████████████████████████████████████████████████████████████████████████████▊                   | 31/38 [00:38<00:08,  1.28s/it]"
     ]
    },
    {
     "name": "stdout",
     "output_type": "stream",
     "text": [
      "Uid: 1473073680\n",
      "Uid: 1473073680, n: 0\n",
      "len_list: 1\n",
      "Uid: 1473073679\n",
      "Uid: 1473073679, n: 0\n",
      "len_list: 2\n",
      "Uid: 1473073678\n",
      "Uid: 1473073678, n: 0\n",
      "len_list: 3\n",
      "Uid: 1473073677\n",
      "Uid: 1473073677, n: 0\n",
      "len_list: 4\n",
      "Uid: 1473073676\n",
      "Uid: 1473073676, n: 0\n",
      "len_list: 5\n",
      "Final_n: 1\n",
      "Start_n: 1\n"
     ]
    },
    {
     "name": "stderr",
     "output_type": "stream",
     "text": [
      "\r",
      " 84%|███████████████████████████████████████████████████████████████████████████████████████▌                | 32/38 [00:39<00:07,  1.26s/it]"
     ]
    },
    {
     "name": "stdout",
     "output_type": "stream",
     "text": [
      "Uid: 1473073675\n",
      "Uid: 1473073675, n: 1\n",
      "len_list: 6\n",
      "Uid: 1473073674\n",
      "Uid: 1473073674, n: 1\n",
      "len_list: 7\n",
      "Uid: 1473073673\n",
      "Uid: 1473073673, n: 1\n",
      "len_list: 8\n",
      "Final_n: 2\n",
      "Start_n: 2\n"
     ]
    },
    {
     "name": "stderr",
     "output_type": "stream",
     "text": [
      "\r",
      " 87%|██████████████████████████████████████████████████████████████████████████████████████████▎             | 33/38 [00:41<00:06,  1.25s/it]"
     ]
    },
    {
     "name": "stdout",
     "output_type": "stream",
     "text": [
      "Uid: 1473073672\n",
      "Uid: 1473073672, n: 2\n",
      "len_list: 9\n",
      "Uid: 1473073671\n",
      "Uid: 1473073671, n: 2\n",
      "len_list: 10\n",
      "Uid: 1473073670\n",
      "Uid: 1473073670, n: 2\n",
      "len_list: 11\n",
      "Uid: 1473073669\n",
      "Uid: 1473073669, n: 2\n",
      "len_list: 12\n",
      "Final_n: 3\n",
      "Start_n: 3\n"
     ]
    },
    {
     "name": "stderr",
     "output_type": "stream",
     "text": [
      "\r",
      " 89%|█████████████████████████████████████████████████████████████████████████████████████████████           | 34/38 [00:42<00:04,  1.25s/it]"
     ]
    },
    {
     "name": "stdout",
     "output_type": "stream",
     "text": [
      "Uid: 1473073685\n",
      "Uid: 1473073685, n: 3\n",
      "len_list: 13\n",
      "Uid: 1473073684\n",
      "Uid: 1473073684, n: 3\n",
      "len_list: 14\n",
      "Uid: 1473073683\n",
      "Uid: 1473073683, n: 3\n",
      "len_list: 15\n",
      "Uid: 1473073682\n",
      "Uid: 1473073682, n: 3\n",
      "len_list: 16\n",
      "Uid: 1473073681\n",
      "Uid: 1473073681, n: 3\n",
      "len_list: 17\n",
      "Final_n: 4\n",
      "Start_n: 4\n"
     ]
    },
    {
     "name": "stderr",
     "output_type": "stream",
     "text": [
      "\r",
      " 92%|███████████████████████████████████████████████████████████████████████████████████████████████▊        | 35/38 [00:43<00:03,  1.23s/it]"
     ]
    },
    {
     "name": "stdout",
     "output_type": "stream",
     "text": [
      "Uid: 1473073668\n",
      "Uid: 1473073668, n: 4\n",
      "len_list: 18\n",
      "Final_n: 5\n",
      "Start_n: 5\n"
     ]
    },
    {
     "name": "stderr",
     "output_type": "stream",
     "text": [
      "\r",
      " 95%|██████████████████████████████████████████████████████████████████████████████████████████████████▌     | 36/38 [00:44<00:02,  1.21s/it]"
     ]
    },
    {
     "name": "stdout",
     "output_type": "stream",
     "text": [
      "Uid: 1419235469\n",
      "Uid: 1419235469, n: 5\n",
      "len_list: 19\n",
      "Final_n: 6\n",
      "Start_n: 6\n"
     ]
    },
    {
     "name": "stderr",
     "output_type": "stream",
     "text": [
      "\r",
      " 97%|█████████████████████████████████████████████████████████████████████████████████████████████████████▎  | 37/38 [00:45<00:01,  1.22s/it]"
     ]
    },
    {
     "name": "stdout",
     "output_type": "stream",
     "text": [
      "Uid: 295981848\n",
      "Uid: 295981848, n: 6\n",
      "len_list: 20\n",
      "Uid: 294342143\n",
      "Uid: 294342143, n: 6\n",
      "len_list: 21\n",
      "Uid: 294342092\n",
      "Uid: 294342092, n: 6\n",
      "len_list: 22\n",
      "Uid: 294342053\n",
      "Uid: 294342053, n: 6\n",
      "len_list: 23\n",
      "Uid: 294342039\n",
      "Uid: 294342039, n: 6\n",
      "len_list: 24\n",
      "Final_n: 7\n",
      "Start_n: 7\n"
     ]
    },
    {
     "name": "stderr",
     "output_type": "stream",
     "text": [
      "100%|████████████████████████████████████████████████████████████████████████████████████████████████████████| 38/38 [00:47<00:00,  1.24s/it]"
     ]
    },
    {
     "name": "stdout",
     "output_type": "stream",
     "text": [
      "Uid: 83758251\n",
      "Uid: 83758251, n: 7\n",
      "len_list: 25\n",
      "Uid: 83755449\n",
      "Uid: 83755449, n: 7\n",
      "len_list: 26\n",
      "Final_n: 8\n"
     ]
    },
    {
     "name": "stderr",
     "output_type": "stream",
     "text": [
      "\n"
     ]
    }
   ],
   "source": [
    "# Taking ids for fetching. It collected all non-duplicated links in nucleotide database from assembly database.\n",
    "# We use try-except for excepting problems with network temorary lags, which ruined our code\n",
    "links = []\n",
    "links_checked = []\n",
    "n = 0\n",
    "for complete_id in tqdm(complete_ids):\n",
    "    timer = 5\n",
    "    level = 1\n",
    "    num_link = forced_download_links(db_search, db_current, complete_id, timer, level, num_link)"
   ]
  },
  {
   "cell_type": "code",
   "execution_count": 9,
   "metadata": {
    "id": "k1ML26sxCden"
   },
   "outputs": [
    {
     "name": "stderr",
     "output_type": "stream",
     "text": [
      "100%|████████████████████████████████████████████████████████████████████████████████████████████████████████| 26/26 [02:43<00:00,  6.29s/it]\n"
     ]
    }
   ],
   "source": [
    "# Collecting data about assemblies\n",
    "gb_records = []\n",
    "for link in tqdm(links):\n",
    "    gb_handle = Entrez.efetch(db=db_current, rettype=\"gb\", retmode=\"text\", id=link[0])\n",
    "    gb_record = SeqIO.read(gb_handle, 'genbank')\n",
    "    gb_records.append((gb_record, link[1]))"
   ]
  },
  {
   "cell_type": "markdown",
   "metadata": {},
   "source": [
    "On the next stage we need to create fasta files for each assembly, to reaanotate them."
   ]
  },
  {
   "cell_type": "code",
   "execution_count": 47,
   "metadata": {},
   "outputs": [],
   "source": [
    "orglist = organism.split()\n",
    "if len(orglist[-1]) < 10:\n",
    "    last_letter = len(orglist[-1])\n",
    "else:\n",
    "    last_letter = 9\n",
    "name = f\"{orglist[0][0]}_{orglist[-1][:last_letter]}\""
   ]
  },
  {
   "cell_type": "code",
   "execution_count": 14,
   "metadata": {},
   "outputs": [
    {
     "name": "stderr",
     "output_type": "stream",
     "text": [
      "100%|█████████████████████████████████████████████████████████████████████████████████████████████████| 2333/2333 [00:00<00:00, 11770.05it/s]"
     ]
    },
    {
     "name": "stdout",
     "output_type": "stream",
     "text": [
      "KE340337\n",
      "KE340338\n",
      "KE340339\n",
      "KE340340\n",
      "KE340341\n",
      "KE340342\n",
      "KE340343\n",
      "KE340344\n",
      "KE340345\n",
      "KE340346\n",
      "KE340347\n",
      "KI530745\n",
      "KI530746\n",
      "KI530747\n",
      "KI530748\n",
      "KI530749\n",
      "KI530750\n",
      "KI530751\n",
      "KI530752\n",
      "KI530753\n",
      "KI530754\n",
      "KI530755\n",
      "KI530756\n",
      "KI530757\n",
      "KI530758\n",
      "KI530759\n",
      "KI530760\n",
      "KI530761\n"
     ]
    },
    {
     "name": "stderr",
     "output_type": "stream",
     "text": [
      "\n"
     ]
    }
   ],
   "source": [
    "dna_type, tuples, source_list = [], [], [] # Creating list for identyfing the number of every assemblie DNA molecules (chromosome and any plasmids)\n",
    "orglist = organism.split()\n",
    "if len(orglist[-1]) < 10:\n",
    "    last_letter = len(orglist[-1])\n",
    "else:\n",
    "    last_letter = 9\n",
    "name = f\"{orglist[0][0]}_{orglist[-1][:last_letter]}\"\n",
    "for rec in tqdm(gb_records):\n",
    "    try:\n",
    "        source = rec[1] # Number of assembly\n",
    "        if \"plasmid\" in rec[0].description:\n",
    "            dna_type.append(\"plasmid\")\n",
    "        else:\n",
    "            dna_type.append(\"chromosome\")\n",
    "        source_list.append(source) \n",
    "        number = source_list.count(source) # Counting the DNA molecule of assembly\n",
    "        tuples.append((source, number))\n",
    "        mask = f\"{name}{source}_{number}\"\n",
    "        with open (f\"../../{name}/data/for_prokka_fasta/{mask}.fasta\", \"w\") as for_prokka_fasta:\n",
    "            for_prokka_fasta.write(\">\")\n",
    "            for_prokka_fasta.write(mask)\n",
    "            for_prokka_fasta.write(\"\\n\")\n",
    "            for_prokka_fasta.write(str(rec[0].seq))\n",
    "            for_prokka_fasta.write(\"\\n\")\n",
    "    except Bio.Seq.UndefinedSequenceError:\n",
    "        print(rec[0].name)\n",
    "        continue"
   ]
  },
  {
   "cell_type": "code",
   "execution_count": 11,
   "metadata": {},
   "outputs": [],
   "source": [
    "# Saving plasmid_code\n",
    "jsonpc1 = json.dumps(tuples)\n",
    "with open(f\"../../{name}/data/{name}_plasmid_code1.json\", \"w\") as jspc1:\n",
    "    jspc1.write(jsonpc1)\n",
    "jsonpc2 = json.dumps(dna_type)\n",
    "with open(f\"../../{name}/data/{name}_plasmid_code2.json\", \"w\") as jspc2:\n",
    "    jspc2.write(jsonpc2)"
   ]
  },
  {
   "cell_type": "code",
   "execution_count": null,
   "metadata": {},
   "outputs": [],
   "source": [
    "RuntimeError: Couldn't resolve #exLinkSrv2, the address table is empty."
   ]
  }
 ],
 "metadata": {
  "colab": {
   "collapsed_sections": [
    "-WDRF29W3SyR",
    "c8yV-DwPre6C",
    "kyeKwO01rj1G",
    "Zyu27Lga0wWR",
    "dc_xdF-VxoMY",
    "2vlUfrmdJmyr",
    "qlF4YG3srZrF",
    "uuQtazSJwK_s",
    "N3J1A7ThS3Xz",
    "Kk6luKhoS3X0",
    "XrODV9lQS3X0"
   ],
   "provenance": [],
   "toc_visible": true
  },
  "kernelspec": {
   "display_name": "Python 3 (ipykernel)",
   "language": "python",
   "name": "python3"
  },
  "language_info": {
   "codemirror_mode": {
    "name": "ipython",
    "version": 3
   },
   "file_extension": ".py",
   "mimetype": "text/x-python",
   "name": "python",
   "nbconvert_exporter": "python",
   "pygments_lexer": "ipython3",
   "version": "3.9.13"
  }
 },
 "nbformat": 4,
 "nbformat_minor": 1
}
