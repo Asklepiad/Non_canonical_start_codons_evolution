{
 "cells": [
  {
   "cell_type": "markdown",
   "metadata": {
    "id": "DTOWjLn73FjG"
   },
   "source": [
    "### Installing packages"
   ]
  },
  {
   "cell_type": "code",
   "execution_count": 1,
   "metadata": {
    "colab": {
     "base_uri": "https://localhost:8080/"
    },
    "id": "iIn18S_j2Ra4",
    "outputId": "af660329-370e-4e43-8e9d-1a6f1fdd1c9e"
   },
   "outputs": [],
   "source": [
    "# Importing packages\n",
    "import os\n",
    "import sys\n",
    "import argparse\n",
    "import re\n",
    "import json\n",
    "import Bio\n",
    "from Bio import SeqIO\n",
    "from Bio import Entrez\n",
    "from tqdm import tqdm"
   ]
  },
  {
   "cell_type": "code",
   "execution_count": 2,
   "metadata": {},
   "outputs": [],
   "source": [
    "# Asserting name of file.\n",
    "# In fact shortened form of bacteria name - first letter of genus and nine (or lesser) letters of specie.\n",
    "json_file_name = \"M_adhaerens.json\"\n",
    "# Asserting email for Entrez.  Print your own mail in the line below\n",
    "Entrez.email = \"vibrio.choleri.1854@gmail.com\""
   ]
  },
  {
   "cell_type": "code",
   "execution_count": 61,
   "metadata": {},
   "outputs": [],
   "source": [
    "json_path = f\"../../data/jsons/{json_file_name}\"\n",
    "with open(json_path, \"r\") as json_organism:\n",
    "    json_organism = json.load(json_organism)\n",
    "\n",
    "# Creating a variables for futher working with links\n",
    "organism = json_organism[0]\n",
    "db_search = \"assembly\"\n",
    "db_current = \"nucleotide\"\n",
    "pre_complete_ids = list(json_organism[1].values())[0]"
   ]
  },
  {
   "cell_type": "code",
   "execution_count": 3,
   "metadata": {},
   "outputs": [],
   "source": [
    "organism = \"Escherichia_coli\"\n",
    "db_search = \"assembly\"\n",
    "db_current = \"nucleotide\"\n",
    "pre_complete_ids = [\"GCF_024399055\", \"GCF_024298945\", \"GCF_000017765\", \"GCF_027945015\", \"GCF_022439465\", \"GCF_001753545\", \"GCF_013167395\", \"GCF_024734095\", \"GCF_030038915\", \"GCF_030988825\", \"GCF_004358365\", \"GCF_022494685\", \"GCF_013201215\", \"GCF_025426195\", \"GCF_024585805\", \"GCF_025853875\", \"GCF_006777065\", \"GCF_002855415\", \"GCF_009867035\", \"GCF_000008865\", \"GCF_000270105\", \"GCF_014169855\", \"GCF_005222445\", \"GCF_021166435\", \"GCF_002011965\", \"GCF_023658265\", \"GCF_017570585\", \"GCF_028609765\", \"GCF_001900795\", \"GCF_000026245\", \"GCF_025402935\", \"GCF_001677515\", \"GCF_012221365\", \"GCF_029536635\", \"GCF_022493835\", \"GCF_019211745\", \"GCF_029855165\", \"GCF_904863445\", \"GCF_022759745\", \"GCF_019971035\", \"GCF_008635785\", \"GCF_019428625\", \"GCF_900636055\", \"GCF_021513335\", \"GCF_004301465\", \"GCF_013394575\", \"GCF_016942635\", \"GCF_019334665\", \"GCF_002249955\", \"GCF_002934895\", \"GCF_030347015\", \"GCF_900636105\", \"GCF_000273425\", \"GCF_014904175\", \"GCF_030012765\", \"GCF_003018875\", \"GCF_902810335\", \"GCF_017165275\", \"GCF_020424045\", \"GCF_904863305\", \"GCF_013374315\", \"GCF_022654545\", \"GCF_022494805\", \"GCF_030036755\", \"GCF_014361285\", \"GCF_003703795\", \"GCF_005221565\", \"GCF_030013435\", \"GCF_013167615\", \"GCF_005954605\", \"GCF_023516115\", \"GCF_023657975\", \"GCF_019428725\", \"GCF_022846575\", \"GCF_002966755\", \"GCF_027925825\", \"GCF_016775825\", \"GCF_002164645\", \"GCF_000299455\", \"GCF_030908745\", \"GCF_955652485\", \"GCF_900636235\", \"GCF_001901065\", \"GCF_020827555\", \"GCF_019645975\", \"GCF_018884505\", \"GCF_030028155\", \"GCF_005221805\", \"GCF_002105735\", \"GCF_030295645\", \"GCF_004010595\", \"GCF_018884285\", \"GCF_024585405\", \"GCF_008080655\", \"GCF_904831835\", \"GCF_013425955\", \"GCF_026210495\", \"GCF_008926185\", \"GCF_018972245\", \"GCF_900186905\"]"
   ]
  },
  {
   "cell_type": "code",
   "execution_count": 4,
   "metadata": {},
   "outputs": [],
   "source": [
    "def extract_insdc(links): \n",
    "    linkset = [ls for ls in links[0]['LinkSetDb'] if\n",
    "               ls['LinkName'] == 'assembly_nuccore_refseq']\n",
    "    if 0 != len(linkset):\n",
    "        uids = [link['Id'] for link in linkset[0]['Link']]\n",
    "    else:\n",
    "        uids = 0\n",
    "    return uids\n",
    "\n",
    "def download_links(db_search, db_current, complete_id, timer, num_link):\n",
    "    if timer > 0:\n",
    "        link_handle = Entrez.elink(dbfrom=db_search, db=db_current, from_uid=complete_id)\n",
    "        link_record = Entrez.read(link_handle)\n",
    "        uids = extract_insdc(link_record)\n",
    "        if uids != 0:\n",
    "            for uid in uids:\n",
    "                if uid not in links_checked:  # Checking for duplicates\n",
    "                    links_checked.append(uid)\n",
    "                    links.append((uid, num_link))\n",
    "                    cumulative = 1\n",
    "                else:\n",
    "                    cumulative = 0\n",
    "            num_link += cumulative\n",
    "    return num_link\n",
    "            \n",
    "def forced_download_links(db_search, db_current, complete_id, timer, level, num_link):   # Наверное, это можно реализовать декоратором\n",
    "    try:\n",
    "        num_link = download_links(db_search=db_search, db_current=db_current, complete_id=complete_id, timer=timer, num_link=num_link)    \n",
    "    except RuntimeError:\n",
    "        print(f\"Problem is with {complete_id}\")\n",
    "        timer -= 1\n",
    "        level += 1\n",
    "        print(f\"We are on the {level} level now\")\n",
    "        num_link = forced_download_links(db_search, db_current, complete_id, timer, level, num_link)\n",
    "    return num_link"
   ]
  },
  {
   "cell_type": "code",
   "execution_count": 5,
   "metadata": {},
   "outputs": [],
   "source": [
    "def gcf_transformer(db_search, gcf, level, timer):\n",
    "    if timer > 0:\n",
    "        try:\n",
    "            search_handle = Entrez.esearch(db_search, gcf)\n",
    "            search_record = Entrez.read(search_handle)\n",
    "            return search_record\n",
    "        except RuntimeError:\n",
    "            print(f\"Problem is with {gcf}\")\n",
    "            timer -= 1\n",
    "            level += 1\n",
    "            print(f\"We are on the {level} level now\")\n",
    "            search_record = gcf_transformer(db_search, gcf, level, timer)"
   ]
  },
  {
   "cell_type": "code",
   "execution_count": 7,
   "metadata": {},
   "outputs": [
    {
     "name": "stderr",
     "output_type": "stream",
     "text": [
      "100%|██████████████████████████████████████████████████████████████████████████████████████████████████████| 100/100 [01:36<00:00,  1.04it/s]\n"
     ]
    }
   ],
   "source": [
    "if pre_complete_ids[0][0:3] == \"GCF\":\n",
    "    complete_ids = []\n",
    "    for gcf in tqdm(pre_complete_ids):\n",
    "        level = 0\n",
    "        timer = 5 \n",
    "        search_record = gcf_transformer(db_search, gcf, level, timer)\n",
    "        complete_ids.append(search_record[\"IdList\"])\n",
    "else:\n",
    "    complete_ids = pre_complete_ids"
   ]
  },
  {
   "cell_type": "code",
   "execution_count": 65,
   "metadata": {
    "id": "hmHfpdhjGdZy"
   },
   "outputs": [
    {
     "name": "stderr",
     "output_type": "stream",
     "text": [
      "100%|████████████████████████████████████████████████████████████████████████████████████████████████████████| 14/14 [00:27<00:00,  2.00s/it]\n"
     ]
    }
   ],
   "source": [
    "# Taking ids for fetching. It collected all non-duplicated links in nucleotide database from assembly database.\n",
    "# We use try-except for excepting problems with network temorary lags, which ruined our code\n",
    "links = []\n",
    "links_checked = []\n",
    "num_link = 0\n",
    "for complete_id in tqdm(complete_ids):\n",
    "    timer = 5\n",
    "    level = 1\n",
    "    num_link = forced_download_links(db_search, db_current, complete_id, timer, level, num_link)"
   ]
  },
  {
   "cell_type": "code",
   "execution_count": 50,
   "metadata": {
    "id": "k1ML26sxCden"
   },
   "outputs": [
    {
     "name": "stderr",
     "output_type": "stream",
     "text": [
      "100%|████████████████████████████████████████████████████████████████████████████████████████████████████████| 50/50 [02:22<00:00,  2.86s/it]\n"
     ]
    }
   ],
   "source": [
    "# Collecting data about assemblies\n",
    "gb_records = []\n",
    "for link in tqdm(links):\n",
    "    gb_handle = Entrez.efetch(db=db_current, rettype=\"fasta\", retmode=\"text\", id=link[0])\n",
    "    gb_record = SeqIO.read(gb_handle, 'fasta')\n",
    "    gb_records.append((gb_record, link[1]))"
   ]
  },
  {
   "cell_type": "markdown",
   "metadata": {},
   "source": [
    "On the next stage we need to create fasta files for each assembly, to reaanotate them."
   ]
  },
  {
   "cell_type": "code",
   "execution_count": 52,
   "metadata": {},
   "outputs": [],
   "source": [
    "orglist = organism.split()\n",
    "if len(orglist[-1]) < 10:\n",
    "    last_letter = len(orglist[-1])\n",
    "else:\n",
    "    last_letter = 9\n",
    "name = f\"{orglist[0][0]}_{orglist[-1][:last_letter]}\""
   ]
  },
  {
   "cell_type": "code",
   "execution_count": 53,
   "metadata": {},
   "outputs": [
    {
     "name": "stderr",
     "output_type": "stream",
     "text": [
      "  0%|                                                                                                                 | 0/50 [00:00<?, ?it/s]\n"
     ]
    },
    {
     "ename": "FileNotFoundError",
     "evalue": "[Errno 2] No such file or directory: '../../M_adhaerens/data/for_prokka_fasta/M_adhaerens0_1.fasta'",
     "output_type": "error",
     "traceback": [
      "\u001b[0;31m---------------------------------------------------------------------------\u001b[0m",
      "\u001b[0;31mFileNotFoundError\u001b[0m                         Traceback (most recent call last)",
      "Cell \u001b[0;32mIn [53], line 19\u001b[0m\n\u001b[1;32m     17\u001b[0m tuples\u001b[38;5;241m.\u001b[39mappend((source, number))\n\u001b[1;32m     18\u001b[0m mask \u001b[38;5;241m=\u001b[39m \u001b[38;5;124mf\u001b[39m\u001b[38;5;124m\"\u001b[39m\u001b[38;5;132;01m{\u001b[39;00mname\u001b[38;5;132;01m}\u001b[39;00m\u001b[38;5;132;01m{\u001b[39;00msource\u001b[38;5;132;01m}\u001b[39;00m\u001b[38;5;124m_\u001b[39m\u001b[38;5;132;01m{\u001b[39;00mnumber\u001b[38;5;132;01m}\u001b[39;00m\u001b[38;5;124m\"\u001b[39m\n\u001b[0;32m---> 19\u001b[0m \u001b[38;5;28;01mwith\u001b[39;00m \u001b[38;5;28;43mopen\u001b[39;49m\u001b[43m \u001b[49m\u001b[43m(\u001b[49m\u001b[38;5;124;43mf\u001b[39;49m\u001b[38;5;124;43m\"\u001b[39;49m\u001b[38;5;124;43m../../\u001b[39;49m\u001b[38;5;132;43;01m{\u001b[39;49;00m\u001b[43mname\u001b[49m\u001b[38;5;132;43;01m}\u001b[39;49;00m\u001b[38;5;124;43m/data/for_prokka_fasta/\u001b[39;49m\u001b[38;5;132;43;01m{\u001b[39;49;00m\u001b[43mmask\u001b[49m\u001b[38;5;132;43;01m}\u001b[39;49;00m\u001b[38;5;124;43m.fasta\u001b[39;49m\u001b[38;5;124;43m\"\u001b[39;49m\u001b[43m,\u001b[49m\u001b[43m \u001b[49m\u001b[38;5;124;43m\"\u001b[39;49m\u001b[38;5;124;43mw\u001b[39;49m\u001b[38;5;124;43m\"\u001b[39;49m\u001b[43m)\u001b[49m \u001b[38;5;28;01mas\u001b[39;00m for_prokka_fasta:\n\u001b[1;32m     20\u001b[0m     for_prokka_fasta\u001b[38;5;241m.\u001b[39mwrite(\u001b[38;5;124m\"\u001b[39m\u001b[38;5;124m>\u001b[39m\u001b[38;5;124m\"\u001b[39m)\n\u001b[1;32m     21\u001b[0m     for_prokka_fasta\u001b[38;5;241m.\u001b[39mwrite(mask)\n",
      "\u001b[0;31mFileNotFoundError\u001b[0m: [Errno 2] No such file or directory: '../../M_adhaerens/data/for_prokka_fasta/M_adhaerens0_1.fasta'"
     ]
    }
   ],
   "source": [
    "dna_type, tuples, source_list = [], [], [] # Creating list for identyfing the number of every assemblie DNA molecules (chromosome and any plasmids)\n",
    "orglist = organism.split()\n",
    "if len(orglist[-1]) < 10:\n",
    "    last_letter = len(orglist[-1])\n",
    "else:\n",
    "    last_letter = 9\n",
    "name = f\"{orglist[0][0]}_{orglist[-1][:last_letter]}\"\n",
    "for rec in tqdm(gb_records):\n",
    "    try:\n",
    "        source = rec[1] # Number of assembly\n",
    "        descr = rec[0].description\n",
    "        if \"plasmid\" in descr:\n",
    "            dna_type.append(\"plasmid\")\n",
    "        elif \"scaffold\" in descr:\n",
    "            dna_type.append(\"scaffold\")\n",
    "        else:\n",
    "            dna_type.append(\"chromosome\")\n",
    "        if \"scaffold\" not in descr: # Для скаффолда иной подход\n",
    "            source_list.append(source) \n",
    "            number = source_list.count(source) # Counting the DNA molecule of assembly\n",
    "            tuples.append((source, number))\n",
    "            mask = f\"{name}{source}_{number}\"\n",
    "            with open (f\"../../{name}/data/for_prokka_fasta/{mask}.fasta\", \"w\") as for_prokka_fasta:\n",
    "                for_prokka_fasta.write(\">\")\n",
    "                for_prokka_fasta.write(mask)\n",
    "                for_prokka_fasta.write(\"\\n\")\n",
    "                for_prokka_fasta.write(str(rec[0].seq))\n",
    "                for_prokka_fasta.write(\"\\n\")\n",
    "        elif \"scaffold\" in descr:\n",
    "            pass\n",
    "    except Bio.Seq.UndefinedSequenceError:\n",
    "        print(rec[0].name)\n",
    "        continue"
   ]
  },
  {
   "cell_type": "code",
   "execution_count": 11,
   "metadata": {},
   "outputs": [],
   "source": [
    "# Saving plasmid_code\n",
    "jsonpc1 = json.dumps(tuples)\n",
    "with open(f\"../../{name}/data/{name}_plasmid_code1.json\", \"w\") as jspc1:\n",
    "    jspc1.write(jsonpc1)\n",
    "jsonpc2 = json.dumps(dna_type)\n",
    "with open(f\"../../{name}/data/{name}_plasmid_code2.json\", \"w\") as jspc2:\n",
    "    jspc2.write(jsonpc2)"
   ]
  }
 ],
 "metadata": {
  "colab": {
   "collapsed_sections": [
    "-WDRF29W3SyR",
    "c8yV-DwPre6C",
    "kyeKwO01rj1G",
    "Zyu27Lga0wWR",
    "dc_xdF-VxoMY",
    "2vlUfrmdJmyr",
    "qlF4YG3srZrF",
    "uuQtazSJwK_s",
    "N3J1A7ThS3Xz",
    "Kk6luKhoS3X0",
    "XrODV9lQS3X0"
   ],
   "provenance": [],
   "toc_visible": true
  },
  "kernelspec": {
   "display_name": "Python 3 (ipykernel)",
   "language": "python",
   "name": "python3"
  },
  "language_info": {
   "codemirror_mode": {
    "name": "ipython",
    "version": 3
   },
   "file_extension": ".py",
   "mimetype": "text/x-python",
   "name": "python",
   "nbconvert_exporter": "python",
   "pygments_lexer": "ipython3",
   "version": "3.9.13"
  }
 },
 "nbformat": 4,
 "nbformat_minor": 1
}
