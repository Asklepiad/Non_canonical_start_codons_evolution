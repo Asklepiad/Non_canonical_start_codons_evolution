{
 "cells": [
  {
   "cell_type": "markdown",
   "metadata": {
    "id": "DTOWjLn73FjG"
   },
   "source": [
    "### Installing packages"
   ]
  },
  {
   "cell_type": "code",
   "execution_count": 1,
   "metadata": {
    "colab": {
     "base_uri": "https://localhost:8080/"
    },
    "id": "iIn18S_j2Ra4",
    "outputId": "af660329-370e-4e43-8e9d-1a6f1fdd1c9e"
   },
   "outputs": [],
   "source": [
    "# Importing packages\n",
    "import os\n",
    "import sys\n",
    "import argparse\n",
    "import re\n",
    "import json\n",
    "import Bio\n",
    "from Bio import SeqIO\n",
    "from Bio import Entrez\n",
    "from tqdm import tqdm"
   ]
  },
  {
   "cell_type": "code",
   "execution_count": 13,
   "metadata": {},
   "outputs": [],
   "source": [
    "# Asserting name of file.\n",
    "# In fact shortened form of bacteria name - first letter of genus and nine (or lesser) letters of specie.\n",
    "json_file_name = \"M_adhaerens.json\"\n",
    "# Asserting email for Entrez.  Print your own mail in the line below\n",
    "Entrez.email = \"vibrio.choleri.1854@gmail.com\""
   ]
  },
  {
   "cell_type": "code",
   "execution_count": 14,
   "metadata": {},
   "outputs": [],
   "source": [
    "json_path = f\"../../data/jsons/{json_file_name}\"\n",
    "with open(json_path, \"r\") as json_organism:\n",
    "    json_organism = json.load(json_organism)\n",
    "\n",
    "# Creating a variables for futher working with links\n",
    "organism = json_organism[0]\n",
    "db_search = \"assembly\"\n",
    "db_current = \"nucleotide\"\n",
    "pre_complete_ids = list(json_organism[1].values())[0]"
   ]
  },
  {
   "cell_type": "code",
   "execution_count": 15,
   "metadata": {},
   "outputs": [],
   "source": [
    "if type(pre_complete_ids[len(pre_complete_ids)-1]) == list:\n",
    "    scaffs = pre_complete_ids[len(pre_complete_ids)-1]\n",
    "    del pre_complete_ids[len(pre_complete_ids)-1]\n",
    "    pre_complete_ids += scaffs"
   ]
  },
  {
   "cell_type": "code",
   "execution_count": 45,
   "metadata": {},
   "outputs": [],
   "source": [
    "# Code from source above, with modifications. It is for choosing GenBank nucleotide data only.\n",
    "def extract_insdc(links, db_search, complete_id):\n",
    "    search_handle = Entrez.esummary(db=db_search, id=complete_id)\n",
    "    search_record = Entrez.read(search_handle)\n",
    "    ass_level = search_record['DocumentSummarySet']['DocumentSummary'][0]['AssemblyStatus']\n",
    "    if ass_level in [\"Chromosome\", \"Complete Genome\"]:\n",
    "        linkset = [ls for ls in links[0]['LinkSetDb'] if\n",
    "              ls['LinkName'] == 'assembly_nuccore_insdc']\n",
    "        if 0 != len(linkset):\n",
    "            uids = [link['Id'] for link in linkset[0]['Link']]\n",
    "        else:\n",
    "            uids = 0\n",
    "    elif ass_level == \"Scaffold\":\n",
    "        linkset = [ls for ls in links[0]['LinkSetDb'] if\n",
    "              ls['LinkName'] == 'assembly_nuccore_refseq']\n",
    "        if 0 != len(linkset):\n",
    "            uids = [link['Id'] for link in linkset[0]['Link']]\n",
    "        else:\n",
    "            uids = 0\n",
    "    return uids\n",
    "\n",
    "def download_links(db_search, db_current, complete_id, timer, num_link):\n",
    "    if timer > 0:\n",
    "        link_handle = Entrez.elink(dbfrom=db_search, db=db_current, from_uid=complete_id)\n",
    "        link_record = Entrez.read(link_handle)\n",
    "        uids = extract_insdc(link_record, db_search, complete_id)\n",
    "        if uids != 0:\n",
    "            for uid in uids:\n",
    "                if uid not in links_checked:  # Checking for duplicates\n",
    "                    links_checked.append(uid)\n",
    "                    links.append((uid, num_link))\n",
    "                    cumulative = 1\n",
    "                else:\n",
    "                    cumulative = 0\n",
    "            num_link += cumulative\n",
    "    return num_link\n",
    "            \n",
    "def forced_download_links(db_search, db_current, complete_id, timer, level, num_link):   # Наверное, это можно реализовать декоратором\n",
    "    try:\n",
    "        num_link = download_links(db_search=db_search, db_current=db_current, complete_id=complete_id, timer=timer, num_link=num_link)    \n",
    "    except RuntimeError:\n",
    "        print(f\"Problem is with {complete_id}\")\n",
    "        timer -= 1\n",
    "        level += 1\n",
    "        print(f\"We are on the {level} level now\")\n",
    "        num_link = forced_download_links(db_search, db_current, complete_id, timer, level, num_link)\n",
    "    return num_link"
   ]
  },
  {
   "cell_type": "code",
   "execution_count": 46,
   "metadata": {},
   "outputs": [],
   "source": [
    "if pre_complete_ids[0][0:3] == \"GCF\":\n",
    "    complete_ids = []\n",
    "    for gcf in tqdm(pre_complete_ids):\n",
    "        search_handle = Entrez.esearch(db_search, gcf)\n",
    "        search_record = Entrez.read(search_handle)\n",
    "        complete_ids.append(search_record[\"IdList\"])\n",
    "else:\n",
    "    complete_ids = pre_complete_ids"
   ]
  },
  {
   "cell_type": "code",
   "execution_count": 47,
   "metadata": {
    "id": "hmHfpdhjGdZy"
   },
   "outputs": [
    {
     "name": "stderr",
     "output_type": "stream",
     "text": [
      "100%|████████████████████████████████████████████████████████████████████████████████████████████████████████| 14/14 [00:30<00:00,  2.17s/it]\n"
     ]
    }
   ],
   "source": [
    "# Taking ids for fetching. It collected all non-duplicated links in nucleotide database from assembly database.\n",
    "# We use try-except for excepting problems with network temorary lags, which ruined our code\n",
    "links = []\n",
    "links_checked = []\n",
    "num_link = 0\n",
    "for complete_id in tqdm(complete_ids):\n",
    "    timer = 5\n",
    "    level = 1\n",
    "    num_link = forced_download_links(db_search, db_current, complete_id, timer, level, num_link)"
   ]
  },
  {
   "cell_type": "code",
   "execution_count": 20,
   "metadata": {},
   "outputs": [
    {
     "data": {
      "text/plain": [
       "['10355811',\n",
       " '373378',\n",
       " '11533431',\n",
       " '7331891',\n",
       " '1963511',\n",
       " '1949151',\n",
       " '1945171',\n",
       " '1942921',\n",
       " '1940031',\n",
       " '1934311',\n",
       " '1932261',\n",
       " '1931741',\n",
       " '1918711',\n",
       " '9754091']"
      ]
     },
     "execution_count": 20,
     "metadata": {},
     "output_type": "execute_result"
    }
   ],
   "source": [
    "complete_ids"
   ]
  },
  {
   "cell_type": "code",
   "execution_count": 50,
   "metadata": {
    "id": "k1ML26sxCden"
   },
   "outputs": [
    {
     "name": "stderr",
     "output_type": "stream",
     "text": [
      "100%|████████████████████████████████████████████████████████████████████████████████████████████████████████| 50/50 [02:22<00:00,  2.86s/it]\n"
     ]
    }
   ],
   "source": [
    "# Collecting data about assemblies\n",
    "gb_records = []\n",
    "for link in tqdm(links):\n",
    "    gb_handle = Entrez.efetch(db=db_current, rettype=\"gb\", retmode=\"text\", id=link[0])\n",
    "    gb_record = SeqIO.read(gb_handle, 'genbank')\n",
    "    gb_records.append((gb_record, link[1]))"
   ]
  },
  {
   "cell_type": "code",
   "execution_count": 51,
   "metadata": {},
   "outputs": [
    {
     "data": {
      "text/plain": [
       "[(SeqRecord(seq=Seq('GTCAATCTCAAAGCCAGACACTTCGTGGTCGCCGCCAGTGCCATCGGCAGCCCC...CCC'), id='CP076686.1', name='CP076686', description='Marinobacter adhaerens strain HP15-B chromosome, complete genome', dbxrefs=['BioProject:PRJNA731154', 'BioSample:SAMN19272548']),\n",
       "  0),\n",
       " (SeqRecord(seq=Seq('GGACGCCTTTGCCGAAGAAGAACAGAACAGCACCGATTTCGCGCTGTTGTTGTA...GCA'), id='CP001980.1', name='CP001980', description='Marinobacter adhaerens HP15 plasmid pHP-187, complete sequence', dbxrefs=['BioProject:PRJNA46089', 'BioSample:SAMN00713638']),\n",
       "  1),\n",
       " (SeqRecord(seq=Seq('GGTTAATCCGTTTCTAGTACATACGATATACCGAAAATTAAGACCGTGCAACAT...TTC'), id='CP001979.1', name='CP001979', description='Marinobacter adhaerens HP15 plasmid pHP-42, complete sequence', dbxrefs=['BioProject:PRJNA46089', 'BioSample:SAMN00713638']),\n",
       "  1),\n",
       " (SeqRecord(seq=Seq('GATATGGGCAAAGCCGGTGACCAGGGTCTGCCGTAATAGCGTTTGAATTCGTCA...GTC'), id='CP001978.1', name='CP001978', description='Marinobacter adhaerens HP15, complete genome', dbxrefs=['BioProject:PRJNA46089', 'BioSample:SAMN00713638']),\n",
       "  1),\n",
       " (SeqRecord(seq=Seq(None, length=1711), id='NZ_JAINWM010000011.1', name='NZ_JAINWM010000011', description='Marinobacter adhaerens strain IOP_29 NODE_11_length_1711_cov_108.484906, whole genome shotgun sequence', dbxrefs=['BioProject:PRJNA224116', 'BioSample:SAMN21038308', 'Assembly:GCF_021021495.1']),\n",
       "  2),\n",
       " (SeqRecord(seq=Seq(None, length=1721), id='NZ_JAINWM010000010.1', name='NZ_JAINWM010000010', description='Marinobacter adhaerens strain IOP_29 NODE_10_length_1721_cov_109.690625, whole genome shotgun sequence', dbxrefs=['BioProject:PRJNA224116', 'BioSample:SAMN21038308', 'Assembly:GCF_021021495.1']),\n",
       "  2),\n",
       " (SeqRecord(seq=Seq(None, length=2773), id='NZ_JAINWM010000009.1', name='NZ_JAINWM010000009', description='Marinobacter adhaerens strain IOP_29 NODE_9_length_2773_cov_104.659879, whole genome shotgun sequence', dbxrefs=['BioProject:PRJNA224116', 'BioSample:SAMN21038308', 'Assembly:GCF_021021495.1']),\n",
       "  2),\n",
       " (SeqRecord(seq=Seq(None, length=3725), id='NZ_JAINWM010000008.1', name='NZ_JAINWM010000008', description='Marinobacter adhaerens strain IOP_29 NODE_8_length_3725_cov_76.389567, whole genome shotgun sequence', dbxrefs=['BioProject:PRJNA224116', 'BioSample:SAMN21038308', 'Assembly:GCF_021021495.1']),\n",
       "  2),\n",
       " (SeqRecord(seq=Seq(None, length=146127), id='NZ_JAINWM010000007.1', name='NZ_JAINWM010000007', description='Marinobacter adhaerens strain IOP_29 NODE_7_length_146127_cov_65.705026, whole genome shotgun sequence', dbxrefs=['BioProject:PRJNA224116', 'BioSample:SAMN21038308', 'Assembly:GCF_021021495.1']),\n",
       "  2),\n",
       " (SeqRecord(seq=Seq(None, length=195160), id='NZ_JAINWM010000006.1', name='NZ_JAINWM010000006', description='Marinobacter adhaerens strain IOP_29 NODE_6_length_195160_cov_47.805459, whole genome shotgun sequence', dbxrefs=['BioProject:PRJNA224116', 'BioSample:SAMN21038308', 'Assembly:GCF_021021495.1']),\n",
       "  2),\n",
       " (SeqRecord(seq=Seq(None, length=402914), id='NZ_JAINWM010000005.1', name='NZ_JAINWM010000005', description='Marinobacter adhaerens strain IOP_29 NODE_5_length_402914_cov_63.341299, whole genome shotgun sequence', dbxrefs=['BioProject:PRJNA224116', 'BioSample:SAMN21038308', 'Assembly:GCF_021021495.1']),\n",
       "  2),\n",
       " (SeqRecord(seq=Seq(None, length=647212), id='NZ_JAINWM010000004.1', name='NZ_JAINWM010000004', description='Marinobacter adhaerens strain IOP_29 NODE_4_length_647212_cov_53.194269, whole genome shotgun sequence', dbxrefs=['BioProject:PRJNA224116', 'BioSample:SAMN21038308', 'Assembly:GCF_021021495.1']),\n",
       "  2),\n",
       " (SeqRecord(seq=Seq(None, length=788722), id='NZ_JAINWM010000003.1', name='NZ_JAINWM010000003', description='Marinobacter adhaerens strain IOP_29 NODE_3_length_788722_cov_50.034316, whole genome shotgun sequence', dbxrefs=['BioProject:PRJNA224116', 'BioSample:SAMN21038308', 'Assembly:GCF_021021495.1']),\n",
       "  2),\n",
       " (SeqRecord(seq=Seq(None, length=796908), id='NZ_JAINWM010000002.1', name='NZ_JAINWM010000002', description='Marinobacter adhaerens strain IOP_29 NODE_2_length_796908_cov_48.035303, whole genome shotgun sequence', dbxrefs=['BioProject:PRJNA224116', 'BioSample:SAMN21038308', 'Assembly:GCF_021021495.1']),\n",
       "  2),\n",
       " (SeqRecord(seq=Seq(None, length=1491138), id='NZ_JAINWM010000001.1', name='NZ_JAINWM010000001', description='Marinobacter adhaerens strain IOP_29 NODE_1_length_1491138_cov_78.316678, whole genome shotgun sequence', dbxrefs=['BioProject:PRJNA224116', 'BioSample:SAMN21038308', 'Assembly:GCF_021021495.1']),\n",
       "  2),\n",
       " (SeqRecord(seq=Seq(None, length=211), id='NZ_JABEVQ010000034.1', name='NZ_JABEVQ010000034', description='Marinobacter adhaerens strain KG14 NODE_34_length_211_cov_451.164179, whole genome shotgun sequence', dbxrefs=['BioProject:PRJNA224116', 'BioSample:SAMN14491393', 'Assembly:GCF_013393465.1']),\n",
       "  3),\n",
       " (SeqRecord(seq=Seq(None, length=212), id='NZ_JABEVQ010000033.1', name='NZ_JABEVQ010000033', description='Marinobacter adhaerens strain KG14 NODE_33_length_212_cov_413.718519, whole genome shotgun sequence', dbxrefs=['BioProject:PRJNA224116', 'BioSample:SAMN14491393', 'Assembly:GCF_013393465.1']),\n",
       "  3),\n",
       " (SeqRecord(seq=Seq(None, length=258), id='NZ_JABEVQ010000032.1', name='NZ_JABEVQ010000032', description='Marinobacter adhaerens strain KG14 NODE_32_length_258_cov_503.591160, whole genome shotgun sequence', dbxrefs=['BioProject:PRJNA224116', 'BioSample:SAMN14491393', 'Assembly:GCF_013393465.1']),\n",
       "  3),\n",
       " (SeqRecord(seq=Seq(None, length=265), id='NZ_JABEVQ010000031.1', name='NZ_JABEVQ010000031', description='Marinobacter adhaerens strain KG14 NODE_31_length_265_cov_400.957447, whole genome shotgun sequence', dbxrefs=['BioProject:PRJNA224116', 'BioSample:SAMN14491393', 'Assembly:GCF_013393465.1']),\n",
       "  3),\n",
       " (SeqRecord(seq=Seq(None, length=301), id='NZ_JABEVQ010000030.1', name='NZ_JABEVQ010000030', description='Marinobacter adhaerens strain KG14 NODE_30_length_301_cov_851.022321, whole genome shotgun sequence', dbxrefs=['BioProject:PRJNA224116', 'BioSample:SAMN14491393', 'Assembly:GCF_013393465.1']),\n",
       "  3),\n",
       " (SeqRecord(seq=Seq(None, length=306), id='NZ_JABEVQ010000029.1', name='NZ_JABEVQ010000029', description='Marinobacter adhaerens strain KG14 NODE_29_length_306_cov_482.834061, whole genome shotgun sequence', dbxrefs=['BioProject:PRJNA224116', 'BioSample:SAMN14491393', 'Assembly:GCF_013393465.1']),\n",
       "  3),\n",
       " (SeqRecord(seq=Seq(None, length=329), id='NZ_JABEVQ010000028.1', name='NZ_JABEVQ010000028', description='Marinobacter adhaerens strain KG14 NODE_28_length_329_cov_423.424603, whole genome shotgun sequence', dbxrefs=['BioProject:PRJNA224116', 'BioSample:SAMN14491393', 'Assembly:GCF_013393465.1']),\n",
       "  3),\n",
       " (SeqRecord(seq=Seq(None, length=332), id='NZ_JABEVQ010000027.1', name='NZ_JABEVQ010000027', description='Marinobacter adhaerens strain KG14 NODE_27_length_332_cov_1081.372549, whole genome shotgun sequence', dbxrefs=['BioProject:PRJNA224116', 'BioSample:SAMN14491393', 'Assembly:GCF_013393465.1']),\n",
       "  3),\n",
       " (SeqRecord(seq=Seq(None, length=380), id='NZ_JABEVQ010000026.1', name='NZ_JABEVQ010000026', description='Marinobacter adhaerens strain KG14 NODE_26_length_380_cov_873.871287, whole genome shotgun sequence', dbxrefs=['BioProject:PRJNA224116', 'BioSample:SAMN14491393', 'Assembly:GCF_013393465.1']),\n",
       "  3),\n",
       " (SeqRecord(seq=Seq(None, length=491), id='NZ_JABEVQ010000025.1', name='NZ_JABEVQ010000025', description='Marinobacter adhaerens strain KG14 NODE_25_length_491_cov_852.642512, whole genome shotgun sequence', dbxrefs=['BioProject:PRJNA224116', 'BioSample:SAMN14491393', 'Assembly:GCF_013393465.1']),\n",
       "  3),\n",
       " (SeqRecord(seq=Seq(None, length=536), id='NZ_JABEVQ010000024.1', name='NZ_JABEVQ010000024', description='Marinobacter adhaerens strain KG14 NODE_24_length_536_cov_1312.496732, whole genome shotgun sequence', dbxrefs=['BioProject:PRJNA224116', 'BioSample:SAMN14491393', 'Assembly:GCF_013393465.1']),\n",
       "  3),\n",
       " (SeqRecord(seq=Seq(None, length=563), id='NZ_JABEVQ010000023.1', name='NZ_JABEVQ010000023', description='Marinobacter adhaerens strain KG14 NODE_23_length_563_cov_1150.855967, whole genome shotgun sequence', dbxrefs=['BioProject:PRJNA224116', 'BioSample:SAMN14491393', 'Assembly:GCF_013393465.1']),\n",
       "  3),\n",
       " (SeqRecord(seq=Seq(None, length=638), id='NZ_JABEVQ010000022.1', name='NZ_JABEVQ010000022', description='Marinobacter adhaerens strain KG14 NODE_22_length_638_cov_1229.049911, whole genome shotgun sequence', dbxrefs=['BioProject:PRJNA224116', 'BioSample:SAMN14491393', 'Assembly:GCF_013393465.1']),\n",
       "  3),\n",
       " (SeqRecord(seq=Seq(None, length=755), id='NZ_JABEVQ010000021.1', name='NZ_JABEVQ010000021', description='Marinobacter adhaerens strain KG14 NODE_21_length_755_cov_637.588496, whole genome shotgun sequence', dbxrefs=['BioProject:PRJNA224116', 'BioSample:SAMN14491393', 'Assembly:GCF_013393465.1']),\n",
       "  3),\n",
       " (SeqRecord(seq=Seq(None, length=767), id='NZ_JABEVQ010000020.1', name='NZ_JABEVQ010000020', description='Marinobacter adhaerens strain KG14 NODE_20_length_767_cov_350.352174, whole genome shotgun sequence', dbxrefs=['BioProject:PRJNA224116', 'BioSample:SAMN14491393', 'Assembly:GCF_013393465.1']),\n",
       "  3),\n",
       " (SeqRecord(seq=Seq(None, length=918), id='NZ_JABEVQ010000019.1', name='NZ_JABEVQ010000019', description='Marinobacter adhaerens strain KG14 NODE_19_length_918_cov_743.342449, whole genome shotgun sequence', dbxrefs=['BioProject:PRJNA224116', 'BioSample:SAMN14491393', 'Assembly:GCF_013393465.1']),\n",
       "  3),\n",
       " (SeqRecord(seq=Seq(None, length=1104), id='NZ_JABEVQ010000018.1', name='NZ_JABEVQ010000018', description='Marinobacter adhaerens strain KG14 NODE_18_length_1104_cov_411.817916, whole genome shotgun sequence', dbxrefs=['BioProject:PRJNA224116', 'BioSample:SAMN14491393', 'Assembly:GCF_013393465.1']),\n",
       "  3),\n",
       " (SeqRecord(seq=Seq(None, length=1170), id='NZ_JABEVQ010000017.1', name='NZ_JABEVQ010000017', description='Marinobacter adhaerens strain KG14 NODE_17_length_1170_cov_853.960659, whole genome shotgun sequence', dbxrefs=['BioProject:PRJNA224116', 'BioSample:SAMN14491393', 'Assembly:GCF_013393465.1']),\n",
       "  3),\n",
       " (SeqRecord(seq=Seq(None, length=1251), id='NZ_JABEVQ010000016.1', name='NZ_JABEVQ010000016', description='Marinobacter adhaerens strain KG14 NODE_16_length_1251_cov_1271.591993, whole genome shotgun sequence', dbxrefs=['BioProject:PRJNA224116', 'BioSample:SAMN14491393', 'Assembly:GCF_013393465.1']),\n",
       "  3),\n",
       " (SeqRecord(seq=Seq(None, length=1253), id='NZ_JABEVQ010000015.1', name='NZ_JABEVQ010000015', description='Marinobacter adhaerens strain KG14 NODE_15_length_1253_cov_2518.704932, whole genome shotgun sequence', dbxrefs=['BioProject:PRJNA224116', 'BioSample:SAMN14491393', 'Assembly:GCF_013393465.1']),\n",
       "  3),\n",
       " (SeqRecord(seq=Seq(None, length=1616), id='NZ_JABEVQ010000014.1', name='NZ_JABEVQ010000014', description='Marinobacter adhaerens strain KG14 NODE_14_length_1616_cov_1204.157895, whole genome shotgun sequence', dbxrefs=['BioProject:PRJNA224116', 'BioSample:SAMN14491393', 'Assembly:GCF_013393465.1']),\n",
       "  3),\n",
       " (SeqRecord(seq=Seq(None, length=7038), id='NZ_JABEVQ010000013.1', name='NZ_JABEVQ010000013', description='Marinobacter adhaerens strain KG14 NODE_13_length_7038_cov_94.598046, whole genome shotgun sequence', dbxrefs=['BioProject:PRJNA224116', 'BioSample:SAMN14491393', 'Assembly:GCF_013393465.1']),\n",
       "  3),\n",
       " (SeqRecord(seq=Seq(None, length=9953), id='NZ_JABEVQ010000012.1', name='NZ_JABEVQ010000012', description='Marinobacter adhaerens strain KG14 NODE_12_length_9953_cov_3576.320271, whole genome shotgun sequence', dbxrefs=['BioProject:PRJNA224116', 'BioSample:SAMN14491393', 'Assembly:GCF_013393465.1']),\n",
       "  3),\n",
       " (SeqRecord(seq=Seq(None, length=19327), id='NZ_JABEVQ010000011.1', name='NZ_JABEVQ010000011', description='Marinobacter adhaerens strain KG14 NODE_11_length_19327_cov_446.396156, whole genome shotgun sequence', dbxrefs=['BioProject:PRJNA224116', 'BioSample:SAMN14491393', 'Assembly:GCF_013393465.1']),\n",
       "  3),\n",
       " (SeqRecord(seq=Seq(None, length=38486), id='NZ_JABEVQ010000010.1', name='NZ_JABEVQ010000010', description='Marinobacter adhaerens strain KG14 NODE_10_length_38486_cov_460.181129, whole genome shotgun sequence', dbxrefs=['BioProject:PRJNA224116', 'BioSample:SAMN14491393', 'Assembly:GCF_013393465.1']),\n",
       "  3),\n",
       " (SeqRecord(seq=Seq(None, length=137483), id='NZ_JABEVQ010000009.1', name='NZ_JABEVQ010000009', description='Marinobacter adhaerens strain KG14 NODE_9_length_137483_cov_441.939668, whole genome shotgun sequence', dbxrefs=['BioProject:PRJNA224116', 'BioSample:SAMN14491393', 'Assembly:GCF_013393465.1']),\n",
       "  3),\n",
       " (SeqRecord(seq=Seq(None, length=144949), id='NZ_JABEVQ010000008.1', name='NZ_JABEVQ010000008', description='Marinobacter adhaerens strain KG14 NODE_8_length_144949_cov_440.527120, whole genome shotgun sequence', dbxrefs=['BioProject:PRJNA224116', 'BioSample:SAMN14491393', 'Assembly:GCF_013393465.1']),\n",
       "  3),\n",
       " (SeqRecord(seq=Seq(None, length=254256), id='NZ_JABEVQ010000007.1', name='NZ_JABEVQ010000007', description='Marinobacter adhaerens strain KG14 NODE_7_length_254256_cov_447.102656, whole genome shotgun sequence', dbxrefs=['BioProject:PRJNA224116', 'BioSample:SAMN14491393', 'Assembly:GCF_013393465.1']),\n",
       "  3),\n",
       " (SeqRecord(seq=Seq(None, length=286734), id='NZ_JABEVQ010000006.1', name='NZ_JABEVQ010000006', description='Marinobacter adhaerens strain KG14 NODE_6_length_286734_cov_427.405373, whole genome shotgun sequence', dbxrefs=['BioProject:PRJNA224116', 'BioSample:SAMN14491393', 'Assembly:GCF_013393465.1']),\n",
       "  3),\n",
       " (SeqRecord(seq=Seq(None, length=391745), id='NZ_JABEVQ010000005.1', name='NZ_JABEVQ010000005', description='Marinobacter adhaerens strain KG14 NODE_5_length_391745_cov_444.155065, whole genome shotgun sequence', dbxrefs=['BioProject:PRJNA224116', 'BioSample:SAMN14491393', 'Assembly:GCF_013393465.1']),\n",
       "  3),\n",
       " (SeqRecord(seq=Seq(None, length=479946), id='NZ_JABEVQ010000004.1', name='NZ_JABEVQ010000004', description='Marinobacter adhaerens strain KG14 NODE_4_length_479946_cov_427.034549, whole genome shotgun sequence', dbxrefs=['BioProject:PRJNA224116', 'BioSample:SAMN14491393', 'Assembly:GCF_013393465.1']),\n",
       "  3),\n",
       " (SeqRecord(seq=Seq(None, length=529835), id='NZ_JABEVQ010000003.1', name='NZ_JABEVQ010000003', description='Marinobacter adhaerens strain KG14 NODE_3_length_529835_cov_447.043707, whole genome shotgun sequence', dbxrefs=['BioProject:PRJNA224116', 'BioSample:SAMN14491393', 'Assembly:GCF_013393465.1']),\n",
       "  3),\n",
       " (SeqRecord(seq=Seq(None, length=552409), id='NZ_JABEVQ010000002.1', name='NZ_JABEVQ010000002', description='Marinobacter adhaerens strain KG14 NODE_2_length_552409_cov_416.987832, whole genome shotgun sequence', dbxrefs=['BioProject:PRJNA224116', 'BioSample:SAMN14491393', 'Assembly:GCF_013393465.1']),\n",
       "  3),\n",
       " (SeqRecord(seq=Seq(None, length=579396), id='NZ_JABEVQ010000001.1', name='NZ_JABEVQ010000001', description='Marinobacter adhaerens strain KG14 NODE_1_length_579396_cov_440.868313, whole genome shotgun sequence', dbxrefs=['BioProject:PRJNA224116', 'BioSample:SAMN14491393', 'Assembly:GCF_013393465.1']),\n",
       "  3),\n",
       " (SeqRecord(seq=Seq('ACCAGCCCCACCATAAATCCGAAGCTGTCCCGGAGAAAAAGATTCAACTGCTGG...NNN'), id='CP051250.1', name='CP051250', description='MAG: Marinobacter adhaerens isolate ih7 chromosome', dbxrefs=['BioProject:PRJNA619388', 'BioSample:SAMN14492342']),\n",
       "  4)]"
      ]
     },
     "execution_count": 51,
     "metadata": {},
     "output_type": "execute_result"
    }
   ],
   "source": [
    "gb_records"
   ]
  },
  {
   "cell_type": "markdown",
   "metadata": {},
   "source": [
    "On the next stage we need to create fasta files for each assembly, to reaanotate them."
   ]
  },
  {
   "cell_type": "code",
   "execution_count": 52,
   "metadata": {},
   "outputs": [],
   "source": [
    "orglist = organism.split()\n",
    "if len(orglist[-1]) < 10:\n",
    "    last_letter = len(orglist[-1])\n",
    "else:\n",
    "    last_letter = 9\n",
    "name = f\"{orglist[0][0]}_{orglist[-1][:last_letter]}\""
   ]
  },
  {
   "cell_type": "code",
   "execution_count": 53,
   "metadata": {},
   "outputs": [
    {
     "name": "stderr",
     "output_type": "stream",
     "text": [
      "  0%|                                                                                                                 | 0/50 [00:00<?, ?it/s]\n"
     ]
    },
    {
     "ename": "FileNotFoundError",
     "evalue": "[Errno 2] No such file or directory: '../../M_adhaerens/data/for_prokka_fasta/M_adhaerens0_1.fasta'",
     "output_type": "error",
     "traceback": [
      "\u001b[0;31m---------------------------------------------------------------------------\u001b[0m",
      "\u001b[0;31mFileNotFoundError\u001b[0m                         Traceback (most recent call last)",
      "Cell \u001b[0;32mIn [53], line 19\u001b[0m\n\u001b[1;32m     17\u001b[0m tuples\u001b[38;5;241m.\u001b[39mappend((source, number))\n\u001b[1;32m     18\u001b[0m mask \u001b[38;5;241m=\u001b[39m \u001b[38;5;124mf\u001b[39m\u001b[38;5;124m\"\u001b[39m\u001b[38;5;132;01m{\u001b[39;00mname\u001b[38;5;132;01m}\u001b[39;00m\u001b[38;5;132;01m{\u001b[39;00msource\u001b[38;5;132;01m}\u001b[39;00m\u001b[38;5;124m_\u001b[39m\u001b[38;5;132;01m{\u001b[39;00mnumber\u001b[38;5;132;01m}\u001b[39;00m\u001b[38;5;124m\"\u001b[39m\n\u001b[0;32m---> 19\u001b[0m \u001b[38;5;28;01mwith\u001b[39;00m \u001b[38;5;28;43mopen\u001b[39;49m\u001b[43m \u001b[49m\u001b[43m(\u001b[49m\u001b[38;5;124;43mf\u001b[39;49m\u001b[38;5;124;43m\"\u001b[39;49m\u001b[38;5;124;43m../../\u001b[39;49m\u001b[38;5;132;43;01m{\u001b[39;49;00m\u001b[43mname\u001b[49m\u001b[38;5;132;43;01m}\u001b[39;49;00m\u001b[38;5;124;43m/data/for_prokka_fasta/\u001b[39;49m\u001b[38;5;132;43;01m{\u001b[39;49;00m\u001b[43mmask\u001b[49m\u001b[38;5;132;43;01m}\u001b[39;49;00m\u001b[38;5;124;43m.fasta\u001b[39;49m\u001b[38;5;124;43m\"\u001b[39;49m\u001b[43m,\u001b[49m\u001b[43m \u001b[49m\u001b[38;5;124;43m\"\u001b[39;49m\u001b[38;5;124;43mw\u001b[39;49m\u001b[38;5;124;43m\"\u001b[39;49m\u001b[43m)\u001b[49m \u001b[38;5;28;01mas\u001b[39;00m for_prokka_fasta:\n\u001b[1;32m     20\u001b[0m     for_prokka_fasta\u001b[38;5;241m.\u001b[39mwrite(\u001b[38;5;124m\"\u001b[39m\u001b[38;5;124m>\u001b[39m\u001b[38;5;124m\"\u001b[39m)\n\u001b[1;32m     21\u001b[0m     for_prokka_fasta\u001b[38;5;241m.\u001b[39mwrite(mask)\n",
      "\u001b[0;31mFileNotFoundError\u001b[0m: [Errno 2] No such file or directory: '../../M_adhaerens/data/for_prokka_fasta/M_adhaerens0_1.fasta'"
     ]
    }
   ],
   "source": [
    "dna_type, tuples, source_list = [], [], [] # Creating list for identyfing the number of every assemblie DNA molecules (chromosome and any plasmids)\n",
    "orglist = organism.split()\n",
    "if len(orglist[-1]) < 10:\n",
    "    last_letter = len(orglist[-1])\n",
    "else:\n",
    "    last_letter = 9\n",
    "name = f\"{orglist[0][0]}_{orglist[-1][:last_letter]}\"\n",
    "for rec in tqdm(gb_records):\n",
    "    try:\n",
    "        source = rec[1] # Number of assembly\n",
    "        if \"plasmid\" in rec[0].description:\n",
    "            dna_type.append(\"plasmid\")\n",
    "        else:\n",
    "            dna_type.append(\"chromosome\")\n",
    "        source_list.append(source) \n",
    "        number = source_list.count(source) # Counting the DNA molecule of assembly\n",
    "        tuples.append((source, number))\n",
    "        mask = f\"{name}{source}_{number}\"\n",
    "        with open (f\"../../{name}/data/for_prokka_fasta/{mask}.fasta\", \"w\") as for_prokka_fasta:\n",
    "            for_prokka_fasta.write(\">\")\n",
    "            for_prokka_fasta.write(mask)\n",
    "            for_prokka_fasta.write(\"\\n\")\n",
    "            for_prokka_fasta.write(str(rec[0].seq))\n",
    "            for_prokka_fasta.write(\"\\n\")\n",
    "    except Bio.Seq.UndefinedSequenceError:\n",
    "        print(rec[0].name)\n",
    "        continue"
   ]
  },
  {
   "cell_type": "code",
   "execution_count": 11,
   "metadata": {},
   "outputs": [],
   "source": [
    "# Saving plasmid_code\n",
    "jsonpc1 = json.dumps(tuples)\n",
    "with open(f\"../../{name}/data/{name}_plasmid_code1.json\", \"w\") as jspc1:\n",
    "    jspc1.write(jsonpc1)\n",
    "jsonpc2 = json.dumps(dna_type)\n",
    "with open(f\"../../{name}/data/{name}_plasmid_code2.json\", \"w\") as jspc2:\n",
    "    jspc2.write(jsonpc2)"
   ]
  },
  {
   "cell_type": "code",
   "execution_count": null,
   "metadata": {},
   "outputs": [],
   "source": [
    "RuntimeError: Couldn't resolve #exLinkSrv2, the address table is empty."
   ]
  }
 ],
 "metadata": {
  "colab": {
   "collapsed_sections": [
    "-WDRF29W3SyR",
    "c8yV-DwPre6C",
    "kyeKwO01rj1G",
    "Zyu27Lga0wWR",
    "dc_xdF-VxoMY",
    "2vlUfrmdJmyr",
    "qlF4YG3srZrF",
    "uuQtazSJwK_s",
    "N3J1A7ThS3Xz",
    "Kk6luKhoS3X0",
    "XrODV9lQS3X0"
   ],
   "provenance": [],
   "toc_visible": true
  },
  "kernelspec": {
   "display_name": "Python 3 (ipykernel)",
   "language": "python",
   "name": "python3"
  },
  "language_info": {
   "codemirror_mode": {
    "name": "ipython",
    "version": 3
   },
   "file_extension": ".py",
   "mimetype": "text/x-python",
   "name": "python",
   "nbconvert_exporter": "python",
   "pygments_lexer": "ipython3",
   "version": "3.9.13"
  }
 },
 "nbformat": 4,
 "nbformat_minor": 1
}
