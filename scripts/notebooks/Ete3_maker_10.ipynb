{
 "cells": [
  {
   "cell_type": "code",
   "execution_count": 1,
   "id": "5afdf160",
   "metadata": {},
   "outputs": [],
   "source": [
    "import ete3\n",
    "import argparse\n",
    "import os\n",
    "import shutil\n",
    "import matplotlib.pyplot as plt"
   ]
  },
  {
   "cell_type": "code",
   "execution_count": 2,
   "id": "eb6523e1",
   "metadata": {},
   "outputs": [],
   "source": [
    "# Asserting shortened form of bacteria name. Print your bacteria's name in the line below\n",
    "folder = \"S_ruber\""
   ]
  },
  {
   "cell_type": "code",
   "execution_count": 3,
   "id": "30390056",
   "metadata": {},
   "outputs": [],
   "source": [
    "# Temporary path\n",
    "prepath = f\"../../{folder}/data/raxmlng_trees/\"\n",
    "pretrees = os.listdir(prepath)\n",
    "trees = []\n",
    "for doc in pretrees:\n",
    "    if doc.endswith(\"bestTree\"):\n",
    "        trees.append(doc)"
   ]
  },
  {
   "cell_type": "code",
   "execution_count": 4,
   "id": "acdbee4e",
   "metadata": {},
   "outputs": [],
   "source": [
    "for tree in trees:\n",
    "    mask = tree.split(\".\")[0]\n",
    "    visualisation = ete3.Tree(f\"{prepath}{tree}\")\n",
    "    D_leaf_color = {\"ATG\":\"red\", \"GTG\":\"green\", \"TTG\":\"blue\"}\n",
    "    for node in visualisation.traverse():\n",
    "        node.img_style['size'] = 0\n",
    "        if node.is_leaf():\n",
    "            color = D_leaf_color.get(node.name[-3:], None)\n",
    "            if color:\n",
    "                name_face = ete3.TextFace(node.name, fgcolor=color, fsize=10)\n",
    "                node.add_face(name_face, column=1, position='branch-right')\n",
    "    ts = ete3.TreeStyle()\n",
    "    ts.show_leaf_name = False\n",
    "    visualisation.render(f\"../../{folder}/figures{mask}_ete3.png\", tree_style=ts, dpi=300)"
   ]
  }
 ],
 "metadata": {
  "kernelspec": {
   "display_name": "Python 3 (ipykernel)",
   "language": "python",
   "name": "python3"
  },
  "language_info": {
   "codemirror_mode": {
    "name": "ipython",
    "version": 3
   },
   "file_extension": ".py",
   "mimetype": "text/x-python",
   "name": "python",
   "nbconvert_exporter": "python",
   "pygments_lexer": "ipython3",
   "version": "3.9.13"
  }
 },
 "nbformat": 4,
 "nbformat_minor": 5
}
