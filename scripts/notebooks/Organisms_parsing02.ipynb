{
 "cells": [
  {
   "cell_type": "code",
   "execution_count": 1,
   "id": "79d1b550",
   "metadata": {},
   "outputs": [],
   "source": [
    "import os\n",
    "import sys\n",
    "import argparse\n",
    "import shutil\n",
    "import re\n",
    "import json"
   ]
  },
  {
   "cell_type": "code",
   "execution_count": 2,
   "id": "2a8426a3",
   "metadata": {},
   "outputs": [],
   "source": [
    "# Asserting path to json file with all bacteria and ids. We recommend to use the below-writed one, but if you want to change it, be careful for changing it in another parts of code too.\n",
    "json_path = \"../../data/id_lists.json\""
   ]
  },
  {
   "cell_type": "code",
   "execution_count": 3,
   "id": "a68edbe5",
   "metadata": {},
   "outputs": [],
   "source": [
    "with open(json_path, \"r\") as organism_list:\n",
    "    organism_list = json.load(organism_list)"
   ]
  },
  {
   "cell_type": "code",
   "execution_count": 4,
   "id": "b953b106",
   "metadata": {},
   "outputs": [],
   "source": [
    "for bac, ids in organism_list.items():\n",
    "    orglist = re.split(\" |_\", bac)\n",
    "    if len(orglist[-1]) < 10:\n",
    "        last_letter = len(orglist[-1])\n",
    "    else:\n",
    "        last_letter = 9\n",
    "    name = f\"{orglist[0][0]}_{orglist[-1][:last_letter]}\"\n",
    "    if not os.path.exists(f\"../../data/jsons/{name}.json\"):\n",
    "        jdir = [bac, {bac: ids}]\n",
    "        new_file = json.dumps(jdir)\n",
    "        with open(f\"../../data/jsons/{name}.json\", \"w\") as jspc2:\n",
    "            jspc2.write(new_file)"
   ]
  }
 ],
 "metadata": {
  "kernelspec": {
   "display_name": "Python 3 (ipykernel)",
   "language": "python",
   "name": "python3"
  },
  "language_info": {
   "codemirror_mode": {
    "name": "ipython",
    "version": 3
   },
   "file_extension": ".py",
   "mimetype": "text/x-python",
   "name": "python",
   "nbconvert_exporter": "python",
   "pygments_lexer": "ipython3",
   "version": "3.9.13"
  }
 },
 "nbformat": 4,
 "nbformat_minor": 5
}
