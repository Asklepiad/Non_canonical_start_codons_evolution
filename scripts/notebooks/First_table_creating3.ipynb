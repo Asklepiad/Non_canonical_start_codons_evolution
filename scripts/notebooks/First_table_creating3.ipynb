{
 "cells": [
  {
   "cell_type": "code",
   "execution_count": 1,
   "metadata": {},
   "outputs": [],
   "source": [
    "import os\n",
    "import sys\n",
    "import json\n",
    "import re\n",
    "import argparse\n",
    "import shutil\n",
    "import numpy as np\n",
    "import pandas as pd\n",
    "from tqdm import tqdm\n",
    "from Bio.Seq import Seq\n",
    "from itertools import chain\n",
    "from Bio import SeqIO\n",
    "from Bio.SeqRecord import SeqRecord"
   ]
  },
  {
   "cell_type": "code",
   "execution_count": 2,
   "metadata": {},
   "outputs": [],
   "source": [
    "# Asserting shortened form of bacteria name. Print your bacteria's name in the line below\n",
    "folder_name = \"S_ruber\""
   ]
  },
  {
   "cell_type": "code",
   "execution_count": 3,
   "metadata": {
    "id": "qTr549eT0tml"
   },
   "outputs": [],
   "source": [
    "# Function for parsing assembly number\n",
    "def get_assembly_number(pre_pattern1, string):\n",
    "    pre_pattern2 = r\"_[\\d]+?\\.gbk\"\n",
    "    first_bound = re.search(pre_pattern1, string)\n",
    "    second_bound = re.search(pre_pattern2, string)\n",
    "    result = string[first_bound.end():(second_bound.start())]\n",
    "    return result"
   ]
  },
  {
   "cell_type": "code",
   "execution_count": 4,
   "metadata": {
    "id": "yjqDsdd99_20"
   },
   "outputs": [],
   "source": [
    "# Uploading the data \n",
    "current_path = f\"../../{folder_name}/data/{folder_name}_annotate/\" # Path directory\n",
    "pre_pattern1 = f\"{folder_name}\"\n",
    "gb_records= []  # Reasserting the gb_records list\n",
    "gbk_files = os.listdir(current_path)"
   ]
  },
  {
   "cell_type": "code",
   "execution_count": 5,
   "metadata": {
    "id": "yjqDsdd99_20"
   },
   "outputs": [
    {
     "name": "stderr",
     "output_type": "stream",
     "text": [
      "100%|████████████████████████████████████████████████████████████████████████████████████████████████████████| 26/26 [00:01<00:00, 13.88it/s]\n"
     ]
    }
   ],
   "source": [
    "for gbk in tqdm(gbk_files):\n",
    "    assembly_number = get_assembly_number(pre_pattern1, gbk)\n",
    "    link = f\"{current_path}{gbk}\"\n",
    "    gbk_object = SeqIO.read(link, 'genbank')\n",
    "    gb_records.append((gbk_object, assembly_number))"
   ]
  },
  {
   "cell_type": "markdown",
   "metadata": {
    "id": "ya-4wM01v5OE"
   },
   "source": [
    "### Creating first table"
   ]
  },
  {
   "cell_type": "code",
   "execution_count": 6,
   "metadata": {},
   "outputs": [],
   "source": [
    "# Uploading info about which DNA is plasmid\n",
    "with open(f\"../../{folder_name}/data/{folder_name}_plasmid_code1.json\", \"r\") as tuples:\n",
    "    tuples = json.load(tuples)\n",
    "with open(f\"../../{folder_name}/data/{folder_name}_plasmid_code2.json\", \"r\") as dna_type:\n",
    "    dna_type = json.load(dna_type)\n",
    "tuples = [tuple(x) for x in tuples]\n",
    "plasmid_code = dict(zip(tuples, dna_type))"
   ]
  },
  {
   "cell_type": "code",
   "execution_count": 7,
   "metadata": {
    "id": "248o-4h8wHDZ"
   },
   "outputs": [
    {
     "name": "stderr",
     "output_type": "stream",
     "text": [
      "100%|████████████████████████████████████████████████████████████████████████████████████████████████████████| 26/26 [00:26<00:00,  1.01s/it]\n"
     ]
    }
   ],
   "source": [
    "# Parsing\n",
    "locus_tag, start_codone, source, n_sequence, aa_sequence, DNA_source, \\\n",
    "product, cog, p_c_unity, first_n, last_n, strand_n, \\\n",
    "length_n = [], [], [], [], [], [], [], [], [], [], [], [], []\n",
    "for record_number in tqdm(range(len(gb_records))):\n",
    "    for feature_number in range(1, len(gb_records[record_number][0].features)):\n",
    "        if gb_records[record_number][0].features[feature_number].type == \"CDS\":\n",
    "            \n",
    "            ## Column 1 -- uniq id\n",
    "            if 'locus_tag' in gb_records[record_number][0].features[feature_number].qualifiers.keys():\n",
    "                locus_tag.append(gb_records[record_number][0].features[feature_number].qualifiers['locus_tag'][0])\n",
    "            else:\n",
    "                locus_tag.append(\"absent\")\n",
    "                \n",
    "            ## Column 2 -- source\n",
    "            source.append(gb_records[record_number][0].name)\n",
    "            \n",
    "            ## Column 3, 11-14 -- nucleotide sequence & 7 -- start-codone\n",
    "            first = gb_records[record_number][0].features[feature_number].location.start\n",
    "            last = gb_records[record_number][0].features[feature_number].location.end\n",
    "            strand = gb_records[record_number][0].features[feature_number].location.strand\n",
    "            first_n.append(first)\n",
    "            last_n.append(last)\n",
    "            strand_n.append(strand)\n",
    "            length_n.append(last - first)\n",
    "            if strand == 1:\n",
    "                sequence = str(gb_records[record_number][0].seq[first:last])\n",
    "                n_sequence.append(sequence)\n",
    "                start_codone.append(sequence[0:3])\n",
    "            elif strand == -1:\n",
    "                sequence = str(gb_records[record_number][0].seq.complement()[first:last])[::-1]\n",
    "                n_sequence.append(sequence)\n",
    "                start_codone.append(sequence[0:3])\n",
    "            else:\n",
    "                n_sequence.append(\"absent\")\n",
    "                \n",
    "            ## Column 4 -- aminoacid sequence\n",
    "            if 'translation' in gb_records[record_number][0].features[feature_number].qualifiers.keys():\n",
    "                aa_sequence.append(gb_records[record_number][0].features[feature_number].qualifiers['translation'][0])\n",
    "            else:\n",
    "                aa_sequence.append(\"absent\")\n",
    "                \n",
    "            ## Column 5 -- plasmid or chromosome\n",
    "            index = re.search(r\"[\\d]+?_[\\d]+$\", gb_records[record_number][0].name)\n",
    "            pc_key = tuple([int(i) for i in index.group().split(\"_\")])\n",
    "            if plasmid_code[pc_key] == \"plasmid\":\n",
    "                DNA_source.append(\"plasmid\")\n",
    "            else:\n",
    "                DNA_source.append(\"chromosome\")\n",
    "            \n",
    "            # Column 6 -- protein, coding by this gene\n",
    "            if 'product' in gb_records[record_number][0].features[feature_number].qualifiers.keys():\n",
    "                product.append(gb_records[record_number][0].features[feature_number].qualifiers['product'][0])\n",
    "            else:\n",
    "                product.append(\"absent\")\n",
    "                \n",
    "            ## Column 7 -- COG number\n",
    "            if 'db_xref' in gb_records[record_number][0].features[feature_number].qualifiers.keys():\n",
    "                cog.append(gb_records[record_number][0].features[feature_number].qualifiers[\"db_xref\"][0][4:])\n",
    "            else:\n",
    "                cog.append(\"absent\")\n",
    "            \n",
    "            ## Column 8 -- number of molecule (for identification and further plasmid marking)\n",
    "            p_c_unity.append(gb_records[record_number][1])\n",
    "            "
   ]
  },
  {
   "cell_type": "code",
   "execution_count": 8,
   "metadata": {
    "id": "2e8OTrYR8_ho"
   },
   "outputs": [],
   "source": [
    "df1 = pd.DataFrame(\n",
    "    {\n",
    "        \"id\": pd.Series(locus_tag),\n",
    "        \"source\": pd.Series(source),\n",
    "        \"n_sequence\": pd.Series(n_sequence),\n",
    "        \"aa_sequence\": pd.Series(aa_sequence),\n",
    "        \"type_of_DNA_source\": pd.Series(DNA_source),\n",
    "        \"start_codone\": pd.Series(start_codone),\n",
    "        \"product\": pd.Series(product),\n",
    "        \"cog\": pd.Series(cog),\n",
    "        \"p_c_unity\": pd.Series(p_c_unity),\n",
    "        \"first\": pd.Series(first_n),\n",
    "        \"last\": pd.Series(last_n),\n",
    "        \"strand\": pd.Series(strand_n),\n",
    "        \"length\": pd.Series(length_n),\n",
    "    }\n",
    ")"
   ]
  },
  {
   "cell_type": "code",
   "execution_count": 9,
   "metadata": {},
   "outputs": [
    {
     "data": {
      "text/html": [
       "<div>\n",
       "<style scoped>\n",
       "    .dataframe tbody tr th:only-of-type {\n",
       "        vertical-align: middle;\n",
       "    }\n",
       "\n",
       "    .dataframe tbody tr th {\n",
       "        vertical-align: top;\n",
       "    }\n",
       "\n",
       "    .dataframe thead th {\n",
       "        text-align: right;\n",
       "    }\n",
       "</style>\n",
       "<table border=\"1\" class=\"dataframe\">\n",
       "  <thead>\n",
       "    <tr style=\"text-align: right;\">\n",
       "      <th></th>\n",
       "      <th>id</th>\n",
       "      <th>source</th>\n",
       "      <th>n_sequence</th>\n",
       "      <th>aa_sequence</th>\n",
       "      <th>type_of_DNA_source</th>\n",
       "      <th>start_codone</th>\n",
       "      <th>product</th>\n",
       "      <th>cog</th>\n",
       "      <th>p_c_unity</th>\n",
       "      <th>first</th>\n",
       "      <th>last</th>\n",
       "      <th>strand</th>\n",
       "      <th>length</th>\n",
       "      <th>atg_number</th>\n",
       "    </tr>\n",
       "  </thead>\n",
       "  <tbody>\n",
       "    <tr>\n",
       "      <th>0</th>\n",
       "      <td>GHBHKFGM_00001</td>\n",
       "      <td>S_ruber6_3</td>\n",
       "      <td>ATGCTCTTCGGCCAGCCAGCGCTGGATCTCCTTGTAACTGCCAAAT...</td>\n",
       "      <td>MLFGQPALDLLVTAKSFRLGETVFELAHHAGGNGLLTRIRAWFSNL...</td>\n",
       "      <td>plasmid</td>\n",
       "      <td>ATG</td>\n",
       "      <td>hypothetical protein</td>\n",
       "      <td>absent</td>\n",
       "      <td>6</td>\n",
       "      <td>86</td>\n",
       "      <td>296</td>\n",
       "      <td>1</td>\n",
       "      <td>210</td>\n",
       "      <td>2942</td>\n",
       "    </tr>\n",
       "    <tr>\n",
       "      <th>1</th>\n",
       "      <td>GHBHKFGM_00002</td>\n",
       "      <td>S_ruber6_3</td>\n",
       "      <td>GTGATTCTCTGTATCTGGTATAAGATCCGGGATACCCCCTGGTCAG...</td>\n",
       "      <td>MILCIWYKIRDTPWSGIPVLIRLKQRRYRCSNSNCKKTTVFQHPGV...</td>\n",
       "      <td>plasmid</td>\n",
       "      <td>GTG</td>\n",
       "      <td>hypothetical protein</td>\n",
       "      <td>absent</td>\n",
       "      <td>6</td>\n",
       "      <td>490</td>\n",
       "      <td>1834</td>\n",
       "      <td>1</td>\n",
       "      <td>1344</td>\n",
       "      <td>2942</td>\n",
       "    </tr>\n",
       "    <tr>\n",
       "      <th>2</th>\n",
       "      <td>GHBHKFGM_00003</td>\n",
       "      <td>S_ruber6_3</td>\n",
       "      <td>ATGGATGGTACTTCTGCAGACAATTTCCCTGCAAGCGATAGCTCCA...</td>\n",
       "      <td>MDGTSADNFPASDSSKSSSSNSGSPNDENRRAALYARVSTTDDRQN...</td>\n",
       "      <td>plasmid</td>\n",
       "      <td>ATG</td>\n",
       "      <td>DNA-invertase hin</td>\n",
       "      <td>COG1961</td>\n",
       "      <td>6</td>\n",
       "      <td>1980</td>\n",
       "      <td>2658</td>\n",
       "      <td>-1</td>\n",
       "      <td>678</td>\n",
       "      <td>2942</td>\n",
       "    </tr>\n",
       "    <tr>\n",
       "      <th>3</th>\n",
       "      <td>GHBHKFGM_00004</td>\n",
       "      <td>S_ruber6_3</td>\n",
       "      <td>ATGTCTGACGATCCCAGACAAGACCAAAGGCAATCTGCAGAATCCT...</td>\n",
       "      <td>MSDDPRQDQRQSAESSTRPKDHVSEISTPVGLCSDAHALYGAVAED...</td>\n",
       "      <td>plasmid</td>\n",
       "      <td>ATG</td>\n",
       "      <td>hypothetical protein</td>\n",
       "      <td>absent</td>\n",
       "      <td>6</td>\n",
       "      <td>3168</td>\n",
       "      <td>3750</td>\n",
       "      <td>-1</td>\n",
       "      <td>582</td>\n",
       "      <td>2942</td>\n",
       "    </tr>\n",
       "    <tr>\n",
       "      <th>4</th>\n",
       "      <td>GHBHKFGM_00005</td>\n",
       "      <td>S_ruber6_3</td>\n",
       "      <td>ATGATACGTCAGATGCACCGAAGTGGTCAATGGGTGTTTCACTCAA...</td>\n",
       "      <td>MIRQMHRSGQWVFHSISPFFKLFLETEIDLTGTSFCLNQGAKEVTE...</td>\n",
       "      <td>plasmid</td>\n",
       "      <td>ATG</td>\n",
       "      <td>hypothetical protein</td>\n",
       "      <td>absent</td>\n",
       "      <td>6</td>\n",
       "      <td>4063</td>\n",
       "      <td>4282</td>\n",
       "      <td>-1</td>\n",
       "      <td>219</td>\n",
       "      <td>2942</td>\n",
       "    </tr>\n",
       "    <tr>\n",
       "      <th>...</th>\n",
       "      <td>...</td>\n",
       "      <td>...</td>\n",
       "      <td>...</td>\n",
       "      <td>...</td>\n",
       "      <td>...</td>\n",
       "      <td>...</td>\n",
       "      <td>...</td>\n",
       "      <td>...</td>\n",
       "      <td>...</td>\n",
       "      <td>...</td>\n",
       "      <td>...</td>\n",
       "      <td>...</td>\n",
       "      <td>...</td>\n",
       "      <td>...</td>\n",
       "    </tr>\n",
       "    <tr>\n",
       "      <th>25440</th>\n",
       "      <td>KFBDFGIE_03140</td>\n",
       "      <td>S_ruber4_1</td>\n",
       "      <td>ATGCCACACCCCGCGTCCCGCCCGCACAACCGTCTTCTGGCACTCG...</td>\n",
       "      <td>MPHPASRPHNRLLALVPPAGRTALLGLLLLAATACGPTISEFNARA...</td>\n",
       "      <td>chromosome</td>\n",
       "      <td>ATG</td>\n",
       "      <td>hypothetical protein</td>\n",
       "      <td>absent</td>\n",
       "      <td>4</td>\n",
       "      <td>3736495</td>\n",
       "      <td>3736984</td>\n",
       "      <td>1</td>\n",
       "      <td>489</td>\n",
       "      <td>2826</td>\n",
       "    </tr>\n",
       "    <tr>\n",
       "      <th>25441</th>\n",
       "      <td>KFBDFGIE_03141</td>\n",
       "      <td>S_ruber4_1</td>\n",
       "      <td>ATGCCCGACGTTGACGCGTTTCTCGACGCCCTCAGAGACGAGGTCA...</td>\n",
       "      <td>MPDVDAFLDALRDEVTDLARTHLQEMQEAALEDGKAFLNQTQDDLK...</td>\n",
       "      <td>chromosome</td>\n",
       "      <td>ATG</td>\n",
       "      <td>hypothetical protein</td>\n",
       "      <td>absent</td>\n",
       "      <td>4</td>\n",
       "      <td>3737035</td>\n",
       "      <td>3737362</td>\n",
       "      <td>1</td>\n",
       "      <td>327</td>\n",
       "      <td>2826</td>\n",
       "    </tr>\n",
       "    <tr>\n",
       "      <th>25442</th>\n",
       "      <td>KFBDFGIE_03142</td>\n",
       "      <td>S_ruber4_1</td>\n",
       "      <td>ATGAGCGATCCAGTATCCGGCATCCACCATGTCACCGCCTACGCGC...</td>\n",
       "      <td>MSDPVSGIHHVTAYAHDPQENLDFYTGVLGLRLVKQTVLFNNPSEA...</td>\n",
       "      <td>chromosome</td>\n",
       "      <td>ATG</td>\n",
       "      <td>Putative ring-cleaving dioxygenase MhqO</td>\n",
       "      <td>COG0346</td>\n",
       "      <td>4</td>\n",
       "      <td>3737641</td>\n",
       "      <td>3738610</td>\n",
       "      <td>1</td>\n",
       "      <td>969</td>\n",
       "      <td>2826</td>\n",
       "    </tr>\n",
       "    <tr>\n",
       "      <th>25443</th>\n",
       "      <td>KFBDFGIE_03143</td>\n",
       "      <td>S_ruber4_1</td>\n",
       "      <td>ATGGAAGACATGGAAGGCCCCACCCCCGAGTTCATCGCGGCCACCT...</td>\n",
       "      <td>MEDMEGPTPEFIAATSIAQLTPLLFDAAEDVDQLGEQPEHVAVAEE...</td>\n",
       "      <td>chromosome</td>\n",
       "      <td>ATG</td>\n",
       "      <td>hypothetical protein</td>\n",
       "      <td>absent</td>\n",
       "      <td>4</td>\n",
       "      <td>3738845</td>\n",
       "      <td>3739112</td>\n",
       "      <td>1</td>\n",
       "      <td>267</td>\n",
       "      <td>2826</td>\n",
       "    </tr>\n",
       "    <tr>\n",
       "      <th>25444</th>\n",
       "      <td>KFBDFGIE_03144</td>\n",
       "      <td>S_ruber4_1</td>\n",
       "      <td>ATGAGCGATCCAGGCATTAAAGCACTCAGCAAGAAGGCAACGGAAG...</td>\n",
       "      <td>MSDPGIKALSKKATEEQAACPVTLVVSGNMVTGHIVARDTFEADTT...</td>\n",
       "      <td>chromosome</td>\n",
       "      <td>ATG</td>\n",
       "      <td>hypothetical protein</td>\n",
       "      <td>absent</td>\n",
       "      <td>4</td>\n",
       "      <td>3739198</td>\n",
       "      <td>3739579</td>\n",
       "      <td>-1</td>\n",
       "      <td>381</td>\n",
       "      <td>2826</td>\n",
       "    </tr>\n",
       "  </tbody>\n",
       "</table>\n",
       "<p>25445 rows × 14 columns</p>\n",
       "</div>"
      ],
      "text/plain": [
       "                   id      source  \\\n",
       "0      GHBHKFGM_00001  S_ruber6_3   \n",
       "1      GHBHKFGM_00002  S_ruber6_3   \n",
       "2      GHBHKFGM_00003  S_ruber6_3   \n",
       "3      GHBHKFGM_00004  S_ruber6_3   \n",
       "4      GHBHKFGM_00005  S_ruber6_3   \n",
       "...               ...         ...   \n",
       "25440  KFBDFGIE_03140  S_ruber4_1   \n",
       "25441  KFBDFGIE_03141  S_ruber4_1   \n",
       "25442  KFBDFGIE_03142  S_ruber4_1   \n",
       "25443  KFBDFGIE_03143  S_ruber4_1   \n",
       "25444  KFBDFGIE_03144  S_ruber4_1   \n",
       "\n",
       "                                              n_sequence  \\\n",
       "0      ATGCTCTTCGGCCAGCCAGCGCTGGATCTCCTTGTAACTGCCAAAT...   \n",
       "1      GTGATTCTCTGTATCTGGTATAAGATCCGGGATACCCCCTGGTCAG...   \n",
       "2      ATGGATGGTACTTCTGCAGACAATTTCCCTGCAAGCGATAGCTCCA...   \n",
       "3      ATGTCTGACGATCCCAGACAAGACCAAAGGCAATCTGCAGAATCCT...   \n",
       "4      ATGATACGTCAGATGCACCGAAGTGGTCAATGGGTGTTTCACTCAA...   \n",
       "...                                                  ...   \n",
       "25440  ATGCCACACCCCGCGTCCCGCCCGCACAACCGTCTTCTGGCACTCG...   \n",
       "25441  ATGCCCGACGTTGACGCGTTTCTCGACGCCCTCAGAGACGAGGTCA...   \n",
       "25442  ATGAGCGATCCAGTATCCGGCATCCACCATGTCACCGCCTACGCGC...   \n",
       "25443  ATGGAAGACATGGAAGGCCCCACCCCCGAGTTCATCGCGGCCACCT...   \n",
       "25444  ATGAGCGATCCAGGCATTAAAGCACTCAGCAAGAAGGCAACGGAAG...   \n",
       "\n",
       "                                             aa_sequence type_of_DNA_source  \\\n",
       "0      MLFGQPALDLLVTAKSFRLGETVFELAHHAGGNGLLTRIRAWFSNL...            plasmid   \n",
       "1      MILCIWYKIRDTPWSGIPVLIRLKQRRYRCSNSNCKKTTVFQHPGV...            plasmid   \n",
       "2      MDGTSADNFPASDSSKSSSSNSGSPNDENRRAALYARVSTTDDRQN...            plasmid   \n",
       "3      MSDDPRQDQRQSAESSTRPKDHVSEISTPVGLCSDAHALYGAVAED...            plasmid   \n",
       "4      MIRQMHRSGQWVFHSISPFFKLFLETEIDLTGTSFCLNQGAKEVTE...            plasmid   \n",
       "...                                                  ...                ...   \n",
       "25440  MPHPASRPHNRLLALVPPAGRTALLGLLLLAATACGPTISEFNARA...         chromosome   \n",
       "25441  MPDVDAFLDALRDEVTDLARTHLQEMQEAALEDGKAFLNQTQDDLK...         chromosome   \n",
       "25442  MSDPVSGIHHVTAYAHDPQENLDFYTGVLGLRLVKQTVLFNNPSEA...         chromosome   \n",
       "25443  MEDMEGPTPEFIAATSIAQLTPLLFDAAEDVDQLGEQPEHVAVAEE...         chromosome   \n",
       "25444  MSDPGIKALSKKATEEQAACPVTLVVSGNMVTGHIVARDTFEADTT...         chromosome   \n",
       "\n",
       "      start_codone                                  product      cog  \\\n",
       "0              ATG                     hypothetical protein   absent   \n",
       "1              GTG                     hypothetical protein   absent   \n",
       "2              ATG                        DNA-invertase hin  COG1961   \n",
       "3              ATG                     hypothetical protein   absent   \n",
       "4              ATG                     hypothetical protein   absent   \n",
       "...            ...                                      ...      ...   \n",
       "25440          ATG                     hypothetical protein   absent   \n",
       "25441          ATG                     hypothetical protein   absent   \n",
       "25442          ATG  Putative ring-cleaving dioxygenase MhqO  COG0346   \n",
       "25443          ATG                     hypothetical protein   absent   \n",
       "25444          ATG                     hypothetical protein   absent   \n",
       "\n",
       "      p_c_unity    first     last  strand  length  atg_number  \n",
       "0             6       86      296       1     210        2942  \n",
       "1             6      490     1834       1    1344        2942  \n",
       "2             6     1980     2658      -1     678        2942  \n",
       "3             6     3168     3750      -1     582        2942  \n",
       "4             6     4063     4282      -1     219        2942  \n",
       "...         ...      ...      ...     ...     ...         ...  \n",
       "25440         4  3736495  3736984       1     489        2826  \n",
       "25441         4  3737035  3737362       1     327        2826  \n",
       "25442         4  3737641  3738610       1     969        2826  \n",
       "25443         4  3738845  3739112       1     267        2826  \n",
       "25444         4  3739198  3739579      -1     381        2826  \n",
       "\n",
       "[25445 rows x 14 columns]"
      ]
     },
     "execution_count": 9,
     "metadata": {},
     "output_type": "execute_result"
    }
   ],
   "source": [
    "assembly_stata = pd.DataFrame(df1.groupby(\"p_c_unity\").apply(lambda x: x.query(\"start_codone == 'ATG'\").shape[0]), )\n",
    "assembly_stata.columns = [\"atg_number\"]\n",
    "df1 = df1.merge(assembly_stata, on=\"p_c_unity\")\n",
    "k = assembly_stata[\"atg_number\"].median()\n",
    "df1 = df1.query(\"atg_number > @k/2\")\n",
    "df1"
   ]
  },
  {
   "cell_type": "markdown",
   "metadata": {
    "id": "pn69F4e1d3rQ"
   },
   "source": [
    "For recoding COGs from ids to categories I have downloaded tsvs with all categories and appropriate COGs and have created python dictionary.\n",
    "Firstly I have uploaded tsvs to folder on google drive."
   ]
  },
  {
   "cell_type": "code",
   "execution_count": 10,
   "metadata": {
    "id": "0yBHPpptpWCx"
   },
   "outputs": [
    {
     "name": "stderr",
     "output_type": "stream",
     "text": [
      "100%|███████████████████████████████████████████████████████████████████████████████████████████████████████| 26/26 [00:00<00:00, 563.55it/s]\n"
     ]
    }
   ],
   "source": [
    "# Creating cog dictionary\n",
    "cog_dict = {}\n",
    "current_path = \"../../data/bigcog/\"\n",
    "cog_cats = os.listdir(current_path)\n",
    "for cog_cat in tqdm(cog_cats):\n",
    "    table = pd.read_csv(f\"{current_path}{cog_cat}\", sep=\"\\t\")\n",
    "    if len(table.Cat):\n",
    "        cat = table.Cat.tolist()\n",
    "        cat_ful = list(map(lambda x: x.split(\" \"),cat))\n",
    "        cat_ful_single = list(chain.from_iterable(cat_ful))\n",
    "        key = max(cat_ful_single, key = cat_ful_single.count)\n",
    "        value = table.COG.tolist()\n",
    "        cog_dict[key] = value\n",
    "cog_dict[\"S\"].append(\"absent\")"
   ]
  },
  {
   "cell_type": "markdown",
   "metadata": {
    "id": "J2LzibiOtE-q"
   },
   "source": [
    "On the next stage I have created 25 new columns for dataset, each contained data if protein has this COG."
   ]
  },
  {
   "cell_type": "code",
   "execution_count": 11,
   "metadata": {
    "id": "G586jo7svBP8"
   },
   "outputs": [
    {
     "name": "stderr",
     "output_type": "stream",
     "text": [
      "100%|████████████████████████████████████████████████████████████████████████████████████████████████████████| 25/25 [00:00<00:00, 27.06it/s]\n"
     ]
    }
   ],
   "source": [
    "# Adding 25 columns to dataset\n",
    "for key in tqdm(cog_dict.keys()):   # Passing over COG categories\n",
    "    cog_list = []             # For each category create list\n",
    "    for cog_id in cog:        # Passing out every item\n",
    "        if cog_id not in cog_dict[key]:     # For every gene, if gene's id not in dict\n",
    "            cog_list.append(0)              # Mark it\n",
    "        else:                               \n",
    "            cog_list.append(1)              # Else mark another\n",
    "    df1[key] = pd.Series(cog_list)   # Creating 25 new columns"
   ]
  },
  {
   "cell_type": "code",
   "execution_count": 12,
   "metadata": {},
   "outputs": [],
   "source": [
    "df1.to_csv(f\"../../{folder_name}/data/First_table.csv\", index=False)"
   ]
  },
  {
   "cell_type": "code",
   "execution_count": 13,
   "metadata": {},
   "outputs": [
    {
     "name": "stderr",
     "output_type": "stream",
     "text": [
      "100%|██████████████████████████████████████████████████████████████████████████████████████████████████████████| 8/8 [00:00<00:00,  9.89it/s]\n"
     ]
    }
   ],
   "source": [
    "for source in tqdm(set(df1[\"p_c_unity\"])):\n",
    "    subset = df1[df1[\"p_c_unity\"] == source]\n",
    "    with open (f\"../../{folder_name}/data/orto_rows/{folder_name}{str(source)}.fasta\", \"w\") as protein_fasta:\n",
    "        for index, row in subset.iterrows():\n",
    "            #if row['type_of_the_gene'] != \"pseudogene\":   # It will be actual, if we will found pseudogenes again\n",
    "            protein_fasta.write(\">\")\n",
    "            protein_fasta.write(row[\"id\"])\n",
    "            protein_fasta.write(\"_\")\n",
    "            protein_fasta.write(row[\"source\"])\n",
    "            protein_fasta.write(\"\\n\")\n",
    "            protein_fasta.write(row[\"aa_sequence\"])\n",
    "            protein_fasta.write(\"\\n\")"
   ]
  }
 ],
 "metadata": {
  "colab": {
   "collapsed_sections": [
    "-WDRF29W3SyR",
    "c8yV-DwPre6C",
    "kyeKwO01rj1G",
    "Zyu27Lga0wWR",
    "dc_xdF-VxoMY",
    "2vlUfrmdJmyr",
    "qlF4YG3srZrF",
    "uuQtazSJwK_s",
    "N3J1A7ThS3Xz",
    "Kk6luKhoS3X0",
    "XrODV9lQS3X0"
   ],
   "provenance": [],
   "toc_visible": true
  },
  "kernelspec": {
   "display_name": "Python 3 (ipykernel)",
   "language": "python",
   "name": "python3"
  },
  "language_info": {
   "codemirror_mode": {
    "name": "ipython",
    "version": 3
   },
   "file_extension": ".py",
   "mimetype": "text/x-python",
   "name": "python",
   "nbconvert_exporter": "python",
   "pygments_lexer": "ipython3",
   "version": "3.9.13"
  }
 },
 "nbformat": 4,
 "nbformat_minor": 1
}
