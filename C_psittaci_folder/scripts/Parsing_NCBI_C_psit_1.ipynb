{
 "cells": [
  {
   "cell_type": "markdown",
   "metadata": {
    "id": "YQRjC7EjcVWY"
   },
   "source": [
    "# Bogdan Sotnikov"
   ]
  },
  {
   "cell_type": "markdown",
   "metadata": {
    "id": "DTOWjLn73FjG"
   },
   "source": [
    "### Installing packages"
   ]
  },
  {
   "cell_type": "code",
   "execution_count": 1,
   "metadata": {
    "colab": {
     "base_uri": "https://localhost:8080/"
    },
    "id": "iIn18S_j2Ra4",
    "outputId": "af660329-370e-4e43-8e9d-1a6f1fdd1c9e"
   },
   "outputs": [],
   "source": [
    "# Installing packages\n",
    "#!pip3 install pandas\n",
    "#!pip3 install biopython\n",
    "\n",
    "# Importing packages\n",
    "import Bio\n",
    "import math\n",
    "import os\n",
    "import sys\n",
    "import re\n",
    "import json\n",
    "import numpy as np\n",
    "import pandas as pd\n",
    "import seaborn as sns\n",
    "import matplotlib.pyplot as plt\n",
    "from Bio.Seq import Seq\n",
    "from Bio import SeqIO\n",
    "from Bio.Data import CodonTable\n",
    "from Bio.SeqRecord import SeqRecord\n",
    "from Bio import Entrez\n",
    "from itertools import chain\n",
    "from tqdm import tqdm\n",
    "#from google.colab import files   # For working with colab only\n",
    "#from google.colab import drive   # For working with colab only\n",
    "\n",
    "# Asserting email for Entrez\n",
    "Entrez.email = \"bogdan.sotnikov.1999@mail.ru\"\n",
    "\n",
    "# Google drive mounting\n",
    "#drive.mount('/content/gdrive')    # For working with colab only"
   ]
  },
  {
   "cell_type": "markdown",
   "metadata": {
    "id": "L95AEQ-607tG"
   },
   "source": [
    "After reading documentation of [biopython tutorial](http://biopython.org/DIST/docs/tutorial/Tutorial.pdf), [Entrez documentation](https://www.ncbi.nlm.nih.gov/books/NBK25499/#_chapter4_EFetch_) and some additional resources ([ref1](https://notebook.community/widdowquinn/Teaching-EMBL-Plant-Path-Genomics/worksheets/01-downloading_data_biopython), [ref2](https://dmnfarrell.github.io/bioinformatics/assemblies-genbank-python)) I had idea about the parsing pipeline.\n",
    "\n",
    "1. I need to use ESearch twice. Firstly for identifying the count of assembles of interest, and then with retmax equal count from the first search.\n",
    "The example below will be executed on the full-genome assembles of *Chlamydia psittaci* and after then will be rewrited to general form."
   ]
  },
  {
   "cell_type": "markdown",
   "metadata": {
    "id": "5Zj_u_Sk3_QV"
   },
   "source": [
    "I have known there are only 27 complete genome assemblies of *Chlamydia psittaci* and only 83 assemblies overall. But I have had 105 ids.\n",
    "\n",
    "2. The second step of pipeline was to identify, which of these ids belong to complete assemblied genomes. I used esummary for this purpose.\n",
    "\n",
    "3. On this stage I used [list of Entrez links' abbreviations](https://eutils.ncbi.nlm.nih.gov/entrez/query/static/entrezlinks.html) and modified code [from this source](https://notebook.community/widdowquinn/Teaching-EMBL-Plant-Path-Genomics/worksheets/01-downloading_data_biopython) \n",
    "\n",
    "**NB: All th code between this block and day 4 is only of historical interest.**"
   ]
  },
  {
   "cell_type": "markdown",
   "metadata": {
    "id": "7sCKxjRiMTm4"
   },
   "source": [
    "Final pipeline:\n",
    "\n",
    "1. Searching of *Chlamydia psittaci* ids.\n",
    "2. Filtering only complete assemblies.\n",
    "3. Creating a function for filtering only GenBank ids.\n",
    "4. Taking accession numbers for GenBank and using function, created on the previous step.\n",
    "5. Downloading .gbk files.\n",
    "6. Parsing them and creating a pandas dataframe with locus_tag source of the gene, nucleotide and aminoacid sequence."
   ]
  },
  {
   "cell_type": "code",
   "execution_count": 2,
   "metadata": {},
   "outputs": [],
   "source": [
    "# Code from source above, with modifications. It is for choosing GenBank nucleotide data only.\n",
    "def extract_insdc(links):\n",
    "    linkset = [ls for ls in links[0]['LinkSetDb'] if\n",
    "              ls['LinkName'] == 'assembly_nuccore_insdc']\n",
    "    if 0 != len(linkset):\n",
    "        uids = [link['Id'] for link in linkset[0]['Link']]\n",
    "    else:\n",
    "        uids = 0\n",
    "    return uids"
   ]
  },
  {
   "cell_type": "code",
   "execution_count": 3,
   "metadata": {
    "id": "eLfZd17e6IaD"
   },
   "outputs": [],
   "source": [
    "# Creating a variables for futher work with links\n",
    "organism = \"Chlamydia psittaci\"\n",
    "db_search = \"assembly\"\n",
    "db_current = \"nucleotide\""
   ]
  },
  {
   "cell_type": "code",
   "execution_count": 4,
   "metadata": {
    "id": "eLfZd17e6IaD"
   },
   "outputs": [],
   "source": [
    "# First searching helps to count complete number of links\n",
    "search_handle = Entrez.esearch(db=db_search, term=organism)\n",
    "search_record = Entrez.read(search_handle)\n",
    "count = int(search_record[\"Count\"])\n",
    "\n",
    "# Second searching\n",
    "search_handle = Entrez.esearch(db=db_search, term=organism, retmax=count)\n",
    "search_record = Entrez.read(search_handle)"
   ]
  },
  {
   "cell_type": "code",
   "execution_count": 5,
   "metadata": {
    "id": "6uoWq5E3GdTD"
   },
   "outputs": [
    {
     "name": "stderr",
     "output_type": "stream",
     "text": [
      "100%|██████████████████████████████████████████████████████████████████████████████████████████████████████| 105/105 [01:58<00:00,  1.13s/it]\n"
     ]
    }
   ],
   "source": [
    "# Getting summary about links\n",
    "idlist = search_record[\"IdList\"]\n",
    "complete_ids = []   # List of full completed genomes' ids\n",
    "for ids in tqdm(idlist):\n",
    "    handle = Entrez.esummary(db=db_search, id=ids)\n",
    "    record = Entrez.read(handle)\n",
    "    if record['DocumentSummarySet']['DocumentSummary'][0]['AssemblyStatus'] == \"Complete Genome\":\n",
    "        complete_ids.append(ids)"
   ]
  },
  {
   "cell_type": "code",
   "execution_count": 6,
   "metadata": {
    "id": "hmHfpdhjGdZy"
   },
   "outputs": [
    {
     "name": "stderr",
     "output_type": "stream",
     "text": [
      "100%|████████████████████████████████████████████████████████████████████████████████████████████████████████| 35/35 [00:37<00:00,  1.08s/it]\n"
     ]
    }
   ],
   "source": [
    "# Taking ids for fetching. It collected all non-duplicated links in nucleotide database from assembly database.\n",
    "\n",
    "links = []\n",
    "links_checked = []\n",
    "n = 0\n",
    "for complete_id in tqdm(complete_ids):\n",
    "    link_handle = Entrez.elink(dbfrom=db_search, db=db_current, from_uid=complete_id)\n",
    "    link_record = Entrez.read(link_handle)\n",
    "    uids = extract_insdc(link_record)\n",
    "    if uids != 0:\n",
    "        for uid in uids:\n",
    "            if uid not in links_checked:    # Checking for duplicates\n",
    "                links_checked.append(uid)\n",
    "                links.append((uid, n))\n",
    "                cumulative = 1\n",
    "            else:\n",
    "                cumulative = 0\n",
    "        n += cumulative"
   ]
  },
  {
   "cell_type": "code",
   "execution_count": 7,
   "metadata": {
    "id": "k1ML26sxCden"
   },
   "outputs": [
    {
     "name": "stderr",
     "output_type": "stream",
     "text": [
      "100%|████████████████████████████████████████████████████████████████████████████████████████████████████████| 47/47 [05:23<00:00,  6.89s/it]\n"
     ]
    }
   ],
   "source": [
    "# Collecting data about assemblies\n",
    "gb_records = []\n",
    "for link in tqdm(links):\n",
    "    gb_handle = Entrez.efetch(db=db_current, rettype=\"gb\", retmode=\"text\", id=link[0])\n",
    "    gb_record = SeqIO.read(gb_handle, 'genbank')\n",
    "    gb_records.append((gb_record, link[1]))"
   ]
  },
  {
   "cell_type": "code",
   "execution_count": 8,
   "metadata": {},
   "outputs": [
    {
     "name": "stderr",
     "output_type": "stream",
     "text": [
      "100%|████████████████████████████████████████████████████████████████████████████████████████████████████| 47/47 [00:00<00:00, 439047.41it/s]\n"
     ]
    }
   ],
   "source": [
    "# Creating a dictionary, which makes matching berween number of record and type of DNA source: chromosome or plasmid\n",
    "plasmid_code = {}\n",
    "for record_number in tqdm(range(len(gb_records))):\n",
    "    if \"plasmid\" in gb_records[record_number][0].description:\n",
    "        plasmid_code[record_number] = \"plasmid\"\n",
    "    else:\n",
    "        plasmid_code[record_number] = \"chromosome\""
   ]
  },
  {
   "cell_type": "markdown",
   "metadata": {},
   "source": [
    "On the next stage we need to create fasta files for each assembly, to reaanotate them."
   ]
  },
  {
   "cell_type": "code",
   "execution_count": 32,
   "metadata": {},
   "outputs": [],
   "source": [
    "!mkdir ../data/for_prokka_fasta"
   ]
  },
  {
   "cell_type": "code",
   "execution_count": null,
   "metadata": {},
   "outputs": [],
   "source": [
    "source_list = []   # Creating list for identyfing the number of every assemblie DNA molecules (chromosome and any plasmids)\n",
    "name = \"C_psittaci\"\n",
    "for rec in tqdm(gb_records):\n",
    "    source = rec[1] # Number of assembly\n",
    "    source_list.append(source) \n",
    "    number  = source_list.count(source) # Counting the DNA molecule of assembly\n",
    "    mask = f\"{name}{source}_{number}\"\n",
    "    with open (\"../data/for_prokka_fasta/\" + mask + \".fasta\", \"w\") as for_prokka_fasta:\n",
    "        for_prokka_fasta.write(\">\")\n",
    "        for_prokka_fasta.write(mask)\n",
    "        for_prokka_fasta.write(\"\\n\")\n",
    "        for_prokka_fasta.write(str(rec[0].seq))\n",
    "        for_prokka_fasta.write(\"\\n\")"
   ]
  },
  {
   "cell_type": "code",
   "execution_count": 10,
   "metadata": {},
   "outputs": [],
   "source": [
    "# Saving plasmid_code\n",
    "jsonpc = json.dumps(plasmid_code)\n",
    "with open(f\"../data/{name}_plasmid_code.json\", \"w\") as jspc:\n",
    "    jspc.write(jsonpc)"
   ]
  }
 ],
 "metadata": {
  "colab": {
   "collapsed_sections": [
    "-WDRF29W3SyR",
    "c8yV-DwPre6C",
    "kyeKwO01rj1G",
    "Zyu27Lga0wWR",
    "dc_xdF-VxoMY",
    "2vlUfrmdJmyr",
    "qlF4YG3srZrF",
    "uuQtazSJwK_s",
    "N3J1A7ThS3Xz",
    "Kk6luKhoS3X0",
    "XrODV9lQS3X0"
   ],
   "provenance": [],
   "toc_visible": true
  },
  "kernelspec": {
   "display_name": "Python 3 (ipykernel)",
   "language": "python",
   "name": "python3"
  },
  "language_info": {
   "codemirror_mode": {
    "name": "ipython",
    "version": 3
   },
   "file_extension": ".py",
   "mimetype": "text/x-python",
   "name": "python",
   "nbconvert_exporter": "python",
   "pygments_lexer": "ipython3",
   "version": "3.9.13"
  }
 },
 "nbformat": 4,
 "nbformat_minor": 1
}
