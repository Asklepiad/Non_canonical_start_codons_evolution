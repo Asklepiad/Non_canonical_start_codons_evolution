{
 "cells": [
  {
   "cell_type": "markdown",
   "metadata": {
    "id": "rK9byz6M-4gr"
   },
   "source": [
    "### Uploading the data"
   ]
  },
  {
   "cell_type": "code",
   "execution_count": 1,
   "metadata": {},
   "outputs": [],
   "source": [
    "import os\n",
    "import sys\n",
    "import json\n",
    "import re\n",
    "import argparse\n",
    "import shutil\n",
    "import numpy as np\n",
    "import pandas as pd\n",
    "from tqdm import tqdm\n",
    "from Bio.Seq import Seq\n",
    "from itertools import chain\n",
    "from Bio import SeqIO\n",
    "from Bio.SeqRecord import SeqRecord\n",
    "from Bio import Entrez\n",
    "Entrez.email = \"bogdan.sotnikov.1999@mail.ru\""
   ]
  },
  {
   "cell_type": "code",
   "execution_count": null,
   "metadata": {},
   "outputs": [],
   "source": [
    "parser = argparse.ArgumentParser()\n",
    "\n",
    "parser.add_argument(\"folder_name\", type=str)\n",
    "\n",
    "arguments = parser.parse_args()\n",
    "\n",
    "folder_name = arguments.folder_name"
   ]
  },
  {
   "cell_type": "code",
   "execution_count": 2,
   "metadata": {},
   "outputs": [],
   "source": [
    "folder_name = \"C_psittaci\""
   ]
  },
  {
   "cell_type": "code",
   "execution_count": 3,
   "metadata": {
    "id": "qTr549eT0tml"
   },
   "outputs": [],
   "source": [
    "# Function for parsing assembly number\n",
    "def get_assembly_number(pre_pattern1, string):\n",
    "    pre_pattern2 = r\"_[\\d]+?\\.gbk\"\n",
    "    first_bound = re.search(pre_pattern1, string)\n",
    "    second_bound = re.search(pre_pattern2, string)\n",
    "    result = string[first_bound.end():(second_bound.start())]\n",
    "    return result"
   ]
  },
  {
   "cell_type": "code",
   "execution_count": 4,
   "metadata": {
    "id": "yjqDsdd99_20"
   },
   "outputs": [
    {
     "name": "stderr",
     "output_type": "stream",
     "text": [
      "100%|████████████████████████████████████████████████████████████████████████████████████████████████████████| 47/47 [00:02<00:00, 22.57it/s]\n"
     ]
    }
   ],
   "source": [
    "# Uploading the data \n",
    "current_path = f\"../{folder_name}/data/{folder_name}_annotate/\" # Path directory\n",
    "pre_pattern1 = f\"{folder_name}\"\n",
    "gb_records= []  # Reasserting the gb_records list\n",
    "gbk_files = os.listdir(current_path)\n",
    "\n",
    "for gbk in tqdm(gbk_files):\n",
    "    assembly_number = get_assembly_number(pre_pattern1, gbk)\n",
    "    link = f\"{current_path}{gbk}\"\n",
    "    gbk_object = SeqIO.read(link, 'genbank')\n",
    "    gb_records.append((gbk_object, assembly_number))"
   ]
  },
  {
   "cell_type": "markdown",
   "metadata": {
    "id": "ya-4wM01v5OE"
   },
   "source": [
    "### Creating first table"
   ]
  },
  {
   "cell_type": "code",
   "execution_count": 22,
   "metadata": {},
   "outputs": [],
   "source": [
    "# Uploading info about which DNA is plasmid\n",
    "with open(f\"../{folder_name}/data//{folder_name}_plasmid_code1.json\", \"r\") as tuples:\n",
    "    tuples = json.load(tuples)\n",
    "with open(f\"../{folder_name}/data/{folder_name}_plasmid_code2.json\", \"r\") as dna_type:\n",
    "    dna_type = json.load(dna_type)\n",
    "tuples = [tuple(x) for x in tuples]\n",
    "plasmid_code = dict(zip(tuples, dna_type))"
   ]
  },
  {
   "cell_type": "code",
   "execution_count": 23,
   "metadata": {
    "id": "248o-4h8wHDZ"
   },
   "outputs": [
    {
     "name": "stderr",
     "output_type": "stream",
     "text": [
      "100%|████████████████████████████████████████████████████████████████████████████████████████████████████████| 47/47 [00:08<00:00,  5.23it/s]\n"
     ]
    }
   ],
   "source": [
    "# Parsing\n",
    "locus_tag, start_codone, source, n_sequence, aa_sequence, DNA_source, gene_pseudogene, \\\n",
    "product, cog, p_c_unity, additional_info, first_n, last_n, strand_n, \\\n",
    "length_n = [], [], [], [], [], [], [], [], [], [], [], [], [], [], []\n",
    "for record_number in tqdm(range(len(gb_records))):\n",
    "    for feature_number in range(1, len(gb_records[record_number][0].features)):\n",
    "        if gb_records[record_number][0].features[feature_number].type == \"CDS\":\n",
    "            \n",
    "            ## Column 1 -- uniq id\n",
    "            if 'locus_tag' in gb_records[record_number][0].features[feature_number].qualifiers.keys():\n",
    "                locus_tag.append(gb_records[record_number][0].features[feature_number].qualifiers['locus_tag'][0])\n",
    "            else:\n",
    "                locus_tag.append(\"absent\")\n",
    "                \n",
    "            ## Column 2 -- source\n",
    "            source.append(gb_records[record_number][0].name)\n",
    "            \n",
    "            ## Column 3, 11-14 -- nucleotide sequence & 7 -- start-codone\n",
    "            first = gb_records[record_number][0].features[feature_number].location.start\n",
    "            last = gb_records[record_number][0].features[feature_number].location.end\n",
    "            strand = gb_records[record_number][0].features[feature_number].location.strand\n",
    "            first_n.append(first)\n",
    "            last_n.append(last)\n",
    "            strand_n.append(strand)\n",
    "            length_n.append(last - first)\n",
    "            if strand == 1:\n",
    "                sequence = str(gb_records[record_number][0].seq[first:last])\n",
    "                n_sequence.append(sequence)\n",
    "                start_codone.append(sequence[0:3])\n",
    "            elif strand == -1:\n",
    "                sequence = str(gb_records[record_number][0].seq.complement()[first:last])[::-1]\n",
    "                n_sequence.append(sequence)\n",
    "                start_codone.append(sequence[0:3])\n",
    "            else:\n",
    "                n_sequence.append(\"absent\")\n",
    "                \n",
    "            ## Column 4 -- aminoacid sequence\n",
    "            if 'translation' in gb_records[record_number][0].features[feature_number].qualifiers.keys():\n",
    "                aa_sequence.append(gb_records[record_number][0].features[feature_number].qualifiers['translation'][0])\n",
    "            else:\n",
    "                aa_sequence.append(\"absent\")\n",
    "                \n",
    "            ## Column 5 -- plasmid or chromosome\n",
    "            index = re.search(r\"[\\d]+?_[\\d]+$\", gb_records[record_number][0].name)\n",
    "            pc_key = tuple([int(i) for i in index.group().split(\"_\")])\n",
    "            if plasmid_code[pc_key] == \"plasmid\":\n",
    "                DNA_source.append(\"plasmid\")\n",
    "            else:\n",
    "                DNA_source.append(\"chromosome\")\n",
    "\n",
    "#             ## Column 6 -- gene or pseudogene\n",
    "            \n",
    "            # Column 7 -- protein, coding by this gene\n",
    "            if 'product' in gb_records[record_number][0].features[feature_number].qualifiers.keys():\n",
    "                product.append(gb_records[record_number][0].features[feature_number].qualifiers['product'][0])\n",
    "            else:\n",
    "                product.append(\"NA\")\n",
    "                \n",
    "            ## Column 8 -- COG number\n",
    "            if 'db_xref' in gb_records[record_number][0].features[feature_number].qualifiers.keys():\n",
    "                cog.append(gb_records[record_number][0].features[feature_number].qualifiers[\"db_xref\"][0][4:])\n",
    "            else:\n",
    "                cog.append(\"absent\")\n",
    "            \n",
    "            ## Column 9 -- number of molecule (for identification and further plasmid marking)\n",
    "            p_c_unity.append(gb_records[record_number][1])\n",
    "            \n",
    "            ## Column 10 -- Record and feature number\n",
    "            additional_info.append((gb_records[record_number][1], feature_number))\n",
    "            "
   ]
  },
  {
   "cell_type": "code",
   "execution_count": 24,
   "metadata": {
    "id": "2e8OTrYR8_ho"
   },
   "outputs": [
    {
     "name": "stderr",
     "output_type": "stream",
     "text": [
      "/tmp/ipykernel_12812/186265296.py:8: FutureWarning: The default dtype for empty Series will be 'object' instead of 'float64' in a future version. Specify a dtype explicitly to silence this warning.\n",
      "  \"type_of_the_gene\": pd.Series(gene_pseudogene),\n"
     ]
    }
   ],
   "source": [
    "df1 = pd.DataFrame(\n",
    "    {\n",
    "        \"id\": pd.Series(locus_tag),\n",
    "        \"source\": pd.Series(source),\n",
    "        \"n_sequence\": pd.Series(n_sequence),\n",
    "        \"aa_sequence\": pd.Series(aa_sequence),\n",
    "        \"type_of_DNA_source\": pd.Series(DNA_source),\n",
    "        \"type_of_the_gene\": pd.Series(gene_pseudogene),\n",
    "        \"start_codone\": pd.Series(start_codone),\n",
    "        \"product\": pd.Series(product),\n",
    "        \"cog\": pd.Series(cog),\n",
    "        \"p_c_unity\": pd.Series(p_c_unity),\n",
    "        \"additional_info\": pd.Series(additional_info),\n",
    "        \"first\": pd.Series(first_n),\n",
    "        \"last\": pd.Series(last_n),\n",
    "        \"strand\": pd.Series(strand_n),\n",
    "        \"length\": pd.Series(length_n),\n",
    "    }\n",
    ")"
   ]
  },
  {
   "cell_type": "code",
   "execution_count": 25,
   "metadata": {},
   "outputs": [
    {
     "data": {
      "text/html": [
       "<div>\n",
       "<style scoped>\n",
       "    .dataframe tbody tr th:only-of-type {\n",
       "        vertical-align: middle;\n",
       "    }\n",
       "\n",
       "    .dataframe tbody tr th {\n",
       "        vertical-align: top;\n",
       "    }\n",
       "\n",
       "    .dataframe thead th {\n",
       "        text-align: right;\n",
       "    }\n",
       "</style>\n",
       "<table border=\"1\" class=\"dataframe\">\n",
       "  <thead>\n",
       "    <tr style=\"text-align: right;\">\n",
       "      <th></th>\n",
       "      <th>id</th>\n",
       "      <th>source</th>\n",
       "      <th>n_sequence</th>\n",
       "      <th>aa_sequence</th>\n",
       "      <th>type_of_DNA_source</th>\n",
       "      <th>type_of_the_gene</th>\n",
       "      <th>start_codone</th>\n",
       "      <th>product</th>\n",
       "      <th>cog</th>\n",
       "      <th>p_c_unity</th>\n",
       "      <th>additional_info</th>\n",
       "      <th>first</th>\n",
       "      <th>last</th>\n",
       "      <th>strand</th>\n",
       "      <th>length</th>\n",
       "    </tr>\n",
       "  </thead>\n",
       "  <tbody>\n",
       "    <tr>\n",
       "      <th>0</th>\n",
       "      <td>LEBECCED_00001</td>\n",
       "      <td>C_psittaci4_1</td>\n",
       "      <td>GTGGTAGACTTTGCAACTTTAGGTGGTAGACTTTTGGTTGAAAAAA...</td>\n",
       "      <td>MVDFATLGGRLLVEKNLDCARLVHYKILRLSMSGLSHHHKSRLFLT...</td>\n",
       "      <td>plasmid</td>\n",
       "      <td>NaN</td>\n",
       "      <td>GTG</td>\n",
       "      <td>hypothetical protein</td>\n",
       "      <td>absent</td>\n",
       "      <td>4</td>\n",
       "      <td>(4, 1)</td>\n",
       "      <td>16</td>\n",
       "      <td>1033</td>\n",
       "      <td>-1</td>\n",
       "      <td>1017</td>\n",
       "    </tr>\n",
       "    <tr>\n",
       "      <th>1</th>\n",
       "      <td>LEBECCED_00002</td>\n",
       "      <td>C_psittaci4_1</td>\n",
       "      <td>GTGAGTAAATTAACTAAAGAAGCATCCGCTTTTTTTCAAAAGAATC...</td>\n",
       "      <td>MSKLTKEASAFFQKNQENTTKEFLKKEFAMDVFSVSLSDIEKEQIE...</td>\n",
       "      <td>plasmid</td>\n",
       "      <td>NaN</td>\n",
       "      <td>GTG</td>\n",
       "      <td>hypothetical protein</td>\n",
       "      <td>absent</td>\n",
       "      <td>4</td>\n",
       "      <td>(4, 2)</td>\n",
       "      <td>1161</td>\n",
       "      <td>1902</td>\n",
       "      <td>-1</td>\n",
       "      <td>741</td>\n",
       "    </tr>\n",
       "    <tr>\n",
       "      <th>2</th>\n",
       "      <td>LEBECCED_00003</td>\n",
       "      <td>C_psittaci4_1</td>\n",
       "      <td>GTGAAAACGCTAGCATTTTGTTCTTTTAAAGGTGGTACTGGGAAAA...</td>\n",
       "      <td>MKTLAFCSFKGGTGKTTLSLNIGSNLAQVSRKKVLLVDLDPQANLT...</td>\n",
       "      <td>plasmid</td>\n",
       "      <td>NaN</td>\n",
       "      <td>GTG</td>\n",
       "      <td>Sporulation initiation inhibitor protein Soj</td>\n",
       "      <td>COG1192</td>\n",
       "      <td>4</td>\n",
       "      <td>(4, 3)</td>\n",
       "      <td>1898</td>\n",
       "      <td>2678</td>\n",
       "      <td>-1</td>\n",
       "      <td>780</td>\n",
       "    </tr>\n",
       "    <tr>\n",
       "      <th>3</th>\n",
       "      <td>LEBECCED_00004</td>\n",
       "      <td>C_psittaci4_1</td>\n",
       "      <td>GTGGTTTTATATGAAAAAATCATACGTCTATTTACTGGAGAGATTA...</td>\n",
       "      <td>MVLYEKIIRLFTGEIMNDKQNMTNDFIKIVKDVEKDFPELDIKMKV...</td>\n",
       "      <td>plasmid</td>\n",
       "      <td>NaN</td>\n",
       "      <td>GTG</td>\n",
       "      <td>hypothetical protein</td>\n",
       "      <td>absent</td>\n",
       "      <td>4</td>\n",
       "      <td>(4, 4)</td>\n",
       "      <td>2708</td>\n",
       "      <td>3062</td>\n",
       "      <td>-1</td>\n",
       "      <td>354</td>\n",
       "    </tr>\n",
       "    <tr>\n",
       "      <th>4</th>\n",
       "      <td>LEBECCED_00005</td>\n",
       "      <td>C_psittaci4_1</td>\n",
       "      <td>ATGGGTAATTCTGGTTTTTACTTAAATGACACCCAAAATTGTGTAT...</td>\n",
       "      <td>MGNSGFYLNDTQNCVFADNIKLGQMESPLQDQQLILGTKSTPTAAK...</td>\n",
       "      <td>plasmid</td>\n",
       "      <td>NaN</td>\n",
       "      <td>ATG</td>\n",
       "      <td>Virulence plasmid protein pGP3-D</td>\n",
       "      <td>absent</td>\n",
       "      <td>4</td>\n",
       "      <td>(4, 5)</td>\n",
       "      <td>3111</td>\n",
       "      <td>3906</td>\n",
       "      <td>-1</td>\n",
       "      <td>795</td>\n",
       "    </tr>\n",
       "    <tr>\n",
       "      <th>...</th>\n",
       "      <td>...</td>\n",
       "      <td>...</td>\n",
       "      <td>...</td>\n",
       "      <td>...</td>\n",
       "      <td>...</td>\n",
       "      <td>...</td>\n",
       "      <td>...</td>\n",
       "      <td>...</td>\n",
       "      <td>...</td>\n",
       "      <td>...</td>\n",
       "      <td>...</td>\n",
       "      <td>...</td>\n",
       "      <td>...</td>\n",
       "      <td>...</td>\n",
       "      <td>...</td>\n",
       "    </tr>\n",
       "    <tr>\n",
       "      <th>27330</th>\n",
       "      <td>OCODBOIF_01040</td>\n",
       "      <td>C_psittaci11_1</td>\n",
       "      <td>ATGCTTACGGATAAAATTATATTATTTGTTACCGAAGACAGTAGTA...</td>\n",
       "      <td>MLTDKIILFVTEDSSISLQLKEFAQNVEYNIVVSSTLTDTPEADLI...</td>\n",
       "      <td>chromosome</td>\n",
       "      <td>NaN</td>\n",
       "      <td>ATG</td>\n",
       "      <td>Atypical response regulator protein ChxR</td>\n",
       "      <td>absent</td>\n",
       "      <td>11</td>\n",
       "      <td>(11, 1040)</td>\n",
       "      <td>1158901</td>\n",
       "      <td>1159615</td>\n",
       "      <td>1</td>\n",
       "      <td>714</td>\n",
       "    </tr>\n",
       "    <tr>\n",
       "      <th>27331</th>\n",
       "      <td>OCODBOIF_01041</td>\n",
       "      <td>C_psittaci11_1</td>\n",
       "      <td>ATGATACTTGCATCTGTTTTATTTTCCCCCGAAGATTTTTCTTTTC...</td>\n",
       "      <td>MILASVLFSPEDFSFPELITEAYYTWDILALIDRKLSTHVFSGIHG...</td>\n",
       "      <td>chromosome</td>\n",
       "      <td>NaN</td>\n",
       "      <td>ATG</td>\n",
       "      <td>Bifunctional protein GlmU</td>\n",
       "      <td>absent</td>\n",
       "      <td>11</td>\n",
       "      <td>(11, 1041)</td>\n",
       "      <td>1159674</td>\n",
       "      <td>1160289</td>\n",
       "      <td>1</td>\n",
       "      <td>615</td>\n",
       "    </tr>\n",
       "    <tr>\n",
       "      <th>27332</th>\n",
       "      <td>OCODBOIF_01042</td>\n",
       "      <td>C_psittaci11_1</td>\n",
       "      <td>ATGGTCGTTATGGATATTTTCGAAGCTTACCGCGTAATGATAGAAA...</td>\n",
       "      <td>MVVMDIFEAYRVMIETGIEDSLDEFGPKGFSIRAPVEYALTSGGKR...</td>\n",
       "      <td>chromosome</td>\n",
       "      <td>NaN</td>\n",
       "      <td>ATG</td>\n",
       "      <td>Farnesyl diphosphate synthase</td>\n",
       "      <td>absent</td>\n",
       "      <td>11</td>\n",
       "      <td>(11, 1042)</td>\n",
       "      <td>1160304</td>\n",
       "      <td>1161186</td>\n",
       "      <td>1</td>\n",
       "      <td>882</td>\n",
       "    </tr>\n",
       "    <tr>\n",
       "      <th>27333</th>\n",
       "      <td>OCODBOIF_01044</td>\n",
       "      <td>C_psittaci11_1</td>\n",
       "      <td>ATGAAAAACCTTATCGATAATAACTTAGTGAGATTTAAAAATATTT...</td>\n",
       "      <td>MKNLIDNNLVRFKNISKTKQGIFVNFKVRGEKGGASFTASIAVDIE...</td>\n",
       "      <td>chromosome</td>\n",
       "      <td>NaN</td>\n",
       "      <td>ATG</td>\n",
       "      <td>hypothetical protein</td>\n",
       "      <td>absent</td>\n",
       "      <td>11</td>\n",
       "      <td>(11, 1044)</td>\n",
       "      <td>1161285</td>\n",
       "      <td>1161540</td>\n",
       "      <td>-1</td>\n",
       "      <td>255</td>\n",
       "    </tr>\n",
       "    <tr>\n",
       "      <th>27334</th>\n",
       "      <td>OCODBOIF_01045</td>\n",
       "      <td>C_psittaci11_1</td>\n",
       "      <td>ATGTTGAGCAGAGATGATGAGTTTTCTTCAGAACAAAGGAAGAGTT...</td>\n",
       "      <td>MLSRDDEFSSEQRKSLSHFVTNLETNIFALKNLPEVVKGALFSKYS...</td>\n",
       "      <td>chromosome</td>\n",
       "      <td>NaN</td>\n",
       "      <td>ATG</td>\n",
       "      <td>Flavin-dependent thymidylate synthase</td>\n",
       "      <td>absent</td>\n",
       "      <td>11</td>\n",
       "      <td>(11, 1045)</td>\n",
       "      <td>1161622</td>\n",
       "      <td>1163215</td>\n",
       "      <td>-1</td>\n",
       "      <td>1593</td>\n",
       "    </tr>\n",
       "  </tbody>\n",
       "</table>\n",
       "<p>27335 rows × 15 columns</p>\n",
       "</div>"
      ],
      "text/plain": [
       "                   id          source  \\\n",
       "0      LEBECCED_00001   C_psittaci4_1   \n",
       "1      LEBECCED_00002   C_psittaci4_1   \n",
       "2      LEBECCED_00003   C_psittaci4_1   \n",
       "3      LEBECCED_00004   C_psittaci4_1   \n",
       "4      LEBECCED_00005   C_psittaci4_1   \n",
       "...               ...             ...   \n",
       "27330  OCODBOIF_01040  C_psittaci11_1   \n",
       "27331  OCODBOIF_01041  C_psittaci11_1   \n",
       "27332  OCODBOIF_01042  C_psittaci11_1   \n",
       "27333  OCODBOIF_01044  C_psittaci11_1   \n",
       "27334  OCODBOIF_01045  C_psittaci11_1   \n",
       "\n",
       "                                              n_sequence  \\\n",
       "0      GTGGTAGACTTTGCAACTTTAGGTGGTAGACTTTTGGTTGAAAAAA...   \n",
       "1      GTGAGTAAATTAACTAAAGAAGCATCCGCTTTTTTTCAAAAGAATC...   \n",
       "2      GTGAAAACGCTAGCATTTTGTTCTTTTAAAGGTGGTACTGGGAAAA...   \n",
       "3      GTGGTTTTATATGAAAAAATCATACGTCTATTTACTGGAGAGATTA...   \n",
       "4      ATGGGTAATTCTGGTTTTTACTTAAATGACACCCAAAATTGTGTAT...   \n",
       "...                                                  ...   \n",
       "27330  ATGCTTACGGATAAAATTATATTATTTGTTACCGAAGACAGTAGTA...   \n",
       "27331  ATGATACTTGCATCTGTTTTATTTTCCCCCGAAGATTTTTCTTTTC...   \n",
       "27332  ATGGTCGTTATGGATATTTTCGAAGCTTACCGCGTAATGATAGAAA...   \n",
       "27333  ATGAAAAACCTTATCGATAATAACTTAGTGAGATTTAAAAATATTT...   \n",
       "27334  ATGTTGAGCAGAGATGATGAGTTTTCTTCAGAACAAAGGAAGAGTT...   \n",
       "\n",
       "                                             aa_sequence type_of_DNA_source  \\\n",
       "0      MVDFATLGGRLLVEKNLDCARLVHYKILRLSMSGLSHHHKSRLFLT...            plasmid   \n",
       "1      MSKLTKEASAFFQKNQENTTKEFLKKEFAMDVFSVSLSDIEKEQIE...            plasmid   \n",
       "2      MKTLAFCSFKGGTGKTTLSLNIGSNLAQVSRKKVLLVDLDPQANLT...            plasmid   \n",
       "3      MVLYEKIIRLFTGEIMNDKQNMTNDFIKIVKDVEKDFPELDIKMKV...            plasmid   \n",
       "4      MGNSGFYLNDTQNCVFADNIKLGQMESPLQDQQLILGTKSTPTAAK...            plasmid   \n",
       "...                                                  ...                ...   \n",
       "27330  MLTDKIILFVTEDSSISLQLKEFAQNVEYNIVVSSTLTDTPEADLI...         chromosome   \n",
       "27331  MILASVLFSPEDFSFPELITEAYYTWDILALIDRKLSTHVFSGIHG...         chromosome   \n",
       "27332  MVVMDIFEAYRVMIETGIEDSLDEFGPKGFSIRAPVEYALTSGGKR...         chromosome   \n",
       "27333  MKNLIDNNLVRFKNISKTKQGIFVNFKVRGEKGGASFTASIAVDIE...         chromosome   \n",
       "27334  MLSRDDEFSSEQRKSLSHFVTNLETNIFALKNLPEVVKGALFSKYS...         chromosome   \n",
       "\n",
       "       type_of_the_gene start_codone  \\\n",
       "0                   NaN          GTG   \n",
       "1                   NaN          GTG   \n",
       "2                   NaN          GTG   \n",
       "3                   NaN          GTG   \n",
       "4                   NaN          ATG   \n",
       "...                 ...          ...   \n",
       "27330               NaN          ATG   \n",
       "27331               NaN          ATG   \n",
       "27332               NaN          ATG   \n",
       "27333               NaN          ATG   \n",
       "27334               NaN          ATG   \n",
       "\n",
       "                                            product      cog p_c_unity  \\\n",
       "0                              hypothetical protein   absent         4   \n",
       "1                              hypothetical protein   absent         4   \n",
       "2      Sporulation initiation inhibitor protein Soj  COG1192         4   \n",
       "3                              hypothetical protein   absent         4   \n",
       "4                  Virulence plasmid protein pGP3-D   absent         4   \n",
       "...                                             ...      ...       ...   \n",
       "27330      Atypical response regulator protein ChxR   absent        11   \n",
       "27331                     Bifunctional protein GlmU   absent        11   \n",
       "27332                 Farnesyl diphosphate synthase   absent        11   \n",
       "27333                          hypothetical protein   absent        11   \n",
       "27334         Flavin-dependent thymidylate synthase   absent        11   \n",
       "\n",
       "      additional_info    first     last  strand  length  \n",
       "0              (4, 1)       16     1033      -1    1017  \n",
       "1              (4, 2)     1161     1902      -1     741  \n",
       "2              (4, 3)     1898     2678      -1     780  \n",
       "3              (4, 4)     2708     3062      -1     354  \n",
       "4              (4, 5)     3111     3906      -1     795  \n",
       "...               ...      ...      ...     ...     ...  \n",
       "27330      (11, 1040)  1158901  1159615       1     714  \n",
       "27331      (11, 1041)  1159674  1160289       1     615  \n",
       "27332      (11, 1042)  1160304  1161186       1     882  \n",
       "27333      (11, 1044)  1161285  1161540      -1     255  \n",
       "27334      (11, 1045)  1161622  1163215      -1    1593  \n",
       "\n",
       "[27335 rows x 15 columns]"
      ]
     },
     "execution_count": 25,
     "metadata": {},
     "output_type": "execute_result"
    }
   ],
   "source": [
    "df1"
   ]
  },
  {
   "cell_type": "markdown",
   "metadata": {
    "id": "pn69F4e1d3rQ"
   },
   "source": [
    "For recoding COGs from ids to categories I have downloaded tsvs with all categories and appropriate COGs and have created python dictionary.\n",
    "Firstly I have uploaded tsvs to folder on google drive."
   ]
  },
  {
   "cell_type": "code",
   "execution_count": 11,
   "metadata": {
    "id": "0yBHPpptpWCx"
   },
   "outputs": [
    {
     "name": "stderr",
     "output_type": "stream",
     "text": [
      "100%|███████████████████████████████████████████████████████████████████████████████████████████████████████| 26/26 [00:00<00:00, 633.68it/s]\n"
     ]
    }
   ],
   "source": [
    "# Creating cog dictionary\n",
    "cog_dict = {}\n",
    "current_path = \"../data/bigcog/\"\n",
    "cog_cats = os.listdir(current_path)\n",
    "for cog_cat in tqdm(cog_cats):\n",
    "    table = pd.read_csv(os.path.join(current_path, cog_cat), sep=\"\\t\")\n",
    "    if len(table.Cat):\n",
    "        cat = table.Cat.tolist()\n",
    "        cat_ful = list(map(lambda x: x.split(\" \"),cat))\n",
    "        cat_ful_single = list(chain.from_iterable(cat_ful))\n",
    "        key = max(cat_ful_single, key = cat_ful_single.count)\n",
    "        value = table.COG.tolist()\n",
    "        cog_dict[key] = value\n",
    "cog_dict[\"S\"].append(\"absent\")"
   ]
  },
  {
   "cell_type": "markdown",
   "metadata": {
    "id": "J2LzibiOtE-q"
   },
   "source": [
    "On the next stage I have created 25 new columns for dataset, each contained data if protein has this COG."
   ]
  },
  {
   "cell_type": "code",
   "execution_count": 12,
   "metadata": {
    "id": "G586jo7svBP8"
   },
   "outputs": [
    {
     "name": "stderr",
     "output_type": "stream",
     "text": [
      "100%|████████████████████████████████████████████████████████████████████████████████████████████████████████| 25/25 [00:00<00:00, 25.15it/s]\n"
     ]
    }
   ],
   "source": [
    "# Adding 25 columns to dataset\n",
    "for key in tqdm(cog_dict.keys()):   # Passing over COG categories\n",
    "    cog_list = []             # For each category create list\n",
    "    for cog_id in cog:        # Passing out every item\n",
    "        if cog_id not in cog_dict[key]:     # For every gene, if gene's id not in dict\n",
    "            cog_list.append(0)              # Mark it\n",
    "        else:                               \n",
    "            cog_list.append(1)              # Else mark another\n",
    "    df1[key] = pd.Series(cog_list)   # Creating 25 new columns"
   ]
  },
  {
   "cell_type": "code",
   "execution_count": 73,
   "metadata": {},
   "outputs": [],
   "source": [
    "df1.to_csv(f\"../{folder_name}/data/First_table.csv\", index=False)"
   ]
  },
  {
   "cell_type": "code",
   "execution_count": 74,
   "metadata": {},
   "outputs": [
    {
     "name": "stderr",
     "output_type": "stream",
     "text": [
      "100%|███████████████████████████████████████████████████████████████████████████████████████████████████████| 27/27 [00:00<00:00, 621.60it/s]"
     ]
    },
    {
     "name": "stdout",
     "output_type": "stream",
     "text": [
      "9\n",
      "26\n",
      "6\n",
      "17\n",
      "12\n",
      "0\n",
      "3\n",
      "16\n",
      "10\n",
      "21\n",
      "7\n",
      "20\n",
      "19\n",
      "13\n",
      "2\n",
      "15\n",
      "1\n",
      "22\n",
      "18\n",
      "23\n",
      "24\n",
      "4\n",
      "14\n",
      "25\n",
      "5\n",
      "11\n",
      "8\n"
     ]
    },
    {
     "name": "stderr",
     "output_type": "stream",
     "text": [
      "\n"
     ]
    }
   ],
   "source": [
    "for source in tqdm(set(df1[\"p_c_unity\"])):\n",
    "    subset = df1[df1[\"p_c_unity\"] == source]\n",
    "    with open (f\"../{folder_name}/data/orto_rows/{folder_name}{str(source)}.fasta\", \"w\") as protein_fasta:\n",
    "        for index, row in subset.iterrows():\n",
    "            if row['type_of_the_gene'] != \"pseudogene\":\n",
    "                protein_fasta.write(\">\")\n",
    "                protein_fasta.write(row[\"id\"])\n",
    "                protein_fasta.write(\"_\")\n",
    "                protein_fasta.write(row[\"source\"])\n",
    "                protein_fasta.write(\"\\n\")\n",
    "                protein_fasta.write(row[\"aa_sequence\"])\n",
    "                protein_fasta.write(\"\\n\")"
   ]
  }
 ],
 "metadata": {
  "colab": {
   "collapsed_sections": [
    "-WDRF29W3SyR",
    "c8yV-DwPre6C",
    "kyeKwO01rj1G",
    "Zyu27Lga0wWR",
    "dc_xdF-VxoMY",
    "2vlUfrmdJmyr",
    "qlF4YG3srZrF",
    "uuQtazSJwK_s",
    "N3J1A7ThS3Xz",
    "Kk6luKhoS3X0",
    "XrODV9lQS3X0"
   ],
   "provenance": [],
   "toc_visible": true
  },
  "kernelspec": {
   "display_name": "Python 3 (ipykernel)",
   "language": "python",
   "name": "python3"
  },
  "language_info": {
   "codemirror_mode": {
    "name": "ipython",
    "version": 3
   },
   "file_extension": ".py",
   "mimetype": "text/x-python",
   "name": "python",
   "nbconvert_exporter": "python",
   "pygments_lexer": "ipython3",
   "version": "3.9.13"
  }
 },
 "nbformat": 4,
 "nbformat_minor": 1
}
