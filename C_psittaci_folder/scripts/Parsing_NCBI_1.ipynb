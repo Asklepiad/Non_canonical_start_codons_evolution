{
 "cells": [
  {
   "cell_type": "markdown",
   "metadata": {
    "id": "DTOWjLn73FjG"
   },
   "source": [
    "### Installing packages"
   ]
  },
  {
   "cell_type": "code",
   "execution_count": 1,
   "metadata": {
    "colab": {
     "base_uri": "https://localhost:8080/"
    },
    "id": "iIn18S_j2Ra4",
    "outputId": "af660329-370e-4e43-8e9d-1a6f1fdd1c9e"
   },
   "outputs": [],
   "source": [
    "# Installing packages\n",
    "#!pip3 install pandas\n",
    "#!pip3 install biopython\n",
    "\n",
    "# Importing packages\n",
    "import Bio\n",
    "import math\n",
    "import os\n",
    "import sys\n",
    "import argparse\n",
    "import shutil\n",
    "import re\n",
    "import json\n",
    "import numpy as np\n",
    "import pandas as pd\n",
    "import seaborn as sns\n",
    "import matplotlib.pyplot as plt\n",
    "from Bio.Seq import Seq\n",
    "from Bio import SeqIO\n",
    "from Bio.Data import CodonTable\n",
    "from Bio.SeqRecord import SeqRecord\n",
    "from Bio import Entrez\n",
    "from itertools import chain\n",
    "from tqdm import tqdm\n",
    "#from google.colab import files   # For working with colab only\n",
    "#from google.colab import drive   # For working with colab only\n",
    "\n",
    "# Asserting email for Entrez\n",
    "Entrez.email = \"bogdan.sotnikov.1999@mail.ru\"\n",
    "\n",
    "# Google drive mounting\n",
    "#drive.mount('/content/gdrive')    # For working with colab only"
   ]
  },
  {
   "cell_type": "code",
   "execution_count": null,
   "metadata": {},
   "outputs": [],
   "source": [
    "parser = argparse.ArgumentParser()\n",
    "\n",
    "parser.add_argument(\"path\", type=str)\n",
    "parser.add_argument(\"mail\", type=str)\n",
    "parser.add_argument(\"threads\", type=int)\n",
    "\n",
    "arguments = parser.parse_args()\n",
    "\n",
    "json_file_name = arguments.path\n",
    "Entrez.email = arguments.mail\n",
    "threads = arguments.threads\n",
    "# Если аргумент есть в аргументах, сделать api"
   ]
  },
  {
   "cell_type": "code",
   "execution_count": null,
   "metadata": {},
   "outputs": [],
   "source": [
    "json_path = os.path.join(\"../data/jsons\", json_file_name)\n",
    "with open(json_path, \"r\") as json_organism:\n",
    "    json_organism = json.load(json_organism)\n",
    "\n",
    "\n",
    "organism_name = json_organism[0]\n",
    "complete_ids = list(json_organism[1].values())[0]"
   ]
  },
  {
   "cell_type": "code",
   "execution_count": 20,
   "metadata": {},
   "outputs": [],
   "source": [
    "if type(complete_ids[len(complete_ids)-1]) == list:\n",
    "    scaffs = complete_ids[len(complete_ids)-1]\n",
    "    del complete_ids[len(complete_ids)-1]\n",
    "    complete_ids += scaffs"
   ]
  },
  {
   "cell_type": "code",
   "execution_count": 78,
   "metadata": {},
   "outputs": [],
   "source": [
    "# Code from source above, with modifications. It is for choosing GenBank nucleotide data only.\n",
    "def extract_insdc(links):\n",
    "    linkset = [ls for ls in links[0]['LinkSetDb'] if\n",
    "              ls['LinkName'] == 'assembly_nuccore_insdc']\n",
    "    if 0 != len(linkset):\n",
    "        uids = [link['Id'] for link in linkset[0]['Link']]\n",
    "    else:\n",
    "        uids = 0\n",
    "    return uids"
   ]
  },
  {
   "cell_type": "code",
   "execution_count": 23,
   "metadata": {
    "id": "eLfZd17e6IaD"
   },
   "outputs": [],
   "source": [
    "# Creating a variables for futher work with links\n",
    "#organism = organism_name\n",
    "organism = organism_name\n",
    "db_search = \"assembly\"\n",
    "db_current = \"nucleotide\""
   ]
  },
  {
   "cell_type": "code",
   "execution_count": 6,
   "metadata": {
    "id": "6uoWq5E3GdTD"
   },
   "outputs": [
    {
     "name": "stderr",
     "output_type": "stream",
     "text": [
      "100%|██████████████████████████████████████████████████████████████████████████████████████████████████████| 203/203 [06:04<00:00,  1.80s/it]\n"
     ]
    }
   ],
   "source": [
    "# # Getting summary about links\n",
    "# idlist = search_record[\"IdList\"]\n",
    "# complete_ids = []   # List of full completed genomes' ids\n",
    "# for ids in tqdm(idlist):\n",
    "#     handle = Entrez.esummary(db=db_search, id=ids)\n",
    "#     record = Entrez.read(handle)\n",
    "#     if record['DocumentSummarySet']['DocumentSummary'][0]['AssemblyStatus'] == \"Complete Genome\":\n",
    "#         complete_ids.append(ids)"
   ]
  },
  {
   "cell_type": "code",
   "execution_count": 92,
   "metadata": {},
   "outputs": [],
   "source": [
    "organism = \"Acinetobacter_baumannii\"\n",
    "complete_ids = [\"12814861\", \"12262961\", \"836081\", \"7051501\", \"7867071\", \"648281\", \"7332281\", \"2799101\", \"2228081\", \"836121\", \"13538571\", \"12263621\", \"590291\", \"935061\", \"12718751\", \"1629471\", \"648301\", \"1950371\", \"1115631\", \"13199171\", \"1032731\", \"648271\", \"12719911\", \"10283131\", \"1064241\", \"8588321\", \"7390001\", \"13538641\", \"11455031\", \"15866881\", \"9392531\", \"6719611\", \"12159421\", \"2552021\", \"12812961\", \"791871\", \"13538581\", \"9928511\", \"836141\", \"12718671\", \"2650481\", \"8237601\", \"1950351\", \"12266941\", \"12720111\", \"15073091\", \"7061401\", \"16400971\", \"13279381\", \"13357651\", \"7365931\", \"12719961\", \"13199731\", \"12719951\", \"15866931\", \"12718661\", \"7332291\", \"12263751\", \"1141461\", \"12208811\", \"12718651\", \"1947011\", \"1434611\", \"894901\", \"11454961\", \"10577061\", \"1991081\", \"2819621\", \"7051381\", \"13538671\", \"12813031\", \"16296081\", \"5131601\", \"12718731\", \"12267161\", \"12720041\", \"13538551\", \"12718641\", \"12814821\", \"11454981\", \"12267521\", \"214351\", \"1064221\", \"2161061\", \"13982451\", \"11454971\", \"248141\", \"13538541\", \"618731\", \"13544441\", \"836091\", \"12267261\", \"14216471\", \"14310881\", \"12267071\", \"8147131\", \"755881\", \"2112931\", \"13195821\", \"9714881\"]"
   ]
  },
  {
   "cell_type": "code",
   "execution_count": 93,
   "metadata": {
    "id": "hmHfpdhjGdZy"
   },
   "outputs": [
    {
     "name": "stderr",
     "output_type": "stream",
     "text": [
      "  1%|█                                                                                                       | 1/100 [00:01<01:59,  1.21s/it]"
     ]
    },
    {
     "name": "stdout",
     "output_type": "stream",
     "text": [
      "[{'LinkSetDb': [{'Link': [{'Id': '2245020635'}, {'Id': '2245020632'}, {'Id': '2245020610'}, {'Id': '2242516291'}, {'Id': '2242516202'}, {'Id': '2242512623'}], 'DbTo': 'nuccore', 'LinkName': 'assembly_nuccore'}, {'Link': [{'Id': '2242516291'}, {'Id': '2242516202'}, {'Id': '2242512623'}], 'DbTo': 'nuccore', 'LinkName': 'assembly_nuccore_insdc'}, {'Link': [{'Id': '2245020635'}, {'Id': '2245020632'}, {'Id': '2245020610'}], 'DbTo': 'nuccore', 'LinkName': 'assembly_nuccore_refseq'}], 'ERROR': [], 'LinkSetDbHistory': [], 'DbFrom': 'assembly', 'IdList': ['12814861']}]\n",
      "2242516291\n",
      "2242516202\n",
      "2242512623\n"
     ]
    },
    {
     "name": "stderr",
     "output_type": "stream",
     "text": [
      "\r",
      "  2%|██                                                                                                      | 2/100 [00:02<01:53,  1.16s/it]"
     ]
    },
    {
     "name": "stdout",
     "output_type": "stream",
     "text": [
      "[{'LinkSetDb': [{'Link': [{'Id': '2203669227'}, {'Id': '2203085011'}], 'DbTo': 'nuccore', 'LinkName': 'assembly_nuccore'}, {'Link': [{'Id': '2203085011'}], 'DbTo': 'nuccore', 'LinkName': 'assembly_nuccore_insdc'}, {'Link': [{'Id': '2203669227'}], 'DbTo': 'nuccore', 'LinkName': 'assembly_nuccore_refseq'}], 'ERROR': [], 'LinkSetDbHistory': [], 'DbFrom': 'assembly', 'IdList': ['12262961']}]\n",
      "2203085011\n"
     ]
    },
    {
     "name": "stderr",
     "output_type": "stream",
     "text": [
      "\r",
      "  3%|███                                                                                                     | 3/100 [00:03<01:41,  1.05s/it]"
     ]
    },
    {
     "name": "stdout",
     "output_type": "stream",
     "text": [
      "[{'LinkSetDb': [{'Link': [{'Id': '1092407551'}, {'Id': '1092407550'}, {'Id': '1087730795'}, {'Id': '1087730686'}], 'DbTo': 'nuccore', 'LinkName': 'assembly_nuccore'}, {'Link': [{'Id': '1087730795'}, {'Id': '1087730686'}], 'DbTo': 'nuccore', 'LinkName': 'assembly_nuccore_insdc'}, {'Link': [{'Id': '1092407551'}, {'Id': '1092407550'}], 'DbTo': 'nuccore', 'LinkName': 'assembly_nuccore_refseq'}], 'ERROR': [], 'LinkSetDbHistory': [], 'DbFrom': 'assembly', 'IdList': ['836081']}]\n",
      "1087730795\n",
      "1087730686\n"
     ]
    },
    {
     "name": "stderr",
     "output_type": "stream",
     "text": [
      "\r",
      "  4%|████▏                                                                                                   | 4/100 [00:04<01:39,  1.04s/it]"
     ]
    },
    {
     "name": "stdout",
     "output_type": "stream",
     "text": [
      "[{'LinkSetDb': [{'Link': [{'Id': '1836669062'}, {'Id': '1836669061'}, {'Id': '1836669060'}, {'Id': '1836070421'}, {'Id': '1836070410'}, {'Id': '1836066657'}], 'DbTo': 'nuccore', 'LinkName': 'assembly_nuccore'}, {'Link': [{'Id': '1836070421'}, {'Id': '1836070410'}, {'Id': '1836066657'}], 'DbTo': 'nuccore', 'LinkName': 'assembly_nuccore_insdc'}, {'Link': [{'Id': '1836669062'}, {'Id': '1836669061'}, {'Id': '1836669060'}], 'DbTo': 'nuccore', 'LinkName': 'assembly_nuccore_refseq'}], 'ERROR': [], 'LinkSetDbHistory': [], 'DbFrom': 'assembly', 'IdList': ['7051501']}]\n",
      "1836070421\n",
      "1836070410\n",
      "1836066657\n"
     ]
    },
    {
     "name": "stderr",
     "output_type": "stream",
     "text": [
      "\r",
      "  5%|█████▏                                                                                                  | 5/100 [00:05<01:41,  1.07s/it]"
     ]
    },
    {
     "name": "stdout",
     "output_type": "stream",
     "text": [
      "[{'LinkSetDb': [{'Link': [{'Id': '1890085731'}, {'Id': '1890085730'}, {'Id': '1890085729'}, {'Id': '1877588604'}, {'Id': '1877588482'}, {'Id': '1877585046'}], 'DbTo': 'nuccore', 'LinkName': 'assembly_nuccore'}, {'Link': [{'Id': '1877588604'}, {'Id': '1877588482'}, {'Id': '1877585046'}], 'DbTo': 'nuccore', 'LinkName': 'assembly_nuccore_insdc'}, {'Link': [{'Id': '1890085731'}, {'Id': '1890085730'}, {'Id': '1890085729'}], 'DbTo': 'nuccore', 'LinkName': 'assembly_nuccore_refseq'}], 'ERROR': [], 'LinkSetDbHistory': [], 'DbFrom': 'assembly', 'IdList': ['7867071']}]\n",
      "1877588604\n",
      "1877588482\n",
      "1877585046\n"
     ]
    },
    {
     "name": "stderr",
     "output_type": "stream",
     "text": [
      "\r",
      "  6%|██████▏                                                                                                 | 6/100 [00:06<01:42,  1.09s/it]"
     ]
    },
    {
     "name": "stdout",
     "output_type": "stream",
     "text": [
      "[{'LinkSetDb': [{'Link': [{'Id': '1001814949'}, {'Id': '1000993161'}], 'DbTo': 'nuccore', 'LinkName': 'assembly_nuccore'}, {'Link': [{'Id': '1000993161'}], 'DbTo': 'nuccore', 'LinkName': 'assembly_nuccore_insdc'}, {'Link': [{'Id': '1001814949'}], 'DbTo': 'nuccore', 'LinkName': 'assembly_nuccore_refseq'}], 'ERROR': [], 'LinkSetDbHistory': [], 'DbFrom': 'assembly', 'IdList': ['648281']}]\n",
      "1000993161\n"
     ]
    },
    {
     "name": "stderr",
     "output_type": "stream",
     "text": [
      "\r",
      "  7%|███████▎                                                                                                | 7/100 [00:07<01:39,  1.07s/it]"
     ]
    },
    {
     "name": "stdout",
     "output_type": "stream",
     "text": [
      "[{'LinkSetDb': [{'Link': [{'Id': '1867940282'}, {'Id': '1867939945'}, {'Id': '1866706066'}, {'Id': '1866702431'}], 'DbTo': 'nuccore', 'LinkName': 'assembly_nuccore'}, {'Link': [{'Id': '1866706066'}, {'Id': '1866702431'}], 'DbTo': 'nuccore', 'LinkName': 'assembly_nuccore_insdc'}, {'Link': [{'Id': '1867940282'}, {'Id': '1867939945'}], 'DbTo': 'nuccore', 'LinkName': 'assembly_nuccore_refseq'}], 'ERROR': [], 'LinkSetDbHistory': [], 'DbFrom': 'assembly', 'IdList': ['7332281']}]\n",
      "1866706066\n",
      "1866702431\n"
     ]
    },
    {
     "name": "stderr",
     "output_type": "stream",
     "text": [
      "\r",
      "  8%|████████▎                                                                                               | 8/100 [00:08<01:37,  1.05s/it]"
     ]
    },
    {
     "name": "stdout",
     "output_type": "stream",
     "text": [
      "[{'LinkSetDb': [{'Link': [{'Id': '1637307003'}, {'Id': '1637307002'}, {'Id': '1637307001'}, {'Id': '1635522416'}, {'Id': '1635522322'}, {'Id': '1635518656'}], 'DbTo': 'nuccore', 'LinkName': 'assembly_nuccore'}, {'Link': [{'Id': '1635522416'}, {'Id': '1635522322'}, {'Id': '1635518656'}], 'DbTo': 'nuccore', 'LinkName': 'assembly_nuccore_insdc'}, {'Link': [{'Id': '1637307003'}, {'Id': '1637307002'}, {'Id': '1637307001'}], 'DbTo': 'nuccore', 'LinkName': 'assembly_nuccore_refseq'}], 'ERROR': [], 'LinkSetDbHistory': [], 'DbFrom': 'assembly', 'IdList': ['2799101']}]\n",
      "1635522416\n",
      "1635522322\n",
      "1635518656\n"
     ]
    },
    {
     "name": "stderr",
     "output_type": "stream",
     "text": [
      "\r",
      "  9%|█████████▎                                                                                              | 9/100 [00:09<01:35,  1.04s/it]"
     ]
    },
    {
     "name": "stdout",
     "output_type": "stream",
     "text": [
      "[{'LinkSetDb': [{'Link': [{'Id': '1567772875'}, {'Id': '1567772848'}, {'Id': '1567772414'}, {'Id': '1566474420'}, {'Id': '1566474290'}, {'Id': '1566470628'}], 'DbTo': 'nuccore', 'LinkName': 'assembly_nuccore'}, {'Link': [{'Id': '1566474420'}, {'Id': '1566474290'}, {'Id': '1566470628'}], 'DbTo': 'nuccore', 'LinkName': 'assembly_nuccore_insdc'}, {'Link': [{'Id': '1567772875'}, {'Id': '1567772848'}, {'Id': '1567772414'}], 'DbTo': 'nuccore', 'LinkName': 'assembly_nuccore_refseq'}], 'ERROR': [], 'LinkSetDbHistory': [], 'DbFrom': 'assembly', 'IdList': ['2228081']}]\n",
      "1566474420\n",
      "1566474290\n",
      "1566470628\n"
     ]
    },
    {
     "name": "stderr",
     "output_type": "stream",
     "text": [
      "\r",
      " 10%|██████████▎                                                                                            | 10/100 [00:10<01:33,  1.04s/it]"
     ]
    },
    {
     "name": "stdout",
     "output_type": "stream",
     "text": [
      "[{'LinkSetDb': [{'Link': [{'Id': '1092517760'}, {'Id': '1092517715'}, {'Id': '1087746352'}, {'Id': '1087746255'}], 'DbTo': 'nuccore', 'LinkName': 'assembly_nuccore'}, {'Link': [{'Id': '1087746352'}, {'Id': '1087746255'}], 'DbTo': 'nuccore', 'LinkName': 'assembly_nuccore_insdc'}, {'Link': [{'Id': '1092517760'}, {'Id': '1092517715'}], 'DbTo': 'nuccore', 'LinkName': 'assembly_nuccore_refseq'}], 'ERROR': [], 'LinkSetDbHistory': [], 'DbFrom': 'assembly', 'IdList': ['836121']}]\n",
      "1087746352\n",
      "1087746255\n"
     ]
    },
    {
     "name": "stderr",
     "output_type": "stream",
     "text": [
      "\r",
      " 11%|███████████▎                                                                                           | 11/100 [00:11<01:32,  1.03s/it]"
     ]
    },
    {
     "name": "stdout",
     "output_type": "stream",
     "text": [
      "[{'LinkSetDb': [{'Link': [{'Id': '2290873728'}, {'Id': '2290873727'}, {'Id': '2290873725'}, {'Id': '2290873709'}, {'Id': '2289938025'}, {'Id': '2289938024'}, {'Id': '2289938023'}, {'Id': '2289938022'}], 'DbTo': 'nuccore', 'LinkName': 'assembly_nuccore'}, {'Link': [{'Id': '2289938025'}, {'Id': '2289938024'}, {'Id': '2289938023'}, {'Id': '2289938022'}], 'DbTo': 'nuccore', 'LinkName': 'assembly_nuccore_insdc'}, {'Link': [{'Id': '2290873728'}, {'Id': '2290873727'}, {'Id': '2290873725'}, {'Id': '2290873709'}], 'DbTo': 'nuccore', 'LinkName': 'assembly_nuccore_refseq'}], 'ERROR': [], 'LinkSetDbHistory': [], 'DbFrom': 'assembly', 'IdList': ['13538571']}]\n",
      "2289938025\n",
      "2289938024\n",
      "2289938023\n",
      "2289938022\n"
     ]
    },
    {
     "name": "stderr",
     "output_type": "stream",
     "text": [
      "\r",
      " 12%|████████████▎                                                                                          | 12/100 [00:12<01:30,  1.03s/it]"
     ]
    },
    {
     "name": "stdout",
     "output_type": "stream",
     "text": [
      "[{'LinkSetDb': [{'Link': [{'Id': '2203666960'}, {'Id': '2203034173'}], 'DbTo': 'nuccore', 'LinkName': 'assembly_nuccore'}, {'Link': [{'Id': '2203034173'}], 'DbTo': 'nuccore', 'LinkName': 'assembly_nuccore_insdc'}, {'Link': [{'Id': '2203666960'}], 'DbTo': 'nuccore', 'LinkName': 'assembly_nuccore_refseq'}], 'ERROR': [], 'LinkSetDbHistory': [], 'DbFrom': 'assembly', 'IdList': ['12263621']}]\n",
      "2203034173\n"
     ]
    },
    {
     "name": "stderr",
     "output_type": "stream",
     "text": [
      "\r",
      " 13%|█████████████▍                                                                                         | 13/100 [00:13<01:29,  1.03s/it]"
     ]
    },
    {
     "name": "stdout",
     "output_type": "stream",
     "text": [
      "[{'LinkSetDb': [{'Link': [{'Id': '960311371'}, {'Id': '902756494'}], 'DbTo': 'nuccore', 'LinkName': 'assembly_nuccore'}, {'Link': [{'Id': '902756494'}], 'DbTo': 'nuccore', 'LinkName': 'assembly_nuccore_insdc'}, {'Link': [{'Id': '960311371'}], 'DbTo': 'nuccore', 'LinkName': 'assembly_nuccore_refseq'}], 'ERROR': [], 'LinkSetDbHistory': [], 'DbFrom': 'assembly', 'IdList': ['590291']}]\n",
      "902756494\n"
     ]
    },
    {
     "name": "stderr",
     "output_type": "stream",
     "text": [
      "\r",
      " 14%|██████████████▍                                                                                        | 14/100 [00:15<01:54,  1.34s/it]"
     ]
    },
    {
     "name": "stdout",
     "output_type": "stream",
     "text": [
      "[{'LinkSetDb': [{'Link': [{'Id': '1126140580'}, {'Id': '1126140579'}, {'Id': '1126140578'}, {'Id': '1125869058'}, {'Id': '1125868940'}, {'Id': '1125865289'}], 'DbTo': 'nuccore', 'LinkName': 'assembly_nuccore'}, {'Link': [{'Id': '1125869058'}, {'Id': '1125868940'}, {'Id': '1125865289'}], 'DbTo': 'nuccore', 'LinkName': 'assembly_nuccore_insdc'}, {'Link': [{'Id': '1126140580'}, {'Id': '1126140579'}, {'Id': '1126140578'}], 'DbTo': 'nuccore', 'LinkName': 'assembly_nuccore_refseq'}], 'ERROR': [], 'LinkSetDbHistory': [], 'DbFrom': 'assembly', 'IdList': ['935061']}]\n",
      "1125869058\n",
      "1125868940\n",
      "1125865289\n"
     ]
    },
    {
     "name": "stderr",
     "output_type": "stream",
     "text": [
      "\r",
      " 15%|███████████████▍                                                                                       | 15/100 [00:16<01:40,  1.19s/it]"
     ]
    },
    {
     "name": "stdout",
     "output_type": "stream",
     "text": [
      "[{'LinkSetDb': [{'Link': [{'Id': '2239890444'}, {'Id': '2239890443'}, {'Id': '2239890442'}, {'Id': '2238627894'}, {'Id': '2238627801'}, {'Id': '2238624079'}], 'DbTo': 'nuccore', 'LinkName': 'assembly_nuccore'}, {'Link': [{'Id': '2238627894'}, {'Id': '2238627801'}, {'Id': '2238624079'}], 'DbTo': 'nuccore', 'LinkName': 'assembly_nuccore_insdc'}, {'Link': [{'Id': '2239890444'}, {'Id': '2239890443'}, {'Id': '2239890442'}], 'DbTo': 'nuccore', 'LinkName': 'assembly_nuccore_refseq'}], 'ERROR': [], 'LinkSetDbHistory': [], 'DbFrom': 'assembly', 'IdList': ['12718751']}]\n",
      "2238627894\n",
      "2238627801\n",
      "2238624079\n"
     ]
    },
    {
     "name": "stderr",
     "output_type": "stream",
     "text": [
      "\r",
      " 16%|████████████████▍                                                                                      | 16/100 [00:17<01:35,  1.13s/it]"
     ]
    },
    {
     "name": "stdout",
     "output_type": "stream",
     "text": [
      "[{'LinkSetDb': [{'Link': [{'Id': '1360747255'}, {'Id': '1360747254'}, {'Id': '1359185821'}, {'Id': '1359181956'}], 'DbTo': 'nuccore', 'LinkName': 'assembly_nuccore'}, {'Link': [{'Id': '1359185821'}, {'Id': '1359181956'}], 'DbTo': 'nuccore', 'LinkName': 'assembly_nuccore_insdc'}, {'Link': [{'Id': '1360747255'}, {'Id': '1360747254'}], 'DbTo': 'nuccore', 'LinkName': 'assembly_nuccore_refseq'}], 'ERROR': [], 'LinkSetDbHistory': [], 'DbFrom': 'assembly', 'IdList': ['1629471']}]\n",
      "1359185821\n",
      "1359181956\n"
     ]
    },
    {
     "name": "stderr",
     "output_type": "stream",
     "text": [
      "\r",
      " 17%|█████████████████▌                                                                                     | 17/100 [00:18<01:31,  1.10s/it]"
     ]
    },
    {
     "name": "stdout",
     "output_type": "stream",
     "text": [
      "[{'LinkSetDb': [{'Link': [{'Id': '1001816967'}, {'Id': '1001000371'}], 'DbTo': 'nuccore', 'LinkName': 'assembly_nuccore'}, {'Link': [{'Id': '1001000371'}], 'DbTo': 'nuccore', 'LinkName': 'assembly_nuccore_insdc'}, {'Link': [{'Id': '1001816967'}], 'DbTo': 'nuccore', 'LinkName': 'assembly_nuccore_refseq'}], 'ERROR': [], 'LinkSetDbHistory': [], 'DbFrom': 'assembly', 'IdList': ['648301']}]\n",
      "1001000371\n"
     ]
    },
    {
     "name": "stderr",
     "output_type": "stream",
     "text": [
      "\r",
      " 18%|██████████████████▌                                                                                    | 18/100 [00:19<01:26,  1.06s/it]"
     ]
    },
    {
     "name": "stdout",
     "output_type": "stream",
     "text": [
      "[{'LinkSetDb': [{'Link': [{'Id': '1569277646'}, {'Id': '1569277645'}, {'Id': '1474724526'}, {'Id': '1474720871'}], 'DbTo': 'nuccore', 'LinkName': 'assembly_nuccore'}, {'Link': [{'Id': '1474724526'}, {'Id': '1474720871'}], 'DbTo': 'nuccore', 'LinkName': 'assembly_nuccore_insdc'}, {'Link': [{'Id': '1569277646'}, {'Id': '1569277645'}], 'DbTo': 'nuccore', 'LinkName': 'assembly_nuccore_refseq'}], 'ERROR': [], 'LinkSetDbHistory': [], 'DbFrom': 'assembly', 'IdList': ['1950371']}]\n",
      "1474724526\n",
      "1474720871\n"
     ]
    },
    {
     "name": "stderr",
     "output_type": "stream",
     "text": [
      "\r",
      " 19%|███████████████████▌                                                                                   | 19/100 [00:20<01:19,  1.03it/s]"
     ]
    },
    {
     "name": "stdout",
     "output_type": "stream",
     "text": [
      "[{'LinkSetDb': [{'Link': [{'Id': '1199721267'}, {'Id': '1199721266'}, {'Id': '1199168558'}, {'Id': '1199168556'}], 'DbTo': 'nuccore', 'LinkName': 'assembly_nuccore'}, {'Link': [{'Id': '1199168558'}, {'Id': '1199168556'}], 'DbTo': 'nuccore', 'LinkName': 'assembly_nuccore_insdc'}, {'Link': [{'Id': '1199721267'}, {'Id': '1199721266'}], 'DbTo': 'nuccore', 'LinkName': 'assembly_nuccore_refseq'}], 'ERROR': [], 'LinkSetDbHistory': [], 'DbFrom': 'assembly', 'IdList': ['1115631']}]\n",
      "1199168558\n",
      "1199168556\n"
     ]
    },
    {
     "name": "stderr",
     "output_type": "stream",
     "text": [
      "\r",
      " 20%|████████████████████▌                                                                                  | 20/100 [00:21<01:16,  1.04it/s]"
     ]
    },
    {
     "name": "stdout",
     "output_type": "stream",
     "text": [
      "[{'LinkSetDb': [{'Link': [{'Id': '2266712269'}, {'Id': '2263959133'}], 'DbTo': 'nuccore', 'LinkName': 'assembly_nuccore'}, {'Link': [{'Id': '2263959133'}], 'DbTo': 'nuccore', 'LinkName': 'assembly_nuccore_insdc'}, {'Link': [{'Id': '2266712269'}], 'DbTo': 'nuccore', 'LinkName': 'assembly_nuccore_refseq'}], 'ERROR': [], 'LinkSetDbHistory': [], 'DbFrom': 'assembly', 'IdList': ['13199171']}]\n",
      "2263959133\n"
     ]
    },
    {
     "name": "stderr",
     "output_type": "stream",
     "text": [
      "\r",
      " 21%|█████████████████████▋                                                                                 | 21/100 [00:22<01:19,  1.00s/it]"
     ]
    },
    {
     "name": "stdout",
     "output_type": "stream",
     "text": [
      "[{'LinkSetDb': [{'Link': [{'Id': '1160688533'}, {'Id': '1160688532'}, {'Id': '1051000319'}, {'Id': '1050996618'}], 'DbTo': 'nuccore', 'LinkName': 'assembly_nuccore'}, {'Link': [{'Id': '1051000319'}, {'Id': '1050996618'}], 'DbTo': 'nuccore', 'LinkName': 'assembly_nuccore_insdc'}, {'Link': [{'Id': '1160688533'}, {'Id': '1160688532'}], 'DbTo': 'nuccore', 'LinkName': 'assembly_nuccore_refseq'}], 'ERROR': [], 'LinkSetDbHistory': [], 'DbFrom': 'assembly', 'IdList': ['1032731']}]\n",
      "1051000319\n",
      "1050996618\n"
     ]
    },
    {
     "name": "stderr",
     "output_type": "stream",
     "text": [
      "\r",
      " 22%|██████████████████████▋                                                                                | 22/100 [00:23<01:16,  1.01it/s]"
     ]
    },
    {
     "name": "stdout",
     "output_type": "stream",
     "text": [
      "[{'LinkSetDb': [{'Link': [{'Id': '1001813606'}, {'Id': '1000989619'}], 'DbTo': 'nuccore', 'LinkName': 'assembly_nuccore'}, {'Link': [{'Id': '1000989619'}], 'DbTo': 'nuccore', 'LinkName': 'assembly_nuccore_insdc'}, {'Link': [{'Id': '1001813606'}], 'DbTo': 'nuccore', 'LinkName': 'assembly_nuccore_refseq'}], 'ERROR': [], 'LinkSetDbHistory': [], 'DbFrom': 'assembly', 'IdList': ['648271']}]\n",
      "1000989619\n"
     ]
    },
    {
     "name": "stderr",
     "output_type": "stream",
     "text": [
      "\r",
      " 23%|███████████████████████▋                                                                               | 23/100 [00:24<01:19,  1.03s/it]"
     ]
    },
    {
     "name": "stdout",
     "output_type": "stream",
     "text": [
      "[{'LinkSetDb': [{'Link': [{'Id': '2239898597'}, {'Id': '2239898592'}, {'Id': '2239898577'}, {'Id': '2238639514'}, {'Id': '2238639494'}, {'Id': '2238635766'}], 'DbTo': 'nuccore', 'LinkName': 'assembly_nuccore'}, {'Link': [{'Id': '2238639514'}, {'Id': '2238639494'}, {'Id': '2238635766'}], 'DbTo': 'nuccore', 'LinkName': 'assembly_nuccore_insdc'}, {'Link': [{'Id': '2239898597'}, {'Id': '2239898592'}, {'Id': '2239898577'}], 'DbTo': 'nuccore', 'LinkName': 'assembly_nuccore_refseq'}], 'ERROR': [], 'LinkSetDbHistory': [], 'DbFrom': 'assembly', 'IdList': ['12719911']}]\n",
      "2238639514\n",
      "2238639494\n",
      "2238635766\n"
     ]
    },
    {
     "name": "stderr",
     "output_type": "stream",
     "text": [
      "\r",
      " 24%|████████████████████████▋                                                                              | 24/100 [00:25<01:17,  1.03s/it]"
     ]
    },
    {
     "name": "stdout",
     "output_type": "stream",
     "text": [
      "[{'LinkSetDb': [{'Link': [{'Id': '2052280210'}, {'Id': '2052279734'}, {'Id': '2050635407'}, {'Id': '2050631765'}], 'DbTo': 'nuccore', 'LinkName': 'assembly_nuccore'}, {'Link': [{'Id': '2050635407'}, {'Id': '2050631765'}], 'DbTo': 'nuccore', 'LinkName': 'assembly_nuccore_insdc'}, {'Link': [{'Id': '2052280210'}, {'Id': '2052279734'}], 'DbTo': 'nuccore', 'LinkName': 'assembly_nuccore_refseq'}], 'ERROR': [], 'LinkSetDbHistory': [], 'DbFrom': 'assembly', 'IdList': ['10283131']}]\n",
      "2050635407\n",
      "2050631765\n"
     ]
    },
    {
     "name": "stderr",
     "output_type": "stream",
     "text": [
      "\r",
      " 25%|█████████████████████████▊                                                                             | 25/100 [00:26<01:27,  1.16s/it]"
     ]
    },
    {
     "name": "stdout",
     "output_type": "stream",
     "text": [
      "[{'LinkSetDb': [{'Link': [{'Id': '1178508228'}, {'Id': '1178508223'}, {'Id': '1175777815'}, {'Id': '1175770726'}], 'DbTo': 'nuccore', 'LinkName': 'assembly_nuccore'}, {'Link': [{'Id': '1175777815'}, {'Id': '1175770726'}], 'DbTo': 'nuccore', 'LinkName': 'assembly_nuccore_insdc'}, {'Link': [{'Id': '1178508228'}, {'Id': '1178508223'}], 'DbTo': 'nuccore', 'LinkName': 'assembly_nuccore_refseq'}], 'ERROR': [], 'LinkSetDbHistory': [], 'DbFrom': 'assembly', 'IdList': ['1064241']}]\n",
      "1175777815\n",
      "1175770726\n"
     ]
    },
    {
     "name": "stderr",
     "output_type": "stream",
     "text": [
      "\r",
      " 26%|██████████████████████████▊                                                                            | 26/100 [00:28<01:33,  1.26s/it]"
     ]
    },
    {
     "name": "stdout",
     "output_type": "stream",
     "text": [
      "[{'LinkSetDb': [{'Link': [{'Id': '1934723773'}, {'Id': '1934723770'}, {'Id': '1934723763'}, {'Id': '1934723758'}, {'Id': '1934723745'}, {'Id': '1933723438'}, {'Id': '1933723425'}, {'Id': '1933723341'}, {'Id': '1933723224'}, {'Id': '1933719834'}], 'DbTo': 'nuccore', 'LinkName': 'assembly_nuccore'}, {'Link': [{'Id': '1933723438'}, {'Id': '1933723425'}, {'Id': '1933723341'}, {'Id': '1933723224'}, {'Id': '1933719834'}], 'DbTo': 'nuccore', 'LinkName': 'assembly_nuccore_insdc'}, {'Link': [{'Id': '1934723773'}, {'Id': '1934723770'}, {'Id': '1934723763'}, {'Id': '1934723758'}, {'Id': '1934723745'}], 'DbTo': 'nuccore', 'LinkName': 'assembly_nuccore_refseq'}], 'ERROR': [], 'LinkSetDbHistory': [], 'DbFrom': 'assembly', 'IdList': ['8588321']}]\n",
      "1933723438\n",
      "1933723425\n",
      "1933723341\n",
      "1933723224\n",
      "1933719834\n"
     ]
    },
    {
     "name": "stderr",
     "output_type": "stream",
     "text": [
      "\r",
      " 27%|███████████████████████████▊                                                                           | 27/100 [00:29<01:26,  1.19s/it]"
     ]
    },
    {
     "name": "stdout",
     "output_type": "stream",
     "text": [
      "[{'LinkSetDb': [{'Link': [{'Id': '1878998093'}, {'Id': '1871434607'}, {'Id': '1863667882'}, {'Id': '1863499521'}], 'DbTo': 'nuccore', 'LinkName': 'assembly_nuccore'}, {'Link': [{'Id': '1871434607'}, {'Id': '1863499521'}], 'DbTo': 'nuccore', 'LinkName': 'assembly_nuccore_insdc'}, {'Link': [{'Id': '1878998093'}, {'Id': '1863667882'}], 'DbTo': 'nuccore', 'LinkName': 'assembly_nuccore_refseq'}], 'ERROR': [], 'LinkSetDbHistory': [], 'DbFrom': 'assembly', 'IdList': ['7390001']}]\n",
      "1871434607\n",
      "1863499521\n"
     ]
    },
    {
     "name": "stderr",
     "output_type": "stream",
     "text": [
      "\r",
      " 28%|████████████████████████████▊                                                                          | 28/100 [00:30<01:22,  1.14s/it]"
     ]
    },
    {
     "name": "stdout",
     "output_type": "stream",
     "text": [
      "[{'LinkSetDb': [{'Link': [{'Id': '2290820534'}, {'Id': '2290820533'}, {'Id': '2290820532'}, {'Id': '2290820531'}, {'Id': '2289938114'}, {'Id': '2289938113'}, {'Id': '2289938112'}, {'Id': '2289938111'}], 'DbTo': 'nuccore', 'LinkName': 'assembly_nuccore'}, {'Link': [{'Id': '2289938114'}, {'Id': '2289938113'}, {'Id': '2289938112'}, {'Id': '2289938111'}], 'DbTo': 'nuccore', 'LinkName': 'assembly_nuccore_insdc'}, {'Link': [{'Id': '2290820534'}, {'Id': '2290820533'}, {'Id': '2290820532'}, {'Id': '2290820531'}], 'DbTo': 'nuccore', 'LinkName': 'assembly_nuccore_refseq'}], 'ERROR': [], 'LinkSetDbHistory': [], 'DbFrom': 'assembly', 'IdList': ['13538641']}]\n",
      "2289938114\n",
      "2289938113\n",
      "2289938112\n",
      "2289938111\n"
     ]
    },
    {
     "name": "stderr",
     "output_type": "stream",
     "text": [
      "\r",
      " 29%|█████████████████████████████▊                                                                         | 29/100 [00:31<01:18,  1.11s/it]"
     ]
    },
    {
     "name": "stdout",
     "output_type": "stream",
     "text": [
      "[{'LinkSetDb': [{'Link': [{'Id': '2151370501'}, {'Id': '2147674247'}, {'Id': '1996944437'}, {'Id': '1995703726'}], 'DbTo': 'nuccore', 'LinkName': 'assembly_nuccore'}, {'Link': [{'Id': '2147674247'}, {'Id': '1995703726'}], 'DbTo': 'nuccore', 'LinkName': 'assembly_nuccore_insdc'}, {'Link': [{'Id': '2151370501'}, {'Id': '1996944437'}], 'DbTo': 'nuccore', 'LinkName': 'assembly_nuccore_refseq'}], 'ERROR': [], 'LinkSetDbHistory': [], 'DbFrom': 'assembly', 'IdList': ['11455031']}]\n",
      "2147674247\n",
      "1995703726\n"
     ]
    },
    {
     "name": "stderr",
     "output_type": "stream",
     "text": [
      "\r",
      " 30%|██████████████████████████████▉                                                                        | 30/100 [00:32<01:15,  1.08s/it]"
     ]
    },
    {
     "name": "stdout",
     "output_type": "stream",
     "text": [
      "[{'LinkSetDb': [{'Link': [{'Id': '2444769228'}, {'Id': '2444769225'}, {'Id': '2444767932'}, {'Id': '2442305535'}, {'Id': '2442305432'}, {'Id': '2442301752'}], 'DbTo': 'nuccore', 'LinkName': 'assembly_nuccore'}, {'Link': [{'Id': '2442305535'}, {'Id': '2442305432'}, {'Id': '2442301752'}], 'DbTo': 'nuccore', 'LinkName': 'assembly_nuccore_insdc'}, {'Link': [{'Id': '2444769228'}, {'Id': '2444769225'}, {'Id': '2444767932'}], 'DbTo': 'nuccore', 'LinkName': 'assembly_nuccore_refseq'}], 'ERROR': [], 'LinkSetDbHistory': [], 'DbFrom': 'assembly', 'IdList': ['15866881']}]\n",
      "2442305535\n",
      "2442305432\n",
      "2442301752\n"
     ]
    },
    {
     "name": "stderr",
     "output_type": "stream",
     "text": [
      "\r",
      " 31%|███████████████████████████████▉                                                                       | 31/100 [00:33<01:11,  1.04s/it]"
     ]
    },
    {
     "name": "stdout",
     "output_type": "stream",
     "text": [
      "[{'LinkSetDb': [{'Link': [{'Id': '1996944738'}, {'Id': '1995707253'}], 'DbTo': 'nuccore', 'LinkName': 'assembly_nuccore'}, {'Link': [{'Id': '1995707253'}], 'DbTo': 'nuccore', 'LinkName': 'assembly_nuccore_insdc'}, {'Link': [{'Id': '1996944738'}], 'DbTo': 'nuccore', 'LinkName': 'assembly_nuccore_refseq'}], 'ERROR': [], 'LinkSetDbHistory': [], 'DbFrom': 'assembly', 'IdList': ['9392531']}]\n",
      "1995707253\n"
     ]
    },
    {
     "name": "stderr",
     "output_type": "stream",
     "text": [
      "\r",
      " 32%|████████████████████████████████▉                                                                      | 32/100 [00:34<01:10,  1.03s/it]"
     ]
    },
    {
     "name": "stdout",
     "output_type": "stream",
     "text": [
      "[{'LinkSetDb': [{'Link': [{'Id': '1830362827'}, {'Id': '1830362826'}, {'Id': '1830362825'}, {'Id': '1830362824'}, {'Id': '1829822423'}, {'Id': '1829822332'}, {'Id': '1829822215'}, {'Id': '1829818468'}], 'DbTo': 'nuccore', 'LinkName': 'assembly_nuccore'}, {'Link': [{'Id': '1829822423'}, {'Id': '1829822332'}, {'Id': '1829822215'}, {'Id': '1829818468'}], 'DbTo': 'nuccore', 'LinkName': 'assembly_nuccore_insdc'}, {'Link': [{'Id': '1830362827'}, {'Id': '1830362826'}, {'Id': '1830362825'}, {'Id': '1830362824'}], 'DbTo': 'nuccore', 'LinkName': 'assembly_nuccore_refseq'}], 'ERROR': [], 'LinkSetDbHistory': [], 'DbFrom': 'assembly', 'IdList': ['6719611']}]\n",
      "1829822423\n",
      "1829822332\n",
      "1829822215\n",
      "1829818468\n"
     ]
    },
    {
     "name": "stderr",
     "output_type": "stream",
     "text": [
      "\r",
      " 33%|█████████████████████████████████▉                                                                     | 33/100 [00:35<01:17,  1.15s/it]"
     ]
    },
    {
     "name": "stdout",
     "output_type": "stream",
     "text": [
      "[{'LinkSetDb': [{'Link': [{'Id': '2196134706'}, {'Id': '2194811866'}, {'Id': '1983712281'}, {'Id': '1982786938'}], 'DbTo': 'nuccore', 'LinkName': 'assembly_nuccore'}, {'Link': [{'Id': '2194811866'}, {'Id': '1982786938'}], 'DbTo': 'nuccore', 'LinkName': 'assembly_nuccore_insdc'}, {'Link': [{'Id': '2196134706'}, {'Id': '1983712281'}], 'DbTo': 'nuccore', 'LinkName': 'assembly_nuccore_refseq'}], 'ERROR': [], 'LinkSetDbHistory': [], 'DbFrom': 'assembly', 'IdList': ['12159421']}]\n",
      "2194811866\n",
      "1982786938\n"
     ]
    },
    {
     "name": "stderr",
     "output_type": "stream",
     "text": [
      "\r",
      " 34%|███████████████████████████████████                                                                    | 34/100 [00:36<01:13,  1.11s/it]"
     ]
    },
    {
     "name": "stdout",
     "output_type": "stream",
     "text": [
      "[{'LinkSetDb': [{'Link': [{'Id': '1611099844'}, {'Id': '1611099838'}, {'Id': '1611099772'}, {'Id': '1611099525'}, {'Id': '1609450171'}, {'Id': '1609450134'}, {'Id': '1609450072'}, {'Id': '1609446414'}], 'DbTo': 'nuccore', 'LinkName': 'assembly_nuccore'}, {'Link': [{'Id': '1609450171'}, {'Id': '1609450134'}, {'Id': '1609450072'}, {'Id': '1609446414'}], 'DbTo': 'nuccore', 'LinkName': 'assembly_nuccore_insdc'}, {'Link': [{'Id': '1611099844'}, {'Id': '1611099838'}, {'Id': '1611099772'}, {'Id': '1611099525'}], 'DbTo': 'nuccore', 'LinkName': 'assembly_nuccore_refseq'}], 'ERROR': [], 'LinkSetDbHistory': [], 'DbFrom': 'assembly', 'IdList': ['2552021']}]\n",
      "1609450171\n",
      "1609450134\n",
      "1609450072\n",
      "1609446414\n"
     ]
    },
    {
     "name": "stderr",
     "output_type": "stream",
     "text": [
      "\r",
      " 35%|████████████████████████████████████                                                                   | 35/100 [00:37<01:10,  1.09s/it]"
     ]
    },
    {
     "name": "stdout",
     "output_type": "stream",
     "text": [
      "[{'LinkSetDb': [{'Link': [{'Id': '2245007818'}, {'Id': '2245007743'}, {'Id': '2242489750'}, {'Id': '2242486171'}], 'DbTo': 'nuccore', 'LinkName': 'assembly_nuccore'}, {'Link': [{'Id': '2242489750'}, {'Id': '2242486171'}], 'DbTo': 'nuccore', 'LinkName': 'assembly_nuccore_insdc'}, {'Link': [{'Id': '2245007818'}, {'Id': '2245007743'}], 'DbTo': 'nuccore', 'LinkName': 'assembly_nuccore_refseq'}], 'ERROR': [], 'LinkSetDbHistory': [], 'DbFrom': 'assembly', 'IdList': ['12812961']}]\n",
      "2242489750\n",
      "2242486171\n"
     ]
    },
    {
     "name": "stderr",
     "output_type": "stream",
     "text": [
      "\r",
      " 36%|█████████████████████████████████████                                                                  | 36/100 [00:38<01:07,  1.06s/it]"
     ]
    },
    {
     "name": "stdout",
     "output_type": "stream",
     "text": [
      "[{'LinkSetDb': [{'Link': [{'Id': '1063270691'}, {'Id': '1062699394'}], 'DbTo': 'nuccore', 'LinkName': 'assembly_nuccore'}, {'Link': [{'Id': '1062699394'}], 'DbTo': 'nuccore', 'LinkName': 'assembly_nuccore_insdc'}, {'Link': [{'Id': '1063270691'}], 'DbTo': 'nuccore', 'LinkName': 'assembly_nuccore_refseq'}], 'ERROR': [], 'LinkSetDbHistory': [], 'DbFrom': 'assembly', 'IdList': ['791871']}]\n",
      "1062699394\n"
     ]
    },
    {
     "name": "stderr",
     "output_type": "stream",
     "text": [
      "\r",
      " 37%|██████████████████████████████████████                                                                 | 37/100 [00:40<01:06,  1.06s/it]"
     ]
    },
    {
     "name": "stdout",
     "output_type": "stream",
     "text": [
      "[{'LinkSetDb': [{'Link': [{'Id': '2290824621'}, {'Id': '2290824620'}, {'Id': '2290824619'}, {'Id': '2290824618'}, {'Id': '2290824614'}, {'Id': '2289938038'}, {'Id': '2289938037'}, {'Id': '2289938036'}, {'Id': '2289938035'}, {'Id': '2289938034'}], 'DbTo': 'nuccore', 'LinkName': 'assembly_nuccore'}, {'Link': [{'Id': '2289938038'}, {'Id': '2289938037'}, {'Id': '2289938036'}, {'Id': '2289938035'}, {'Id': '2289938034'}], 'DbTo': 'nuccore', 'LinkName': 'assembly_nuccore_insdc'}, {'Link': [{'Id': '2290824621'}, {'Id': '2290824620'}, {'Id': '2290824619'}, {'Id': '2290824618'}, {'Id': '2290824614'}], 'DbTo': 'nuccore', 'LinkName': 'assembly_nuccore_refseq'}], 'ERROR': [], 'LinkSetDbHistory': [], 'DbFrom': 'assembly', 'IdList': ['13538581']}]\n",
      "2289938038\n",
      "2289938037\n",
      "2289938036\n",
      "2289938035\n",
      "2289938034\n"
     ]
    },
    {
     "name": "stderr",
     "output_type": "stream",
     "text": [
      "\r",
      " 38%|███████████████████████████████████████▏                                                               | 38/100 [00:41<01:04,  1.05s/it]"
     ]
    },
    {
     "name": "stdout",
     "output_type": "stream",
     "text": [
      "[{'LinkSetDb': [{'Link': [{'Id': '2036372119'}, {'Id': '2036372020'}, {'Id': '2029180704'}, {'Id': '2029177209'}], 'DbTo': 'nuccore', 'LinkName': 'assembly_nuccore'}, {'Link': [{'Id': '2029180704'}, {'Id': '2029177209'}], 'DbTo': 'nuccore', 'LinkName': 'assembly_nuccore_insdc'}, {'Link': [{'Id': '2036372119'}, {'Id': '2036372020'}], 'DbTo': 'nuccore', 'LinkName': 'assembly_nuccore_refseq'}], 'ERROR': [], 'LinkSetDbHistory': [], 'DbFrom': 'assembly', 'IdList': ['9928511']}]\n",
      "2029180704\n",
      "2029177209\n"
     ]
    },
    {
     "name": "stderr",
     "output_type": "stream",
     "text": [
      "\r",
      " 39%|████████████████████████████████████████▏                                                              | 39/100 [00:42<01:03,  1.04s/it]"
     ]
    },
    {
     "name": "stdout",
     "output_type": "stream",
     "text": [
      "[{'LinkSetDb': [{'Link': [{'Id': '1092481659'}, {'Id': '1092481621'}, {'Id': '1087754084'}, {'Id': '1087753966'}], 'DbTo': 'nuccore', 'LinkName': 'assembly_nuccore'}, {'Link': [{'Id': '1087754084'}, {'Id': '1087753966'}], 'DbTo': 'nuccore', 'LinkName': 'assembly_nuccore_insdc'}, {'Link': [{'Id': '1092481659'}, {'Id': '1092481621'}], 'DbTo': 'nuccore', 'LinkName': 'assembly_nuccore_refseq'}], 'ERROR': [], 'LinkSetDbHistory': [], 'DbFrom': 'assembly', 'IdList': ['836141']}]\n",
      "1087754084\n",
      "1087753966\n"
     ]
    },
    {
     "name": "stderr",
     "output_type": "stream",
     "text": [
      "\r",
      " 40%|█████████████████████████████████████████▏                                                             | 40/100 [00:43<01:02,  1.04s/it]"
     ]
    },
    {
     "name": "stdout",
     "output_type": "stream",
     "text": [
      "[{'LinkSetDb': [{'Link': [{'Id': '2239901795'}, {'Id': '2239901794'}, {'Id': '2239901793'}, {'Id': '2238599581'}, {'Id': '2238599557'}, {'Id': '2238595919'}], 'DbTo': 'nuccore', 'LinkName': 'assembly_nuccore'}, {'Link': [{'Id': '2238599581'}, {'Id': '2238599557'}, {'Id': '2238595919'}], 'DbTo': 'nuccore', 'LinkName': 'assembly_nuccore_insdc'}, {'Link': [{'Id': '2239901795'}, {'Id': '2239901794'}, {'Id': '2239901793'}], 'DbTo': 'nuccore', 'LinkName': 'assembly_nuccore_refseq'}], 'ERROR': [], 'LinkSetDbHistory': [], 'DbFrom': 'assembly', 'IdList': ['12718671']}]\n",
      "2238599581\n",
      "2238599557\n",
      "2238595919\n"
     ]
    },
    {
     "name": "stderr",
     "output_type": "stream",
     "text": [
      "\r",
      " 41%|██████████████████████████████████████████▏                                                            | 41/100 [00:47<01:53,  1.93s/it]"
     ]
    },
    {
     "name": "stdout",
     "output_type": "stream",
     "text": [
      "[{'LinkSetDb': [{'Link': [{'Id': '1632364451'}, {'Id': '1632364344'}, {'Id': '1626723902'}, {'Id': '1626720310'}], 'DbTo': 'nuccore', 'LinkName': 'assembly_nuccore'}, {'Link': [{'Id': '1626723902'}, {'Id': '1626720310'}], 'DbTo': 'nuccore', 'LinkName': 'assembly_nuccore_insdc'}, {'Link': [{'Id': '1632364451'}, {'Id': '1632364344'}], 'DbTo': 'nuccore', 'LinkName': 'assembly_nuccore_refseq'}], 'ERROR': [], 'LinkSetDbHistory': [], 'DbFrom': 'assembly', 'IdList': ['2650481']}]\n",
      "1626723902\n",
      "1626720310\n"
     ]
    },
    {
     "name": "stderr",
     "output_type": "stream",
     "text": [
      "\r",
      " 42%|███████████████████████████████████████████▎                                                           | 42/100 [00:48<01:35,  1.65s/it]"
     ]
    },
    {
     "name": "stdout",
     "output_type": "stream",
     "text": [
      "[{'LinkSetDb': [{'Link': [{'Id': '1915484503'}, {'Id': '1915484502'}, {'Id': '1915484501'}, {'Id': '1915484500'}, {'Id': '1915484499'}, {'Id': '1915432117'}, {'Id': '1915432100'}, {'Id': '1915432092'}, {'Id': '1915431933'}, {'Id': '1915427897'}], 'DbTo': 'nuccore', 'LinkName': 'assembly_nuccore'}, {'Link': [{'Id': '1915432117'}, {'Id': '1915432100'}, {'Id': '1915432092'}, {'Id': '1915431933'}, {'Id': '1915427897'}], 'DbTo': 'nuccore', 'LinkName': 'assembly_nuccore_insdc'}, {'Link': [{'Id': '1915484503'}, {'Id': '1915484502'}, {'Id': '1915484501'}, {'Id': '1915484500'}, {'Id': '1915484499'}], 'DbTo': 'nuccore', 'LinkName': 'assembly_nuccore_refseq'}], 'ERROR': [], 'LinkSetDbHistory': [], 'DbFrom': 'assembly', 'IdList': ['8237601']}]\n",
      "1915432117\n",
      "1915432100\n",
      "1915432092\n",
      "1915431933\n",
      "1915427897\n"
     ]
    },
    {
     "name": "stderr",
     "output_type": "stream",
     "text": [
      "\r",
      " 43%|████████████████████████████████████████████▎                                                          | 43/100 [00:49<01:23,  1.46s/it]"
     ]
    },
    {
     "name": "stdout",
     "output_type": "stream",
     "text": [
      "[{'LinkSetDb': [{'Link': [{'Id': '1475631131'}, {'Id': '1475631122'}, {'Id': '1475631023'}, {'Id': '1474720664'}, {'Id': '1474720650'}, {'Id': '1474716914'}], 'DbTo': 'nuccore', 'LinkName': 'assembly_nuccore'}, {'Link': [{'Id': '1474720664'}, {'Id': '1474720650'}, {'Id': '1474716914'}], 'DbTo': 'nuccore', 'LinkName': 'assembly_nuccore_insdc'}, {'Link': [{'Id': '1475631131'}, {'Id': '1475631122'}, {'Id': '1475631023'}], 'DbTo': 'nuccore', 'LinkName': 'assembly_nuccore_refseq'}], 'ERROR': [], 'LinkSetDbHistory': [], 'DbFrom': 'assembly', 'IdList': ['1950351']}]\n",
      "1474720664\n",
      "1474720650\n",
      "1474716914\n"
     ]
    },
    {
     "name": "stderr",
     "output_type": "stream",
     "text": [
      "\r",
      " 44%|█████████████████████████████████████████████▎                                                         | 44/100 [00:50<01:14,  1.33s/it]"
     ]
    },
    {
     "name": "stdout",
     "output_type": "stream",
     "text": [
      "[{'LinkSetDb': [{'Link': [{'Id': '2203666164'}, {'Id': '2203168253'}], 'DbTo': 'nuccore', 'LinkName': 'assembly_nuccore'}, {'Link': [{'Id': '2203168253'}], 'DbTo': 'nuccore', 'LinkName': 'assembly_nuccore_insdc'}, {'Link': [{'Id': '2203666164'}], 'DbTo': 'nuccore', 'LinkName': 'assembly_nuccore_refseq'}], 'ERROR': [], 'LinkSetDbHistory': [], 'DbFrom': 'assembly', 'IdList': ['12266941']}]\n",
      "2203168253\n"
     ]
    },
    {
     "name": "stderr",
     "output_type": "stream",
     "text": [
      "\r",
      " 45%|██████████████████████████████████████████████▎                                                        | 45/100 [00:51<01:08,  1.24s/it]"
     ]
    },
    {
     "name": "stdout",
     "output_type": "stream",
     "text": [
      "[{'LinkSetDb': [{'Link': [{'Id': '2239903897'}, {'Id': '2239903896'}, {'Id': '2238711643'}, {'Id': '2238708059'}], 'DbTo': 'nuccore', 'LinkName': 'assembly_nuccore'}, {'Link': [{'Id': '2238711643'}, {'Id': '2238708059'}], 'DbTo': 'nuccore', 'LinkName': 'assembly_nuccore_insdc'}, {'Link': [{'Id': '2239903897'}, {'Id': '2239903896'}], 'DbTo': 'nuccore', 'LinkName': 'assembly_nuccore_refseq'}], 'ERROR': [], 'LinkSetDbHistory': [], 'DbFrom': 'assembly', 'IdList': ['12720111']}]\n",
      "2238711643\n",
      "2238708059\n"
     ]
    },
    {
     "name": "stderr",
     "output_type": "stream",
     "text": [
      "\r",
      " 46%|███████████████████████████████████████████████▍                                                       | 46/100 [00:52<01:03,  1.17s/it]"
     ]
    },
    {
     "name": "stdout",
     "output_type": "stream",
     "text": [
      "[{'LinkSetDb': [{'Link': [{'Id': '2416706409'}, {'Id': '2416706408'}, {'Id': '2416706407'}, {'Id': '2416706406'}, {'Id': '2416418932'}, {'Id': '2416418931'}, {'Id': '2416418930'}, {'Id': '2416418929'}], 'DbTo': 'nuccore', 'LinkName': 'assembly_nuccore'}, {'Link': [{'Id': '2416418932'}, {'Id': '2416418931'}, {'Id': '2416418930'}, {'Id': '2416418929'}], 'DbTo': 'nuccore', 'LinkName': 'assembly_nuccore_insdc'}, {'Link': [{'Id': '2416706409'}, {'Id': '2416706408'}, {'Id': '2416706407'}, {'Id': '2416706406'}], 'DbTo': 'nuccore', 'LinkName': 'assembly_nuccore_refseq'}], 'ERROR': [], 'LinkSetDbHistory': [], 'DbFrom': 'assembly', 'IdList': ['15073091']}]\n",
      "2416418932\n",
      "2416418931\n",
      "2416418930\n",
      "2416418929\n"
     ]
    },
    {
     "name": "stderr",
     "output_type": "stream",
     "text": [
      "\r",
      " 47%|████████████████████████████████████████████████▍                                                      | 47/100 [00:53<00:58,  1.10s/it]"
     ]
    },
    {
     "name": "stdout",
     "output_type": "stream",
     "text": [
      "[{'LinkSetDb': [{'Link': [{'Id': '1838514091'}, {'Id': '1838514076'}, {'Id': '1837826003'}, {'Id': '1837822239'}], 'DbTo': 'nuccore', 'LinkName': 'assembly_nuccore'}, {'Link': [{'Id': '1837826003'}, {'Id': '1837822239'}], 'DbTo': 'nuccore', 'LinkName': 'assembly_nuccore_insdc'}, {'Link': [{'Id': '1838514091'}, {'Id': '1838514076'}], 'DbTo': 'nuccore', 'LinkName': 'assembly_nuccore_refseq'}], 'ERROR': [], 'LinkSetDbHistory': [], 'DbFrom': 'assembly', 'IdList': ['7061401']}]\n",
      "1837826003\n",
      "1837822239\n"
     ]
    },
    {
     "name": "stderr",
     "output_type": "stream",
     "text": [
      "\r",
      " 48%|█████████████████████████████████████████████████▍                                                     | 48/100 [00:54<00:54,  1.05s/it]"
     ]
    },
    {
     "name": "stdout",
     "output_type": "stream",
     "text": [
      "[{'LinkSetDb': [{'Link': [{'Id': '2484006859'}, {'Id': '2484006858'}, {'Id': '2484006857'}, {'Id': '2484006856'}, {'Id': '2484006855'}, {'Id': '2483251370'}, {'Id': '2483251354'}, {'Id': '2483251230'}, {'Id': '2483251129'}, {'Id': '2483247716'}], 'DbTo': 'nuccore', 'LinkName': 'assembly_nuccore'}, {'Link': [{'Id': '2483251370'}, {'Id': '2483251354'}, {'Id': '2483251230'}, {'Id': '2483251129'}, {'Id': '2483247716'}], 'DbTo': 'nuccore', 'LinkName': 'assembly_nuccore_insdc'}, {'Link': [{'Id': '2484006859'}, {'Id': '2484006858'}, {'Id': '2484006857'}, {'Id': '2484006856'}, {'Id': '2484006855'}], 'DbTo': 'nuccore', 'LinkName': 'assembly_nuccore_refseq'}], 'ERROR': [], 'LinkSetDbHistory': [], 'DbFrom': 'assembly', 'IdList': ['16400971']}]\n",
      "2483251370\n",
      "2483251354\n",
      "2483251230\n",
      "2483251129\n",
      "2483247716\n"
     ]
    },
    {
     "name": "stderr",
     "output_type": "stream",
     "text": [
      "\r",
      " 49%|██████████████████████████████████████████████████▍                                                    | 49/100 [00:55<00:53,  1.04s/it]"
     ]
    },
    {
     "name": "stdout",
     "output_type": "stream",
     "text": [
      "[{'LinkSetDb': [{'Link': [{'Id': '2273361754'}, {'Id': '2273361753'}, {'Id': '2273361750'}, {'Id': '2264001646'}, {'Id': '2264001546'}, {'Id': '2263997137'}], 'DbTo': 'nuccore', 'LinkName': 'assembly_nuccore'}, {'Link': [{'Id': '2264001646'}, {'Id': '2264001546'}, {'Id': '2263997137'}], 'DbTo': 'nuccore', 'LinkName': 'assembly_nuccore_insdc'}, {'Link': [{'Id': '2273361754'}, {'Id': '2273361753'}, {'Id': '2273361750'}], 'DbTo': 'nuccore', 'LinkName': 'assembly_nuccore_refseq'}], 'ERROR': [], 'LinkSetDbHistory': [], 'DbFrom': 'assembly', 'IdList': ['13279381']}]\n",
      "2264001646\n",
      "2264001546\n",
      "2263997137\n"
     ]
    },
    {
     "name": "stderr",
     "output_type": "stream",
     "text": [
      "\r",
      " 50%|███████████████████████████████████████████████████▌                                                   | 50/100 [00:56<00:53,  1.07s/it]"
     ]
    },
    {
     "name": "stdout",
     "output_type": "stream",
     "text": [
      "[{'LinkSetDb': [{'Link': [{'Id': '2279028564'}, {'Id': '2279028353'}, {'Id': '2277229415'}, {'Id': '2277225680'}], 'DbTo': 'nuccore', 'LinkName': 'assembly_nuccore'}, {'Link': [{'Id': '2277229415'}, {'Id': '2277225680'}], 'DbTo': 'nuccore', 'LinkName': 'assembly_nuccore_insdc'}, {'Link': [{'Id': '2279028564'}, {'Id': '2279028353'}], 'DbTo': 'nuccore', 'LinkName': 'assembly_nuccore_refseq'}], 'ERROR': [], 'LinkSetDbHistory': [], 'DbFrom': 'assembly', 'IdList': ['13357651']}]\n",
      "2277229415\n",
      "2277225680\n"
     ]
    },
    {
     "name": "stderr",
     "output_type": "stream",
     "text": [
      "\r",
      " 51%|████████████████████████████████████████████████████▌                                                  | 51/100 [00:57<00:51,  1.05s/it]"
     ]
    },
    {
     "name": "stdout",
     "output_type": "stream",
     "text": [
      "[{'LinkSetDb': [{'Link': [{'Id': '1878197302'}, {'Id': '1878197301'}, {'Id': '1878197300'}, {'Id': '1878197209'}, {'Id': '1868800461'}, {'Id': '1868800460'}, {'Id': '1868800459'}, {'Id': '1868800458'}], 'DbTo': 'nuccore', 'LinkName': 'assembly_nuccore'}, {'Link': [{'Id': '1868800461'}, {'Id': '1868800460'}, {'Id': '1868800459'}, {'Id': '1868800458'}], 'DbTo': 'nuccore', 'LinkName': 'assembly_nuccore_insdc'}, {'Link': [{'Id': '1878197302'}, {'Id': '1878197301'}, {'Id': '1878197300'}, {'Id': '1878197209'}], 'DbTo': 'nuccore', 'LinkName': 'assembly_nuccore_refseq'}], 'ERROR': [], 'LinkSetDbHistory': [], 'DbFrom': 'assembly', 'IdList': ['7365931']}]\n",
      "1868800461\n",
      "1868800460\n",
      "1868800459\n",
      "1868800458\n"
     ]
    },
    {
     "name": "stderr",
     "output_type": "stream",
     "text": [
      "\r",
      " 52%|█████████████████████████████████████████████████████▌                                                 | 52/100 [00:58<00:50,  1.05s/it]"
     ]
    },
    {
     "name": "stdout",
     "output_type": "stream",
     "text": [
      "[{'LinkSetDb': [{'Link': [{'Id': '2239901108'}, {'Id': '2239901084'}, {'Id': '2238655023'}, {'Id': '2238651276'}], 'DbTo': 'nuccore', 'LinkName': 'assembly_nuccore'}, {'Link': [{'Id': '2238655023'}, {'Id': '2238651276'}], 'DbTo': 'nuccore', 'LinkName': 'assembly_nuccore_insdc'}, {'Link': [{'Id': '2239901108'}, {'Id': '2239901084'}], 'DbTo': 'nuccore', 'LinkName': 'assembly_nuccore_refseq'}], 'ERROR': [], 'LinkSetDbHistory': [], 'DbFrom': 'assembly', 'IdList': ['12719961']}]\n",
      "2238655023\n",
      "2238651276\n"
     ]
    },
    {
     "name": "stderr",
     "output_type": "stream",
     "text": [
      "\r",
      " 53%|██████████████████████████████████████████████████████▌                                                | 53/100 [00:59<00:47,  1.01s/it]"
     ]
    },
    {
     "name": "stdout",
     "output_type": "stream",
     "text": [
      "[{'LinkSetDb': [{'Link': [{'Id': '2265856499'}, {'Id': '2265856497'}, {'Id': '2265856488'}, {'Id': '2265856440'}, {'Id': '2264032881'}, {'Id': '2264032865'}, {'Id': '2264032755'}, {'Id': '2264029138'}], 'DbTo': 'nuccore', 'LinkName': 'assembly_nuccore'}, {'Link': [{'Id': '2264032881'}, {'Id': '2264032865'}, {'Id': '2264032755'}, {'Id': '2264029138'}], 'DbTo': 'nuccore', 'LinkName': 'assembly_nuccore_insdc'}, {'Link': [{'Id': '2265856499'}, {'Id': '2265856497'}, {'Id': '2265856488'}, {'Id': '2265856440'}], 'DbTo': 'nuccore', 'LinkName': 'assembly_nuccore_refseq'}], 'ERROR': [], 'LinkSetDbHistory': [], 'DbFrom': 'assembly', 'IdList': ['13199731']}]\n",
      "2264032881\n",
      "2264032865\n",
      "2264032755\n",
      "2264029138\n"
     ]
    },
    {
     "name": "stderr",
     "output_type": "stream",
     "text": [
      "\r",
      " 54%|███████████████████████████████████████████████████████▌                                               | 54/100 [01:00<00:46,  1.01s/it]"
     ]
    },
    {
     "name": "stdout",
     "output_type": "stream",
     "text": [
      "[{'LinkSetDb': [{'Link': [{'Id': '2239897769'}, {'Id': '2239897768'}, {'Id': '2239897767'}, {'Id': '2238651159'}, {'Id': '2238651068'}, {'Id': '2238647360'}], 'DbTo': 'nuccore', 'LinkName': 'assembly_nuccore'}, {'Link': [{'Id': '2238651159'}, {'Id': '2238651068'}, {'Id': '2238647360'}], 'DbTo': 'nuccore', 'LinkName': 'assembly_nuccore_insdc'}, {'Link': [{'Id': '2239897769'}, {'Id': '2239897768'}, {'Id': '2239897767'}], 'DbTo': 'nuccore', 'LinkName': 'assembly_nuccore_refseq'}], 'ERROR': [], 'LinkSetDbHistory': [], 'DbFrom': 'assembly', 'IdList': ['12719951']}]\n",
      "2238651159\n",
      "2238651068\n",
      "2238647360\n"
     ]
    },
    {
     "name": "stderr",
     "output_type": "stream",
     "text": [
      "\r",
      " 55%|████████████████████████████████████████████████████████▋                                              | 55/100 [01:01<00:45,  1.02s/it]"
     ]
    },
    {
     "name": "stdout",
     "output_type": "stream",
     "text": [
      "[{'LinkSetDb': [{'Link': [{'Id': '2444770764'}, {'Id': '2444770306'}, {'Id': '2442309296'}, {'Id': '2442305562'}], 'DbTo': 'nuccore', 'LinkName': 'assembly_nuccore'}, {'Link': [{'Id': '2442309296'}, {'Id': '2442305562'}], 'DbTo': 'nuccore', 'LinkName': 'assembly_nuccore_insdc'}, {'Link': [{'Id': '2444770764'}, {'Id': '2444770306'}], 'DbTo': 'nuccore', 'LinkName': 'assembly_nuccore_refseq'}], 'ERROR': [], 'LinkSetDbHistory': [], 'DbFrom': 'assembly', 'IdList': ['15866931']}]\n",
      "2442309296\n",
      "2442305562\n"
     ]
    },
    {
     "name": "stderr",
     "output_type": "stream",
     "text": [
      "\r",
      " 56%|█████████████████████████████████████████████████████████▋                                             | 56/100 [01:02<00:45,  1.02s/it]"
     ]
    },
    {
     "name": "stdout",
     "output_type": "stream",
     "text": [
      "[{'LinkSetDb': [{'Link': [{'Id': '2239898060'}, {'Id': '2239898059'}, {'Id': '2238591641'}, {'Id': '2238587446'}], 'DbTo': 'nuccore', 'LinkName': 'assembly_nuccore'}, {'Link': [{'Id': '2238591641'}, {'Id': '2238587446'}], 'DbTo': 'nuccore', 'LinkName': 'assembly_nuccore_insdc'}, {'Link': [{'Id': '2239898060'}, {'Id': '2239898059'}], 'DbTo': 'nuccore', 'LinkName': 'assembly_nuccore_refseq'}], 'ERROR': [], 'LinkSetDbHistory': [], 'DbFrom': 'assembly', 'IdList': ['12718661']}]\n",
      "2238591641\n",
      "2238587446\n"
     ]
    },
    {
     "name": "stderr",
     "output_type": "stream",
     "text": [
      "\r",
      " 57%|██████████████████████████████████████████████████████████▋                                            | 57/100 [01:03<00:42,  1.01it/s]"
     ]
    },
    {
     "name": "stdout",
     "output_type": "stream",
     "text": [
      "[{'LinkSetDb': [{'Link': [{'Id': '1867852250'}, {'Id': '1867852248'}, {'Id': '1867852196'}, {'Id': '1866709874'}, {'Id': '1866709812'}, {'Id': '1866706073'}], 'DbTo': 'nuccore', 'LinkName': 'assembly_nuccore'}, {'Link': [{'Id': '1866709874'}, {'Id': '1866709812'}, {'Id': '1866706073'}], 'DbTo': 'nuccore', 'LinkName': 'assembly_nuccore_insdc'}, {'Link': [{'Id': '1867852250'}, {'Id': '1867852248'}, {'Id': '1867852196'}], 'DbTo': 'nuccore', 'LinkName': 'assembly_nuccore_refseq'}], 'ERROR': [], 'LinkSetDbHistory': [], 'DbFrom': 'assembly', 'IdList': ['7332291']}]\n",
      "1866709874\n",
      "1866709812\n",
      "1866706073\n"
     ]
    },
    {
     "name": "stderr",
     "output_type": "stream",
     "text": [
      "\r",
      " 58%|███████████████████████████████████████████████████████████▋                                           | 58/100 [01:04<00:45,  1.09s/it]"
     ]
    },
    {
     "name": "stdout",
     "output_type": "stream",
     "text": [
      "[{'LinkSetDb': [{'Link': [{'Id': '2203674277'}, {'Id': '2203026124'}], 'DbTo': 'nuccore', 'LinkName': 'assembly_nuccore'}, {'Link': [{'Id': '2203026124'}], 'DbTo': 'nuccore', 'LinkName': 'assembly_nuccore_insdc'}, {'Link': [{'Id': '2203674277'}], 'DbTo': 'nuccore', 'LinkName': 'assembly_nuccore_refseq'}], 'ERROR': [], 'LinkSetDbHistory': [], 'DbFrom': 'assembly', 'IdList': ['12263751']}]\n",
      "2203026124\n"
     ]
    },
    {
     "name": "stderr",
     "output_type": "stream",
     "text": [
      "\r",
      " 59%|████████████████████████████████████████████████████████████▊                                          | 59/100 [01:05<00:43,  1.07s/it]"
     ]
    },
    {
     "name": "stdout",
     "output_type": "stream",
     "text": [
      "[{'LinkSetDb': [{'Link': [{'Id': '1213225842'}, {'Id': '1213225838'}, {'Id': '1213225837'}, {'Id': '1213225835'}, {'Id': '1213225833'}, {'Id': '1213225501'}, {'Id': '1212258065'}, {'Id': '1212258059'}, {'Id': '1212258052'}, {'Id': '1212258048'}, {'Id': '1212258046'}, {'Id': '1212254271'}], 'DbTo': 'nuccore', 'LinkName': 'assembly_nuccore'}, {'Link': [{'Id': '1212258065'}, {'Id': '1212258059'}, {'Id': '1212258052'}, {'Id': '1212258048'}, {'Id': '1212258046'}, {'Id': '1212254271'}], 'DbTo': 'nuccore', 'LinkName': 'assembly_nuccore_insdc'}, {'Link': [{'Id': '1213225842'}, {'Id': '1213225838'}, {'Id': '1213225837'}, {'Id': '1213225835'}, {'Id': '1213225833'}, {'Id': '1213225501'}], 'DbTo': 'nuccore', 'LinkName': 'assembly_nuccore_refseq'}], 'ERROR': [], 'LinkSetDbHistory': [], 'DbFrom': 'assembly', 'IdList': ['1141461']}]\n",
      "1212258065\n",
      "1212258059\n",
      "1212258052\n",
      "1212258048\n",
      "1212258046\n",
      "1212254271\n"
     ]
    },
    {
     "name": "stderr",
     "output_type": "stream",
     "text": [
      "\r",
      " 60%|█████████████████████████████████████████████████████████████▊                                         | 60/100 [01:06<00:42,  1.06s/it]"
     ]
    },
    {
     "name": "stdout",
     "output_type": "stream",
     "text": [
      "[{'LinkSetDb': [{'Link': [{'Id': '2199829094'}, {'Id': '2199829093'}, {'Id': '2199829038'}, {'Id': '2198376703'}, {'Id': '2198376702'}, {'Id': '2198376701'}], 'DbTo': 'nuccore', 'LinkName': 'assembly_nuccore'}, {'Link': [{'Id': '2198376703'}, {'Id': '2198376702'}, {'Id': '2198376701'}], 'DbTo': 'nuccore', 'LinkName': 'assembly_nuccore_insdc'}, {'Link': [{'Id': '2199829094'}, {'Id': '2199829093'}, {'Id': '2199829038'}], 'DbTo': 'nuccore', 'LinkName': 'assembly_nuccore_refseq'}], 'ERROR': [], 'LinkSetDbHistory': [], 'DbFrom': 'assembly', 'IdList': ['12208811']}]\n",
      "2198376703\n",
      "2198376702\n",
      "2198376701\n"
     ]
    },
    {
     "name": "stderr",
     "output_type": "stream",
     "text": [
      "\r",
      " 61%|██████████████████████████████████████████████████████████████▊                                        | 61/100 [01:07<00:45,  1.15s/it]"
     ]
    },
    {
     "name": "stdout",
     "output_type": "stream",
     "text": [
      "[{'LinkSetDb': [{'Link': [{'Id': '2239894154'}, {'Id': '2239894153'}, {'Id': '2238587348'}, {'Id': '2238583611'}], 'DbTo': 'nuccore', 'LinkName': 'assembly_nuccore'}, {'Link': [{'Id': '2238587348'}, {'Id': '2238583611'}], 'DbTo': 'nuccore', 'LinkName': 'assembly_nuccore_insdc'}, {'Link': [{'Id': '2239894154'}, {'Id': '2239894153'}], 'DbTo': 'nuccore', 'LinkName': 'assembly_nuccore_refseq'}], 'ERROR': [], 'LinkSetDbHistory': [], 'DbFrom': 'assembly', 'IdList': ['12718651']}]\n",
      "2238587348\n",
      "2238583611\n"
     ]
    },
    {
     "name": "stderr",
     "output_type": "stream",
     "text": [
      "\r",
      " 62%|███████████████████████████████████████████████████████████████▊                                       | 62/100 [01:08<00:41,  1.10s/it]"
     ]
    },
    {
     "name": "stdout",
     "output_type": "stream",
     "text": [
      "[{'LinkSetDb': [{'Link': [{'Id': '1475546974'}, {'Id': '1475546973'}, {'Id': '1475546970'}, {'Id': '1474562838'}, {'Id': '1474562821'}, {'Id': '1474559164'}], 'DbTo': 'nuccore', 'LinkName': 'assembly_nuccore'}, {'Link': [{'Id': '1474562838'}, {'Id': '1474562821'}, {'Id': '1474559164'}], 'DbTo': 'nuccore', 'LinkName': 'assembly_nuccore_insdc'}, {'Link': [{'Id': '1475546974'}, {'Id': '1475546973'}, {'Id': '1475546970'}], 'DbTo': 'nuccore', 'LinkName': 'assembly_nuccore_refseq'}], 'ERROR': [], 'LinkSetDbHistory': [], 'DbFrom': 'assembly', 'IdList': ['1947011']}]\n",
      "1474562838\n",
      "1474562821\n",
      "1474559164\n"
     ]
    },
    {
     "name": "stderr",
     "output_type": "stream",
     "text": [
      "\r",
      " 63%|████████████████████████████████████████████████████████████████▉                                      | 63/100 [01:09<00:39,  1.08s/it]"
     ]
    },
    {
     "name": "stdout",
     "output_type": "stream",
     "text": [
      "[{'LinkSetDb': [{'Link': [{'Id': '1276331214'}, {'Id': '1275585628'}], 'DbTo': 'nuccore', 'LinkName': 'assembly_nuccore'}, {'Link': [{'Id': '1275585628'}], 'DbTo': 'nuccore', 'LinkName': 'assembly_nuccore_insdc'}, {'Link': [{'Id': '1276331214'}], 'DbTo': 'nuccore', 'LinkName': 'assembly_nuccore_refseq'}], 'ERROR': [], 'LinkSetDbHistory': [], 'DbFrom': 'assembly', 'IdList': ['1434611']}]\n",
      "1275585628\n"
     ]
    },
    {
     "name": "stderr",
     "output_type": "stream",
     "text": [
      "\r",
      " 64%|█████████████████████████████████████████████████████████████████▉                                     | 64/100 [01:11<00:39,  1.09s/it]"
     ]
    },
    {
     "name": "stdout",
     "output_type": "stream",
     "text": [
      "[{'LinkSetDb': [{'Link': [{'Id': '1110691346'}, {'Id': '1110690848'}, {'Id': '1109143268'}, {'Id': '1109138823'}], 'DbTo': 'nuccore', 'LinkName': 'assembly_nuccore'}, {'Link': [{'Id': '1109143268'}, {'Id': '1109138823'}], 'DbTo': 'nuccore', 'LinkName': 'assembly_nuccore_insdc'}, {'Link': [{'Id': '1110691346'}, {'Id': '1110690848'}], 'DbTo': 'nuccore', 'LinkName': 'assembly_nuccore_refseq'}], 'ERROR': [], 'LinkSetDbHistory': [], 'DbFrom': 'assembly', 'IdList': ['894901']}]\n",
      "1109143268\n",
      "1109138823\n"
     ]
    },
    {
     "name": "stderr",
     "output_type": "stream",
     "text": [
      "\r",
      " 65%|██████████████████████████████████████████████████████████████████▉                                    | 65/100 [01:12<00:37,  1.07s/it]"
     ]
    },
    {
     "name": "stdout",
     "output_type": "stream",
     "text": [
      "[{'LinkSetDb': [{'Link': [{'Id': '2152151596'}, {'Id': '2147674235'}, {'Id': '1996944530'}, {'Id': '1995678282'}], 'DbTo': 'nuccore', 'LinkName': 'assembly_nuccore'}, {'Link': [{'Id': '2147674235'}, {'Id': '1995678282'}], 'DbTo': 'nuccore', 'LinkName': 'assembly_nuccore_insdc'}, {'Link': [{'Id': '2152151596'}, {'Id': '1996944530'}], 'DbTo': 'nuccore', 'LinkName': 'assembly_nuccore_refseq'}], 'ERROR': [], 'LinkSetDbHistory': [], 'DbFrom': 'assembly', 'IdList': ['11454961']}]\n",
      "2147674235\n",
      "1995678282\n"
     ]
    },
    {
     "name": "stderr",
     "output_type": "stream",
     "text": [
      "\r",
      " 66%|███████████████████████████████████████████████████████████████████▉                                   | 66/100 [01:13<00:35,  1.06s/it]"
     ]
    },
    {
     "name": "stdout",
     "output_type": "stream",
     "text": [
      "[{'LinkSetDb': [{'Link': [{'Id': '2073878140'}, {'Id': '2073878139'}, {'Id': '2073878136'}, {'Id': '2073878074'}, {'Id': '2072860022'}, {'Id': '2072857849'}, {'Id': '2072857362'}, {'Id': '2072851672'}], 'DbTo': 'nuccore', 'LinkName': 'assembly_nuccore'}, {'Link': [{'Id': '2072860022'}, {'Id': '2072857849'}, {'Id': '2072857362'}, {'Id': '2072851672'}], 'DbTo': 'nuccore', 'LinkName': 'assembly_nuccore_insdc'}, {'Link': [{'Id': '2073878140'}, {'Id': '2073878139'}, {'Id': '2073878136'}, {'Id': '2073878074'}], 'DbTo': 'nuccore', 'LinkName': 'assembly_nuccore_refseq'}], 'ERROR': [], 'LinkSetDbHistory': [], 'DbFrom': 'assembly', 'IdList': ['10577061']}]\n",
      "2072860022\n",
      "2072857849\n",
      "2072857362\n",
      "2072851672\n"
     ]
    },
    {
     "name": "stderr",
     "output_type": "stream",
     "text": [
      "\r",
      " 67%|█████████████████████████████████████████████████████████████████████                                  | 67/100 [01:14<00:34,  1.05s/it]"
     ]
    },
    {
     "name": "stdout",
     "output_type": "stream",
     "text": [
      "[{'LinkSetDb': [{'Link': [{'Id': '1482656600'}, {'Id': '1481733593'}], 'DbTo': 'nuccore', 'LinkName': 'assembly_nuccore'}, {'Link': [{'Id': '1481733593'}], 'DbTo': 'nuccore', 'LinkName': 'assembly_nuccore_insdc'}, {'Link': [{'Id': '1482656600'}], 'DbTo': 'nuccore', 'LinkName': 'assembly_nuccore_refseq'}], 'ERROR': [], 'LinkSetDbHistory': [], 'DbFrom': 'assembly', 'IdList': ['1991081']}]\n",
      "1481733593\n"
     ]
    },
    {
     "name": "stderr",
     "output_type": "stream",
     "text": [
      "\r",
      " 68%|██████████████████████████████████████████████████████████████████████                                 | 68/100 [01:15<00:33,  1.04s/it]"
     ]
    },
    {
     "name": "stdout",
     "output_type": "stream",
     "text": [
      "[{'LinkSetDb': [{'Link': [{'Id': '1643432492'}, {'Id': '1643432491'}, {'Id': '1643432490'}, {'Id': '1638222435'}, {'Id': '1638221835'}, {'Id': '1638218938'}], 'DbTo': 'nuccore', 'LinkName': 'assembly_nuccore'}, {'Link': [{'Id': '1638222435'}, {'Id': '1638221835'}, {'Id': '1638218938'}], 'DbTo': 'nuccore', 'LinkName': 'assembly_nuccore_insdc'}, {'Link': [{'Id': '1643432492'}, {'Id': '1643432491'}, {'Id': '1643432490'}], 'DbTo': 'nuccore', 'LinkName': 'assembly_nuccore_refseq'}], 'ERROR': [], 'LinkSetDbHistory': [], 'DbFrom': 'assembly', 'IdList': ['2819621']}]\n",
      "1638222435\n",
      "1638221835\n",
      "1638218938\n"
     ]
    },
    {
     "name": "stderr",
     "output_type": "stream",
     "text": [
      "\r",
      " 69%|███████████████████████████████████████████████████████████████████████                                | 69/100 [01:16<00:31,  1.02s/it]"
     ]
    },
    {
     "name": "stdout",
     "output_type": "stream",
     "text": [
      "[{'LinkSetDb': [{'Link': [{'Id': '1836671095'}, {'Id': '1836671094'}, {'Id': '1836671093'}, {'Id': '1836120232'}, {'Id': '1836120033'}, {'Id': '1836116085'}], 'DbTo': 'nuccore', 'LinkName': 'assembly_nuccore'}, {'Link': [{'Id': '1836120232'}, {'Id': '1836120033'}, {'Id': '1836116085'}], 'DbTo': 'nuccore', 'LinkName': 'assembly_nuccore_insdc'}, {'Link': [{'Id': '1836671095'}, {'Id': '1836671094'}, {'Id': '1836671093'}], 'DbTo': 'nuccore', 'LinkName': 'assembly_nuccore_refseq'}], 'ERROR': [], 'LinkSetDbHistory': [], 'DbFrom': 'assembly', 'IdList': ['7051381']}]\n",
      "1836120232\n",
      "1836120033\n",
      "1836116085\n"
     ]
    },
    {
     "name": "stderr",
     "output_type": "stream",
     "text": [
      "\r",
      " 70%|████████████████████████████████████████████████████████████████████████                               | 70/100 [01:17<00:30,  1.01s/it]"
     ]
    },
    {
     "name": "stdout",
     "output_type": "stream",
     "text": [
      "[{'LinkSetDb': [{'Link': [{'Id': '2311194605'}, {'Id': '2289973346'}, {'Id': '2203666912'}, {'Id': '2203048889'}], 'DbTo': 'nuccore', 'LinkName': 'assembly_nuccore'}, {'Link': [{'Id': '2289973346'}, {'Id': '2203048889'}], 'DbTo': 'nuccore', 'LinkName': 'assembly_nuccore_insdc'}, {'Link': [{'Id': '2311194605'}, {'Id': '2203666912'}], 'DbTo': 'nuccore', 'LinkName': 'assembly_nuccore_refseq'}], 'ERROR': [], 'LinkSetDbHistory': [], 'DbFrom': 'assembly', 'IdList': ['13538671']}]\n",
      "2289973346\n",
      "2203048889\n"
     ]
    },
    {
     "name": "stderr",
     "output_type": "stream",
     "text": [
      "\r",
      " 71%|█████████████████████████████████████████████████████████████████████████▏                             | 71/100 [01:18<00:28,  1.02it/s]"
     ]
    },
    {
     "name": "stdout",
     "output_type": "stream",
     "text": [
      "[{'LinkSetDb': [{'Link': [{'Id': '2245017285'}, {'Id': '2245017284'}, {'Id': '2245017281'}, {'Id': '2242497512'}, {'Id': '2242497406'}, {'Id': '2242493746'}], 'DbTo': 'nuccore', 'LinkName': 'assembly_nuccore'}, {'Link': [{'Id': '2242497512'}, {'Id': '2242497406'}, {'Id': '2242493746'}], 'DbTo': 'nuccore', 'LinkName': 'assembly_nuccore_insdc'}, {'Link': [{'Id': '2245017285'}, {'Id': '2245017284'}, {'Id': '2245017281'}], 'DbTo': 'nuccore', 'LinkName': 'assembly_nuccore_refseq'}], 'ERROR': [], 'LinkSetDbHistory': [], 'DbFrom': 'assembly', 'IdList': ['12813031']}]\n",
      "2242497512\n",
      "2242497406\n",
      "2242493746\n"
     ]
    },
    {
     "name": "stderr",
     "output_type": "stream",
     "text": [
      "\r",
      " 72%|██████████████████████████████████████████████████████████████████████████▏                            | 72/100 [01:18<00:26,  1.04it/s]"
     ]
    },
    {
     "name": "stdout",
     "output_type": "stream",
     "text": [
      "[{'LinkSetDb': [{'Link': [{'Id': '2473226533'}, {'Id': '2470458110'}], 'DbTo': 'nuccore', 'LinkName': 'assembly_nuccore'}, {'Link': [{'Id': '2470458110'}], 'DbTo': 'nuccore', 'LinkName': 'assembly_nuccore_insdc'}, {'Link': [{'Id': '2473226533'}], 'DbTo': 'nuccore', 'LinkName': 'assembly_nuccore_refseq'}], 'ERROR': [], 'LinkSetDbHistory': [], 'DbFrom': 'assembly', 'IdList': ['16296081']}]\n",
      "2470458110\n"
     ]
    },
    {
     "name": "stderr",
     "output_type": "stream",
     "text": [
      "\r",
      " 73%|███████████████████████████████████████████████████████████████████████████▏                           | 73/100 [01:20<00:27,  1.01s/it]"
     ]
    },
    {
     "name": "stdout",
     "output_type": "stream",
     "text": [
      "[{'LinkSetDb': [{'Link': [{'Id': '1772618307'}, {'Id': '1772618306'}, {'Id': '1772618305'}, {'Id': '1772245811'}, {'Id': '1772245798'}, {'Id': '1772242069'}], 'DbTo': 'nuccore', 'LinkName': 'assembly_nuccore'}, {'Link': [{'Id': '1772245811'}, {'Id': '1772245798'}, {'Id': '1772242069'}], 'DbTo': 'nuccore', 'LinkName': 'assembly_nuccore_insdc'}, {'Link': [{'Id': '1772618307'}, {'Id': '1772618306'}, {'Id': '1772618305'}], 'DbTo': 'nuccore', 'LinkName': 'assembly_nuccore_refseq'}], 'ERROR': [], 'LinkSetDbHistory': [], 'DbFrom': 'assembly', 'IdList': ['5131601']}]\n",
      "1772245811\n",
      "1772245798\n",
      "1772242069\n"
     ]
    },
    {
     "name": "stderr",
     "output_type": "stream",
     "text": [
      "\r",
      " 74%|████████████████████████████████████████████████████████████████████████████▏                          | 74/100 [01:21<00:26,  1.02s/it]"
     ]
    },
    {
     "name": "stdout",
     "output_type": "stream",
     "text": [
      "[{'LinkSetDb': [{'Link': [{'Id': '2239898332'}, {'Id': '2238616504'}], 'DbTo': 'nuccore', 'LinkName': 'assembly_nuccore'}, {'Link': [{'Id': '2238616504'}], 'DbTo': 'nuccore', 'LinkName': 'assembly_nuccore_insdc'}, {'Link': [{'Id': '2239898332'}], 'DbTo': 'nuccore', 'LinkName': 'assembly_nuccore_refseq'}], 'ERROR': [], 'LinkSetDbHistory': [], 'DbFrom': 'assembly', 'IdList': ['12718731']}]\n",
      "2238616504\n"
     ]
    },
    {
     "name": "stderr",
     "output_type": "stream",
     "text": [
      "\r",
      " 75%|█████████████████████████████████████████████████████████████████████████████▎                         | 75/100 [01:22<00:25,  1.02s/it]"
     ]
    },
    {
     "name": "stdout",
     "output_type": "stream",
     "text": [
      "[{'LinkSetDb': [{'Link': [{'Id': '2203673648'}, {'Id': '2203146641'}], 'DbTo': 'nuccore', 'LinkName': 'assembly_nuccore'}, {'Link': [{'Id': '2203146641'}], 'DbTo': 'nuccore', 'LinkName': 'assembly_nuccore_insdc'}, {'Link': [{'Id': '2203673648'}], 'DbTo': 'nuccore', 'LinkName': 'assembly_nuccore_refseq'}], 'ERROR': [], 'LinkSetDbHistory': [], 'DbFrom': 'assembly', 'IdList': ['12267161']}]\n",
      "2203146641\n"
     ]
    },
    {
     "name": "stderr",
     "output_type": "stream",
     "text": [
      "\r",
      " 76%|██████████████████████████████████████████████████████████████████████████████▎                        | 76/100 [01:24<00:34,  1.42s/it]"
     ]
    },
    {
     "name": "stdout",
     "output_type": "stream",
     "text": [
      "[{'LinkSetDb': [{'Link': [{'Id': '2239890378'}, {'Id': '2239890377'}, {'Id': '2238685172'}, {'Id': '2238681479'}], 'DbTo': 'nuccore', 'LinkName': 'assembly_nuccore'}, {'Link': [{'Id': '2238685172'}, {'Id': '2238681479'}], 'DbTo': 'nuccore', 'LinkName': 'assembly_nuccore_insdc'}, {'Link': [{'Id': '2239890378'}, {'Id': '2239890377'}], 'DbTo': 'nuccore', 'LinkName': 'assembly_nuccore_refseq'}], 'ERROR': [], 'LinkSetDbHistory': [], 'DbFrom': 'assembly', 'IdList': ['12720041']}]\n",
      "2238685172\n",
      "2238681479\n"
     ]
    },
    {
     "name": "stderr",
     "output_type": "stream",
     "text": [
      "\r",
      " 77%|███████████████████████████████████████████████████████████████████████████████▎                       | 77/100 [01:25<00:29,  1.30s/it]"
     ]
    },
    {
     "name": "stdout",
     "output_type": "stream",
     "text": [
      "[{'LinkSetDb': [{'Link': [{'Id': '2290809693'}, {'Id': '2290809692'}, {'Id': '2290809624'}, {'Id': '2289938033'}, {'Id': '2289938032'}, {'Id': '2289938031'}], 'DbTo': 'nuccore', 'LinkName': 'assembly_nuccore'}, {'Link': [{'Id': '2289938033'}, {'Id': '2289938032'}, {'Id': '2289938031'}], 'DbTo': 'nuccore', 'LinkName': 'assembly_nuccore_insdc'}, {'Link': [{'Id': '2290809693'}, {'Id': '2290809692'}, {'Id': '2290809624'}], 'DbTo': 'nuccore', 'LinkName': 'assembly_nuccore_refseq'}], 'ERROR': [], 'LinkSetDbHistory': [], 'DbFrom': 'assembly', 'IdList': ['13538551']}]\n",
      "2289938033\n",
      "2289938032\n",
      "2289938031\n"
     ]
    },
    {
     "name": "stderr",
     "output_type": "stream",
     "text": [
      "\r",
      " 78%|████████████████████████████████████████████████████████████████████████████████▎                      | 78/100 [01:26<00:26,  1.22s/it]"
     ]
    },
    {
     "name": "stdout",
     "output_type": "stream",
     "text": [
      "[{'LinkSetDb': [{'Link': [{'Id': '2239898490'}, {'Id': '2239898452'}, {'Id': '2238583476'}, {'Id': '2238579787'}], 'DbTo': 'nuccore', 'LinkName': 'assembly_nuccore'}, {'Link': [{'Id': '2238583476'}, {'Id': '2238579787'}], 'DbTo': 'nuccore', 'LinkName': 'assembly_nuccore_insdc'}, {'Link': [{'Id': '2239898490'}, {'Id': '2239898452'}], 'DbTo': 'nuccore', 'LinkName': 'assembly_nuccore_refseq'}], 'ERROR': [], 'LinkSetDbHistory': [], 'DbFrom': 'assembly', 'IdList': ['12718641']}]\n",
      "2238583476\n",
      "2238579787\n"
     ]
    },
    {
     "name": "stderr",
     "output_type": "stream",
     "text": [
      "\r",
      " 79%|█████████████████████████████████████████████████████████████████████████████████▎                     | 79/100 [01:27<00:23,  1.13s/it]"
     ]
    },
    {
     "name": "stdout",
     "output_type": "stream",
     "text": [
      "[{'LinkSetDb': [{'Link': [{'Id': '2245010717'}, {'Id': '2245010716'}, {'Id': '2245010715'}, {'Id': '2242512609'}, {'Id': '2242512564'}, {'Id': '2242508896'}], 'DbTo': 'nuccore', 'LinkName': 'assembly_nuccore'}, {'Link': [{'Id': '2242512609'}, {'Id': '2242512564'}, {'Id': '2242508896'}], 'DbTo': 'nuccore', 'LinkName': 'assembly_nuccore_insdc'}, {'Link': [{'Id': '2245010717'}, {'Id': '2245010716'}, {'Id': '2245010715'}], 'DbTo': 'nuccore', 'LinkName': 'assembly_nuccore_refseq'}], 'ERROR': [], 'LinkSetDbHistory': [], 'DbFrom': 'assembly', 'IdList': ['12814821']}]\n",
      "2242512609\n",
      "2242512564\n",
      "2242508896\n"
     ]
    },
    {
     "name": "stderr",
     "output_type": "stream",
     "text": [
      "\r",
      " 80%|██████████████████████████████████████████████████████████████████████████████████▍                    | 80/100 [01:28<00:21,  1.08s/it]"
     ]
    },
    {
     "name": "stdout",
     "output_type": "stream",
     "text": [
      "[{'LinkSetDb': [{'Link': [{'Id': '2152088747'}, {'Id': '2152088738'}, {'Id': '2152088720'}, {'Id': '2147674239'}, {'Id': '2147674238'}, {'Id': '2147674237'}, {'Id': '1996944714'}, {'Id': '1995685449'}], 'DbTo': 'nuccore', 'LinkName': 'assembly_nuccore'}, {'Link': [{'Id': '2147674239'}, {'Id': '2147674238'}, {'Id': '2147674237'}, {'Id': '1995685449'}], 'DbTo': 'nuccore', 'LinkName': 'assembly_nuccore_insdc'}, {'Link': [{'Id': '2152088747'}, {'Id': '2152088738'}, {'Id': '2152088720'}, {'Id': '1996944714'}], 'DbTo': 'nuccore', 'LinkName': 'assembly_nuccore_refseq'}], 'ERROR': [], 'LinkSetDbHistory': [], 'DbFrom': 'assembly', 'IdList': ['11454981']}]\n",
      "2147674239\n",
      "2147674238\n",
      "2147674237\n",
      "1995685449\n"
     ]
    },
    {
     "name": "stderr",
     "output_type": "stream",
     "text": [
      "\r",
      " 81%|███████████████████████████████████████████████████████████████████████████████████▍                   | 81/100 [01:29<00:19,  1.05s/it]"
     ]
    },
    {
     "name": "stdout",
     "output_type": "stream",
     "text": [
      "[{'LinkSetDb': [{'Link': [{'Id': '2203668678'}, {'Id': '2203110117'}], 'DbTo': 'nuccore', 'LinkName': 'assembly_nuccore'}, {'Link': [{'Id': '2203110117'}], 'DbTo': 'nuccore', 'LinkName': 'assembly_nuccore_insdc'}, {'Link': [{'Id': '2203668678'}], 'DbTo': 'nuccore', 'LinkName': 'assembly_nuccore_refseq'}], 'ERROR': [], 'LinkSetDbHistory': [], 'DbFrom': 'assembly', 'IdList': ['12267521']}]\n",
      "2203110117\n"
     ]
    },
    {
     "name": "stderr",
     "output_type": "stream",
     "text": [
      "\r",
      " 82%|████████████████████████████████████████████████████████████████████████████████████▍                  | 82/100 [01:30<00:18,  1.04s/it]"
     ]
    },
    {
     "name": "stdout",
     "output_type": "stream",
     "text": [
      "[{'LinkSetDb': [{'Link': [{'Id': '749293883'}, {'Id': '692328596'}], 'DbTo': 'nuccore', 'LinkName': 'assembly_nuccore'}, {'Link': [{'Id': '692328596'}], 'DbTo': 'nuccore', 'LinkName': 'assembly_nuccore_insdc'}, {'Link': [{'Id': '749293883'}], 'DbTo': 'nuccore', 'LinkName': 'assembly_nuccore_refseq'}], 'ERROR': [], 'LinkSetDbHistory': [], 'DbFrom': 'assembly', 'IdList': ['214351']}]\n",
      "692328596\n"
     ]
    },
    {
     "name": "stderr",
     "output_type": "stream",
     "text": [
      "\r",
      " 83%|█████████████████████████████████████████████████████████████████████████████████████▍                 | 83/100 [01:31<00:17,  1.04s/it]"
     ]
    },
    {
     "name": "stdout",
     "output_type": "stream",
     "text": [
      "[{'LinkSetDb': [{'Link': [{'Id': '1178521467'}, {'Id': '1178521302'}, {'Id': '1175722710'}, {'Id': '1175722614'}], 'DbTo': 'nuccore', 'LinkName': 'assembly_nuccore'}, {'Link': [{'Id': '1175722710'}, {'Id': '1175722614'}], 'DbTo': 'nuccore', 'LinkName': 'assembly_nuccore_insdc'}, {'Link': [{'Id': '1178521467'}, {'Id': '1178521302'}], 'DbTo': 'nuccore', 'LinkName': 'assembly_nuccore_refseq'}], 'ERROR': [], 'LinkSetDbHistory': [], 'DbFrom': 'assembly', 'IdList': ['1064221']}]\n",
      "1175722710\n",
      "1175722614\n"
     ]
    },
    {
     "name": "stderr",
     "output_type": "stream",
     "text": [
      "\r",
      " 84%|██████████████████████████████████████████████████████████████████████████████████████▌                | 84/100 [01:32<00:16,  1.03s/it]"
     ]
    },
    {
     "name": "stdout",
     "output_type": "stream",
     "text": [
      "[{'LinkSetDb': [{'Link': [{'Id': '1532618460'}, {'Id': '1532064777'}], 'DbTo': 'nuccore', 'LinkName': 'assembly_nuccore'}, {'Link': [{'Id': '1532064777'}], 'DbTo': 'nuccore', 'LinkName': 'assembly_nuccore_insdc'}, {'Link': [{'Id': '1532618460'}], 'DbTo': 'nuccore', 'LinkName': 'assembly_nuccore_refseq'}], 'ERROR': [], 'LinkSetDbHistory': [], 'DbFrom': 'assembly', 'IdList': ['2161061']}]\n",
      "1532064777\n"
     ]
    },
    {
     "name": "stderr",
     "output_type": "stream",
     "text": [
      "\r",
      " 85%|███████████████████████████████████████████████████████████████████████████████████████▌               | 85/100 [01:33<00:15,  1.01s/it]"
     ]
    },
    {
     "name": "stdout",
     "output_type": "stream",
     "text": [
      "[{'LinkSetDb': [{'Link': [{'Id': '2311669326'}, {'Id': '2311669213'}, {'Id': '2310524835'}, {'Id': '2310524794'}], 'DbTo': 'nuccore', 'LinkName': 'assembly_nuccore'}, {'Link': [{'Id': '2310524835'}, {'Id': '2310524794'}], 'DbTo': 'nuccore', 'LinkName': 'assembly_nuccore_insdc'}, {'Link': [{'Id': '2311669326'}, {'Id': '2311669213'}], 'DbTo': 'nuccore', 'LinkName': 'assembly_nuccore_refseq'}], 'ERROR': [], 'LinkSetDbHistory': [], 'DbFrom': 'assembly', 'IdList': ['13982451']}]\n",
      "2310524835\n",
      "2310524794\n"
     ]
    },
    {
     "name": "stderr",
     "output_type": "stream",
     "text": [
      "\r",
      " 86%|████████████████████████████████████████████████████████████████████████████████████████▌              | 86/100 [01:34<00:14,  1.00s/it]"
     ]
    },
    {
     "name": "stdout",
     "output_type": "stream",
     "text": [
      "[{'LinkSetDb': [{'Link': [{'Id': '2152011384'}, {'Id': '2147674236'}, {'Id': '1996944501'}, {'Id': '1995681893'}], 'DbTo': 'nuccore', 'LinkName': 'assembly_nuccore'}, {'Link': [{'Id': '2147674236'}, {'Id': '1995681893'}], 'DbTo': 'nuccore', 'LinkName': 'assembly_nuccore_insdc'}, {'Link': [{'Id': '2152011384'}, {'Id': '1996944501'}], 'DbTo': 'nuccore', 'LinkName': 'assembly_nuccore_refseq'}], 'ERROR': [], 'LinkSetDbHistory': [], 'DbFrom': 'assembly', 'IdList': ['11454971']}]\n",
      "2147674236\n",
      "1995681893\n"
     ]
    },
    {
     "name": "stderr",
     "output_type": "stream",
     "text": [
      "\r",
      " 87%|█████████████████████████████████████████████████████████████████████████████████████████▌             | 87/100 [01:35<00:13,  1.01s/it]"
     ]
    },
    {
     "name": "stdout",
     "output_type": "stream",
     "text": [
      "[{'LinkSetDb': [{'Link': [{'Id': '780267186'}, {'Id': '780266362'}, {'Id': '693581773'}, {'Id': '693578048'}], 'DbTo': 'nuccore', 'LinkName': 'assembly_nuccore'}, {'Link': [{'Id': '693581773'}, {'Id': '693578048'}], 'DbTo': 'nuccore', 'LinkName': 'assembly_nuccore_insdc'}, {'Link': [{'Id': '780267186'}, {'Id': '780266362'}], 'DbTo': 'nuccore', 'LinkName': 'assembly_nuccore_refseq'}], 'ERROR': [], 'LinkSetDbHistory': [], 'DbFrom': 'assembly', 'IdList': ['248141']}]\n",
      "693581773\n",
      "693578048\n"
     ]
    },
    {
     "name": "stderr",
     "output_type": "stream",
     "text": [
      "\r",
      " 88%|██████████████████████████████████████████████████████████████████████████████████████████▋            | 88/100 [01:36<00:11,  1.02it/s]"
     ]
    },
    {
     "name": "stdout",
     "output_type": "stream",
     "text": [
      "[{'LinkSetDb': [{'Link': [{'Id': '2290827391'}, {'Id': '2290826778'}, {'Id': '2289938021'}, {'Id': '2289938020'}], 'DbTo': 'nuccore', 'LinkName': 'assembly_nuccore'}, {'Link': [{'Id': '2289938021'}, {'Id': '2289938020'}], 'DbTo': 'nuccore', 'LinkName': 'assembly_nuccore_insdc'}, {'Link': [{'Id': '2290827391'}, {'Id': '2290826778'}], 'DbTo': 'nuccore', 'LinkName': 'assembly_nuccore_refseq'}], 'ERROR': [], 'LinkSetDbHistory': [], 'DbFrom': 'assembly', 'IdList': ['13538541']}]\n",
      "2289938021\n",
      "2289938020\n"
     ]
    },
    {
     "name": "stderr",
     "output_type": "stream",
     "text": [
      "\r",
      " 89%|███████████████████████████████████████████████████████████████████████████████████████████▋           | 89/100 [01:37<00:10,  1.00it/s]"
     ]
    },
    {
     "name": "stdout",
     "output_type": "stream",
     "text": [
      "[{'LinkSetDb': [{'Link': [{'Id': '974690125'}, {'Id': '974690124'}, {'Id': '974022331'}, {'Id': '974022266'}], 'DbTo': 'nuccore', 'LinkName': 'assembly_nuccore'}, {'Link': [{'Id': '974022331'}, {'Id': '974022266'}], 'DbTo': 'nuccore', 'LinkName': 'assembly_nuccore_insdc'}, {'Link': [{'Id': '974690125'}, {'Id': '974690124'}], 'DbTo': 'nuccore', 'LinkName': 'assembly_nuccore_refseq'}], 'ERROR': [], 'LinkSetDbHistory': [], 'DbFrom': 'assembly', 'IdList': ['618731']}]\n",
      "974022331\n",
      "974022266\n"
     ]
    },
    {
     "name": "stderr",
     "output_type": "stream",
     "text": [
      "\r",
      " 90%|████████████████████████████████████████████████████████████████████████████████████████████▋          | 90/100 [01:38<00:09,  1.03it/s]"
     ]
    },
    {
     "name": "stdout",
     "output_type": "stream",
     "text": [
      "[{'LinkSetDb': [{'Link': [{'Id': '2311185395'}, {'Id': '2292864820'}, {'Id': '2203672471'}, {'Id': '2203113671'}], 'DbTo': 'nuccore', 'LinkName': 'assembly_nuccore'}, {'Link': [{'Id': '2292864820'}, {'Id': '2203113671'}], 'DbTo': 'nuccore', 'LinkName': 'assembly_nuccore_insdc'}, {'Link': [{'Id': '2311185395'}, {'Id': '2203672471'}], 'DbTo': 'nuccore', 'LinkName': 'assembly_nuccore_refseq'}], 'ERROR': [], 'LinkSetDbHistory': [], 'DbFrom': 'assembly', 'IdList': ['13544441']}]\n",
      "2292864820\n",
      "2203113671\n"
     ]
    },
    {
     "name": "stderr",
     "output_type": "stream",
     "text": [
      "\r",
      " 91%|█████████████████████████████████████████████████████████████████████████████████████████████▋         | 91/100 [01:39<00:09,  1.02s/it]"
     ]
    },
    {
     "name": "stdout",
     "output_type": "stream",
     "text": [
      "[{'LinkSetDb': [{'Link': [{'Id': '1092524305'}, {'Id': '1092524297'}, {'Id': '1087734683'}, {'Id': '1087734581'}], 'DbTo': 'nuccore', 'LinkName': 'assembly_nuccore'}, {'Link': [{'Id': '1087734683'}, {'Id': '1087734581'}], 'DbTo': 'nuccore', 'LinkName': 'assembly_nuccore_insdc'}, {'Link': [{'Id': '1092524305'}, {'Id': '1092524297'}], 'DbTo': 'nuccore', 'LinkName': 'assembly_nuccore_refseq'}], 'ERROR': [], 'LinkSetDbHistory': [], 'DbFrom': 'assembly', 'IdList': ['836091']}]\n",
      "1087734683\n",
      "1087734581\n"
     ]
    },
    {
     "name": "stderr",
     "output_type": "stream",
     "text": [
      "\r",
      " 92%|██████████████████████████████████████████████████████████████████████████████████████████████▊        | 92/100 [01:40<00:08,  1.02s/it]"
     ]
    },
    {
     "name": "stdout",
     "output_type": "stream",
     "text": [
      "[{'LinkSetDb': [{'Link': [{'Id': '2203673835'}, {'Id': '2203134679'}], 'DbTo': 'nuccore', 'LinkName': 'assembly_nuccore'}, {'Link': [{'Id': '2203134679'}], 'DbTo': 'nuccore', 'LinkName': 'assembly_nuccore_insdc'}, {'Link': [{'Id': '2203673835'}], 'DbTo': 'nuccore', 'LinkName': 'assembly_nuccore_refseq'}], 'ERROR': [], 'LinkSetDbHistory': [], 'DbFrom': 'assembly', 'IdList': ['12267261']}]\n",
      "2203134679\n"
     ]
    },
    {
     "name": "stderr",
     "output_type": "stream",
     "text": [
      "\r",
      " 93%|███████████████████████████████████████████████████████████████████████████████████████████████▊       | 93/100 [01:41<00:07,  1.02s/it]"
     ]
    },
    {
     "name": "stdout",
     "output_type": "stream",
     "text": [
      "[{'LinkSetDb': [{'Link': [{'Id': '2322964817'}, {'Id': '2322964816'}, {'Id': '2322964815'}, {'Id': '2321405482'}, {'Id': '2321405395'}, {'Id': '2321401646'}], 'DbTo': 'nuccore', 'LinkName': 'assembly_nuccore'}, {'Link': [{'Id': '2321405482'}, {'Id': '2321405395'}, {'Id': '2321401646'}], 'DbTo': 'nuccore', 'LinkName': 'assembly_nuccore_insdc'}, {'Link': [{'Id': '2322964817'}, {'Id': '2322964816'}, {'Id': '2322964815'}], 'DbTo': 'nuccore', 'LinkName': 'assembly_nuccore_refseq'}], 'ERROR': [], 'LinkSetDbHistory': [], 'DbFrom': 'assembly', 'IdList': ['14216471']}]\n",
      "2321405482\n",
      "2321405395\n",
      "2321401646\n"
     ]
    },
    {
     "name": "stderr",
     "output_type": "stream",
     "text": [
      "\r",
      " 94%|████████████████████████████████████████████████████████████████████████████████████████████████▊      | 94/100 [01:42<00:06,  1.03s/it]"
     ]
    },
    {
     "name": "stdout",
     "output_type": "stream",
     "text": [
      "[{'LinkSetDb': [{'Link': [{'Id': '2326732243'}, {'Id': '2287480630'}], 'DbTo': 'nuccore', 'LinkName': 'assembly_nuccore'}, {'Link': [{'Id': '2287480630'}], 'DbTo': 'nuccore', 'LinkName': 'assembly_nuccore_insdc'}, {'Link': [{'Id': '2326732243'}], 'DbTo': 'nuccore', 'LinkName': 'assembly_nuccore_refseq'}], 'ERROR': [], 'LinkSetDbHistory': [], 'DbFrom': 'assembly', 'IdList': ['14310881']}]\n",
      "2287480630\n"
     ]
    },
    {
     "name": "stderr",
     "output_type": "stream",
     "text": [
      "\r",
      " 95%|█████████████████████████████████████████████████████████████████████████████████████████████████▊     | 95/100 [01:43<00:05,  1.05s/it]"
     ]
    },
    {
     "name": "stdout",
     "output_type": "stream",
     "text": [
      "[{'LinkSetDb': [{'Link': [{'Id': '2203663511'}, {'Id': '2203150288'}], 'DbTo': 'nuccore', 'LinkName': 'assembly_nuccore'}, {'Link': [{'Id': '2203150288'}], 'DbTo': 'nuccore', 'LinkName': 'assembly_nuccore_insdc'}, {'Link': [{'Id': '2203663511'}], 'DbTo': 'nuccore', 'LinkName': 'assembly_nuccore_refseq'}], 'ERROR': [], 'LinkSetDbHistory': [], 'DbFrom': 'assembly', 'IdList': ['12267071']}]\n",
      "2203150288\n"
     ]
    },
    {
     "name": "stderr",
     "output_type": "stream",
     "text": [
      "\r",
      " 96%|██████████████████████████████████████████████████████████████████████████████████████████████████▉    | 96/100 [01:44<00:04,  1.05s/it]"
     ]
    },
    {
     "name": "stdout",
     "output_type": "stream",
     "text": [
      "[{'LinkSetDb': [{'Link': [{'Id': '1909630604'}, {'Id': '1909629827'}, {'Id': '1907834856'}, {'Id': '1907831099'}], 'DbTo': 'nuccore', 'LinkName': 'assembly_nuccore'}, {'Link': [{'Id': '1907834856'}, {'Id': '1907831099'}], 'DbTo': 'nuccore', 'LinkName': 'assembly_nuccore_insdc'}, {'Link': [{'Id': '1909630604'}, {'Id': '1909629827'}], 'DbTo': 'nuccore', 'LinkName': 'assembly_nuccore_refseq'}], 'ERROR': [], 'LinkSetDbHistory': [], 'DbFrom': 'assembly', 'IdList': ['8147131']}]\n",
      "1907834856\n",
      "1907831099\n"
     ]
    },
    {
     "name": "stderr",
     "output_type": "stream",
     "text": [
      "\r",
      " 97%|███████████████████████████████████████████████████████████████████████████████████████████████████▉   | 97/100 [01:45<00:03,  1.03s/it]"
     ]
    },
    {
     "name": "stdout",
     "output_type": "stream",
     "text": [
      "[{'LinkSetDb': [{'Link': [{'Id': '1036478497'}, {'Id': '1036478496'}, {'Id': '1036478495'}, {'Id': '1036478494'}, {'Id': '1024747197'}, {'Id': '1024747173'}, {'Id': '1024747055'}, {'Id': '1024743526'}], 'DbTo': 'nuccore', 'LinkName': 'assembly_nuccore'}, {'Link': [{'Id': '1024747197'}, {'Id': '1024747173'}, {'Id': '1024747055'}, {'Id': '1024743526'}], 'DbTo': 'nuccore', 'LinkName': 'assembly_nuccore_insdc'}, {'Link': [{'Id': '1036478497'}, {'Id': '1036478496'}, {'Id': '1036478495'}, {'Id': '1036478494'}], 'DbTo': 'nuccore', 'LinkName': 'assembly_nuccore_refseq'}], 'ERROR': [], 'LinkSetDbHistory': [], 'DbFrom': 'assembly', 'IdList': ['755881']}]\n",
      "1024747197\n",
      "1024747173\n",
      "1024747055\n",
      "1024743526\n"
     ]
    },
    {
     "name": "stderr",
     "output_type": "stream",
     "text": [
      "\r",
      " 98%|████████████████████████████████████████████████████████████████████████████████████████████████████▉  | 98/100 [01:46<00:02,  1.01s/it]"
     ]
    },
    {
     "name": "stdout",
     "output_type": "stream",
     "text": [
      "[{'LinkSetDb': [{'Link': [{'Id': '1520152424'}, {'Id': '1520152423'}, {'Id': '1520152422'}, {'Id': '1520152421'}, {'Id': '1518936647'}, {'Id': '1518936303'}, {'Id': '1518936279'}, {'Id': '1518936265'}], 'DbTo': 'nuccore', 'LinkName': 'assembly_nuccore'}, {'Link': [{'Id': '1518936647'}, {'Id': '1518936303'}, {'Id': '1518936279'}, {'Id': '1518936265'}], 'DbTo': 'nuccore', 'LinkName': 'assembly_nuccore_insdc'}, {'Link': [{'Id': '1520152424'}, {'Id': '1520152423'}, {'Id': '1520152422'}, {'Id': '1520152421'}], 'DbTo': 'nuccore', 'LinkName': 'assembly_nuccore_refseq'}], 'ERROR': [], 'LinkSetDbHistory': [], 'DbFrom': 'assembly', 'IdList': ['2112931']}]\n",
      "1518936647\n",
      "1518936303\n",
      "1518936279\n",
      "1518936265\n"
     ]
    },
    {
     "name": "stderr",
     "output_type": "stream",
     "text": [
      "\r",
      " 99%|█████████████████████████████████████████████████████████████████████████████████████████████████████▉ | 99/100 [01:47<00:01,  1.00s/it]"
     ]
    },
    {
     "name": "stdout",
     "output_type": "stream",
     "text": [
      "[{'LinkSetDb': [{'Link': [{'Id': '2264259596'}, {'Id': '2263642300'}], 'DbTo': 'nuccore', 'LinkName': 'assembly_nuccore'}, {'Link': [{'Id': '2263642300'}], 'DbTo': 'nuccore', 'LinkName': 'assembly_nuccore_insdc'}, {'Link': [{'Id': '2264259596'}], 'DbTo': 'nuccore', 'LinkName': 'assembly_nuccore_refseq'}], 'ERROR': [], 'LinkSetDbHistory': [], 'DbFrom': 'assembly', 'IdList': ['13195821']}]\n",
      "2263642300\n"
     ]
    },
    {
     "name": "stderr",
     "output_type": "stream",
     "text": [
      "100%|██████████████████████████████████████████████████████████████████████████████████████████████████████| 100/100 [01:48<00:00,  1.09s/it]"
     ]
    },
    {
     "name": "stdout",
     "output_type": "stream",
     "text": [
      "[{'LinkSetDb': [{'Link': [{'Id': '2022135500'}, {'Id': '2022135498'}, {'Id': '2022135497'}, {'Id': '2022135488'}, {'Id': '2022135401'}, {'Id': '2021493314'}, {'Id': '2021493302'}, {'Id': '2021493219'}, {'Id': '2021493015'}, {'Id': '2021489251'}], 'DbTo': 'nuccore', 'LinkName': 'assembly_nuccore'}, {'Link': [{'Id': '2021493314'}, {'Id': '2021493302'}, {'Id': '2021493219'}, {'Id': '2021493015'}, {'Id': '2021489251'}], 'DbTo': 'nuccore', 'LinkName': 'assembly_nuccore_insdc'}, {'Link': [{'Id': '2022135500'}, {'Id': '2022135498'}, {'Id': '2022135497'}, {'Id': '2022135488'}, {'Id': '2022135401'}], 'DbTo': 'nuccore', 'LinkName': 'assembly_nuccore_refseq'}], 'ERROR': [], 'LinkSetDbHistory': [], 'DbFrom': 'assembly', 'IdList': ['9714881']}]\n",
      "2021493314\n",
      "2021493302\n",
      "2021493219\n",
      "2021493015\n",
      "2021489251\n"
     ]
    },
    {
     "name": "stderr",
     "output_type": "stream",
     "text": [
      "\n"
     ]
    }
   ],
   "source": [
    "# Taking ids for fetching. It collected all non-duplicated links in nucleotide database from assembly database.\n",
    "links = []\n",
    "links_checked = []\n",
    "n = 0\n",
    "for complete_id in tqdm(complete_ids):\n",
    "    link_handle = Entrez.elink(dbfrom=db_search, db=db_current, from_uid=complete_id)\n",
    "    link_record = Entrez.read(link_handle)\n",
    "    print(link_record)\n",
    "    uids = extract_insdc(link_record)\n",
    "    if uids != 0:\n",
    "        for uid in uids:\n",
    "            print(uid)\n",
    "            if uid not in links_checked:  # Checking for duplicates\n",
    "                links_checked.append(uid)\n",
    "                links.append((uid, n))\n",
    "                cumulative = 1\n",
    "            else:\n",
    "                cumulative = 0\n",
    "        n += cumulative"
   ]
  },
  {
   "cell_type": "code",
   "execution_count": 95,
   "metadata": {},
   "outputs": [
    {
     "data": {
      "text/plain": [
       "[('2242516291', 0),\n",
       " ('2242516202', 0),\n",
       " ('2242512623', 0),\n",
       " ('2203085011', 1),\n",
       " ('1087730795', 2),\n",
       " ('1087730686', 2),\n",
       " ('1836070421', 3),\n",
       " ('1836070410', 3),\n",
       " ('1836066657', 3),\n",
       " ('1877588604', 4),\n",
       " ('1877588482', 4),\n",
       " ('1877585046', 4),\n",
       " ('1000993161', 5),\n",
       " ('1866706066', 6),\n",
       " ('1866702431', 6),\n",
       " ('1635522416', 7),\n",
       " ('1635522322', 7),\n",
       " ('1635518656', 7),\n",
       " ('1566474420', 8),\n",
       " ('1566474290', 8),\n",
       " ('1566470628', 8),\n",
       " ('1087746352', 9),\n",
       " ('1087746255', 9),\n",
       " ('2289938025', 10),\n",
       " ('2289938024', 10),\n",
       " ('2289938023', 10),\n",
       " ('2289938022', 10),\n",
       " ('2203034173', 11),\n",
       " ('902756494', 12),\n",
       " ('1125869058', 13),\n",
       " ('1125868940', 13),\n",
       " ('1125865289', 13),\n",
       " ('2238627894', 14),\n",
       " ('2238627801', 14),\n",
       " ('2238624079', 14),\n",
       " ('1359185821', 15),\n",
       " ('1359181956', 15),\n",
       " ('1001000371', 16),\n",
       " ('1474724526', 17),\n",
       " ('1474720871', 17),\n",
       " ('1199168558', 18),\n",
       " ('1199168556', 18),\n",
       " ('2263959133', 19),\n",
       " ('1051000319', 20),\n",
       " ('1050996618', 20),\n",
       " ('1000989619', 21),\n",
       " ('2238639514', 22),\n",
       " ('2238639494', 22),\n",
       " ('2238635766', 22),\n",
       " ('2050635407', 23),\n",
       " ('2050631765', 23),\n",
       " ('1175777815', 24),\n",
       " ('1175770726', 24),\n",
       " ('1933723438', 25),\n",
       " ('1933723425', 25),\n",
       " ('1933723341', 25),\n",
       " ('1933723224', 25),\n",
       " ('1933719834', 25),\n",
       " ('1871434607', 26),\n",
       " ('1863499521', 26),\n",
       " ('2289938114', 27),\n",
       " ('2289938113', 27),\n",
       " ('2289938112', 27),\n",
       " ('2289938111', 27),\n",
       " ('2147674247', 28),\n",
       " ('1995703726', 28),\n",
       " ('2442305535', 29),\n",
       " ('2442305432', 29),\n",
       " ('2442301752', 29),\n",
       " ('1995707253', 30),\n",
       " ('1829822423', 31),\n",
       " ('1829822332', 31),\n",
       " ('1829822215', 31),\n",
       " ('1829818468', 31),\n",
       " ('2194811866', 32),\n",
       " ('1982786938', 32),\n",
       " ('1609450171', 33),\n",
       " ('1609450134', 33),\n",
       " ('1609450072', 33),\n",
       " ('1609446414', 33),\n",
       " ('2242489750', 34),\n",
       " ('2242486171', 34),\n",
       " ('1062699394', 35),\n",
       " ('2289938038', 36),\n",
       " ('2289938037', 36),\n",
       " ('2289938036', 36),\n",
       " ('2289938035', 36),\n",
       " ('2289938034', 36),\n",
       " ('2029180704', 37),\n",
       " ('2029177209', 37),\n",
       " ('1087754084', 38),\n",
       " ('1087753966', 38),\n",
       " ('2238599581', 39),\n",
       " ('2238599557', 39),\n",
       " ('2238595919', 39),\n",
       " ('1626723902', 40),\n",
       " ('1626720310', 40),\n",
       " ('1915432117', 41),\n",
       " ('1915432100', 41),\n",
       " ('1915432092', 41),\n",
       " ('1915431933', 41),\n",
       " ('1915427897', 41),\n",
       " ('1474720664', 42),\n",
       " ('1474720650', 42),\n",
       " ('1474716914', 42),\n",
       " ('2203168253', 43),\n",
       " ('2238711643', 44),\n",
       " ('2238708059', 44),\n",
       " ('2416418932', 45),\n",
       " ('2416418931', 45),\n",
       " ('2416418930', 45),\n",
       " ('2416418929', 45),\n",
       " ('1837826003', 46),\n",
       " ('1837822239', 46),\n",
       " ('2483251370', 47),\n",
       " ('2483251354', 47),\n",
       " ('2483251230', 47),\n",
       " ('2483251129', 47),\n",
       " ('2483247716', 47),\n",
       " ('2264001646', 48),\n",
       " ('2264001546', 48),\n",
       " ('2263997137', 48),\n",
       " ('2277229415', 49),\n",
       " ('2277225680', 49),\n",
       " ('1868800461', 50),\n",
       " ('1868800460', 50),\n",
       " ('1868800459', 50),\n",
       " ('1868800458', 50),\n",
       " ('2238655023', 51),\n",
       " ('2238651276', 51),\n",
       " ('2264032881', 52),\n",
       " ('2264032865', 52),\n",
       " ('2264032755', 52),\n",
       " ('2264029138', 52),\n",
       " ('2238651159', 53),\n",
       " ('2238651068', 53),\n",
       " ('2238647360', 53),\n",
       " ('2442309296', 54),\n",
       " ('2442305562', 54),\n",
       " ('2238591641', 55),\n",
       " ('2238587446', 55),\n",
       " ('1866709874', 56),\n",
       " ('1866709812', 56),\n",
       " ('1866706073', 56),\n",
       " ('2203026124', 57),\n",
       " ('1212258065', 58),\n",
       " ('1212258059', 58),\n",
       " ('1212258052', 58),\n",
       " ('1212258048', 58),\n",
       " ('1212258046', 58),\n",
       " ('1212254271', 58),\n",
       " ('2198376703', 59),\n",
       " ('2198376702', 59),\n",
       " ('2198376701', 59),\n",
       " ('2238587348', 60),\n",
       " ('2238583611', 60),\n",
       " ('1474562838', 61),\n",
       " ('1474562821', 61),\n",
       " ('1474559164', 61),\n",
       " ('1275585628', 62),\n",
       " ('1109143268', 63),\n",
       " ('1109138823', 63),\n",
       " ('2147674235', 64),\n",
       " ('1995678282', 64),\n",
       " ('2072860022', 65),\n",
       " ('2072857849', 65),\n",
       " ('2072857362', 65),\n",
       " ('2072851672', 65),\n",
       " ('1481733593', 66),\n",
       " ('1638222435', 67),\n",
       " ('1638221835', 67),\n",
       " ('1638218938', 67),\n",
       " ('1836120232', 68),\n",
       " ('1836120033', 68),\n",
       " ('1836116085', 68),\n",
       " ('2289973346', 69),\n",
       " ('2203048889', 69),\n",
       " ('2242497512', 70),\n",
       " ('2242497406', 70),\n",
       " ('2242493746', 70),\n",
       " ('2470458110', 71),\n",
       " ('1772245811', 72),\n",
       " ('1772245798', 72),\n",
       " ('1772242069', 72),\n",
       " ('2238616504', 73),\n",
       " ('2203146641', 74),\n",
       " ('2238685172', 75),\n",
       " ('2238681479', 75),\n",
       " ('2289938033', 76),\n",
       " ('2289938032', 76),\n",
       " ('2289938031', 76),\n",
       " ('2238583476', 77),\n",
       " ('2238579787', 77),\n",
       " ('2242512609', 78),\n",
       " ('2242512564', 78),\n",
       " ('2242508896', 78),\n",
       " ('2147674239', 79),\n",
       " ('2147674238', 79),\n",
       " ('2147674237', 79),\n",
       " ('1995685449', 79),\n",
       " ('2203110117', 80),\n",
       " ('692328596', 81),\n",
       " ('1175722710', 82),\n",
       " ('1175722614', 82),\n",
       " ('1532064777', 83),\n",
       " ('2310524835', 84),\n",
       " ('2310524794', 84),\n",
       " ('2147674236', 85),\n",
       " ('1995681893', 85),\n",
       " ('693581773', 86),\n",
       " ('693578048', 86),\n",
       " ('2289938021', 87),\n",
       " ('2289938020', 87),\n",
       " ('974022331', 88),\n",
       " ('974022266', 88),\n",
       " ('2292864820', 89),\n",
       " ('2203113671', 89),\n",
       " ('1087734683', 90),\n",
       " ('1087734581', 90),\n",
       " ('2203134679', 91),\n",
       " ('2321405482', 92),\n",
       " ('2321405395', 92),\n",
       " ('2321401646', 92),\n",
       " ('2287480630', 93),\n",
       " ('2203150288', 94),\n",
       " ('1907834856', 95),\n",
       " ('1907831099', 95),\n",
       " ('1024747197', 96),\n",
       " ('1024747173', 96),\n",
       " ('1024747055', 96),\n",
       " ('1024743526', 96),\n",
       " ('1518936647', 97),\n",
       " ('1518936303', 97),\n",
       " ('1518936279', 97),\n",
       " ('1518936265', 97),\n",
       " ('2263642300', 98),\n",
       " ('2021493314', 99),\n",
       " ('2021493302', 99),\n",
       " ('2021493219', 99),\n",
       " ('2021493015', 99),\n",
       " ('2021489251', 99)]"
      ]
     },
     "execution_count": 95,
     "metadata": {},
     "output_type": "execute_result"
    }
   ],
   "source": [
    "links"
   ]
  },
  {
   "cell_type": "code",
   "execution_count": 97,
   "metadata": {
    "id": "k1ML26sxCden"
   },
   "outputs": [
    {
     "name": "stderr",
     "output_type": "stream",
     "text": [
      "\r",
      "  0%|                                                                                                                | 0/241 [00:00<?, ?it/s]"
     ]
    },
    {
     "name": "stdout",
     "output_type": "stream",
     "text": [
      "('2242516291', 0)\n"
     ]
    },
    {
     "name": "stderr",
     "output_type": "stream",
     "text": [
      "\r",
      "  0%|▍                                                                                                     | 1/241 [00:29<1:59:50, 29.96s/it]"
     ]
    },
    {
     "name": "stdout",
     "output_type": "stream",
     "text": [
      "('2242516202', 0)\n"
     ]
    },
    {
     "name": "stderr",
     "output_type": "stream",
     "text": [
      "\r",
      "  1%|▊                                                                                                     | 2/241 [00:35<1:01:32, 15.45s/it]"
     ]
    },
    {
     "name": "stdout",
     "output_type": "stream",
     "text": [
      "('2242512623', 0)\n"
     ]
    },
    {
     "name": "stderr",
     "output_type": "stream",
     "text": [
      "\r",
      "  1%|█▎                                                                                                    | 3/241 [01:08<1:33:17, 23.52s/it]"
     ]
    },
    {
     "name": "stdout",
     "output_type": "stream",
     "text": [
      "('2203085011', 1)\n"
     ]
    },
    {
     "name": "stderr",
     "output_type": "stream",
     "text": [
      "\r",
      "  2%|█▋                                                                                                    | 4/241 [01:55<2:09:26, 32.77s/it]"
     ]
    },
    {
     "name": "stdout",
     "output_type": "stream",
     "text": [
      "('1087730795', 2)\n"
     ]
    },
    {
     "name": "stderr",
     "output_type": "stream",
     "text": [
      "\r",
      "  2%|██                                                                                                    | 5/241 [02:31<2:13:36, 33.97s/it]"
     ]
    },
    {
     "name": "stdout",
     "output_type": "stream",
     "text": [
      "('1087730686', 2)\n"
     ]
    },
    {
     "name": "stderr",
     "output_type": "stream",
     "text": [
      "\r",
      "  2%|██▌                                                                                                   | 6/241 [02:37<1:36:30, 24.64s/it]"
     ]
    },
    {
     "name": "stdout",
     "output_type": "stream",
     "text": [
      "('1836070421', 3)\n"
     ]
    },
    {
     "name": "stderr",
     "output_type": "stream",
     "text": [
      "\r",
      "  3%|██▉                                                                                                   | 7/241 [02:39<1:06:05, 16.95s/it]"
     ]
    },
    {
     "name": "stdout",
     "output_type": "stream",
     "text": [
      "('1836070410', 3)\n"
     ]
    },
    {
     "name": "stderr",
     "output_type": "stream",
     "text": [
      "\r",
      "  3%|███▍                                                                                                    | 8/241 [02:43<50:22, 12.97s/it]"
     ]
    },
    {
     "name": "stdout",
     "output_type": "stream",
     "text": [
      "('1836066657', 3)\n"
     ]
    },
    {
     "name": "stderr",
     "output_type": "stream",
     "text": [
      "\r",
      "  4%|███▊                                                                                                  | 9/241 [03:18<1:16:55, 19.89s/it]"
     ]
    },
    {
     "name": "stdout",
     "output_type": "stream",
     "text": [
      "('1877588604', 4)\n"
     ]
    },
    {
     "name": "stderr",
     "output_type": "stream",
     "text": [
      "\r",
      "  4%|████▎                                                                                                  | 10/241 [03:23<58:25, 15.17s/it]"
     ]
    },
    {
     "name": "stdout",
     "output_type": "stream",
     "text": [
      "('1877588482', 4)\n"
     ]
    },
    {
     "name": "stderr",
     "output_type": "stream",
     "text": [
      "  4%|████▏                                                                                                | 10/241 [04:23<1:41:22, 26.33s/it]\n"
     ]
    },
    {
     "ename": "URLError",
     "evalue": "<urlopen error [Errno -3] Temporary failure in name resolution>",
     "output_type": "error",
     "traceback": [
      "\u001b[0;31m---------------------------------------------------------------------------\u001b[0m",
      "\u001b[0;31mgaierror\u001b[0m                                  Traceback (most recent call last)",
      "File \u001b[0;32m~/miniconda3/lib/python3.9/urllib/request.py:1346\u001b[0m, in \u001b[0;36mAbstractHTTPHandler.do_open\u001b[0;34m(self, http_class, req, **http_conn_args)\u001b[0m\n\u001b[1;32m   1345\u001b[0m \u001b[38;5;28;01mtry\u001b[39;00m:\n\u001b[0;32m-> 1346\u001b[0m     \u001b[43mh\u001b[49m\u001b[38;5;241;43m.\u001b[39;49m\u001b[43mrequest\u001b[49m\u001b[43m(\u001b[49m\u001b[43mreq\u001b[49m\u001b[38;5;241;43m.\u001b[39;49m\u001b[43mget_method\u001b[49m\u001b[43m(\u001b[49m\u001b[43m)\u001b[49m\u001b[43m,\u001b[49m\u001b[43m \u001b[49m\u001b[43mreq\u001b[49m\u001b[38;5;241;43m.\u001b[39;49m\u001b[43mselector\u001b[49m\u001b[43m,\u001b[49m\u001b[43m \u001b[49m\u001b[43mreq\u001b[49m\u001b[38;5;241;43m.\u001b[39;49m\u001b[43mdata\u001b[49m\u001b[43m,\u001b[49m\u001b[43m \u001b[49m\u001b[43mheaders\u001b[49m\u001b[43m,\u001b[49m\n\u001b[1;32m   1347\u001b[0m \u001b[43m              \u001b[49m\u001b[43mencode_chunked\u001b[49m\u001b[38;5;241;43m=\u001b[39;49m\u001b[43mreq\u001b[49m\u001b[38;5;241;43m.\u001b[39;49m\u001b[43mhas_header\u001b[49m\u001b[43m(\u001b[49m\u001b[38;5;124;43m'\u001b[39;49m\u001b[38;5;124;43mTransfer-encoding\u001b[39;49m\u001b[38;5;124;43m'\u001b[39;49m\u001b[43m)\u001b[49m\u001b[43m)\u001b[49m\n\u001b[1;32m   1348\u001b[0m \u001b[38;5;28;01mexcept\u001b[39;00m \u001b[38;5;167;01mOSError\u001b[39;00m \u001b[38;5;28;01mas\u001b[39;00m err: \u001b[38;5;66;03m# timeout error\u001b[39;00m\n",
      "File \u001b[0;32m~/miniconda3/lib/python3.9/http/client.py:1285\u001b[0m, in \u001b[0;36mHTTPConnection.request\u001b[0;34m(self, method, url, body, headers, encode_chunked)\u001b[0m\n\u001b[1;32m   1284\u001b[0m \u001b[38;5;250m\u001b[39m\u001b[38;5;124;03m\"\"\"Send a complete request to the server.\"\"\"\u001b[39;00m\n\u001b[0;32m-> 1285\u001b[0m \u001b[38;5;28;43mself\u001b[39;49m\u001b[38;5;241;43m.\u001b[39;49m\u001b[43m_send_request\u001b[49m\u001b[43m(\u001b[49m\u001b[43mmethod\u001b[49m\u001b[43m,\u001b[49m\u001b[43m \u001b[49m\u001b[43murl\u001b[49m\u001b[43m,\u001b[49m\u001b[43m \u001b[49m\u001b[43mbody\u001b[49m\u001b[43m,\u001b[49m\u001b[43m \u001b[49m\u001b[43mheaders\u001b[49m\u001b[43m,\u001b[49m\u001b[43m \u001b[49m\u001b[43mencode_chunked\u001b[49m\u001b[43m)\u001b[49m\n",
      "File \u001b[0;32m~/miniconda3/lib/python3.9/http/client.py:1331\u001b[0m, in \u001b[0;36mHTTPConnection._send_request\u001b[0;34m(self, method, url, body, headers, encode_chunked)\u001b[0m\n\u001b[1;32m   1330\u001b[0m     body \u001b[38;5;241m=\u001b[39m _encode(body, \u001b[38;5;124m'\u001b[39m\u001b[38;5;124mbody\u001b[39m\u001b[38;5;124m'\u001b[39m)\n\u001b[0;32m-> 1331\u001b[0m \u001b[38;5;28;43mself\u001b[39;49m\u001b[38;5;241;43m.\u001b[39;49m\u001b[43mendheaders\u001b[49m\u001b[43m(\u001b[49m\u001b[43mbody\u001b[49m\u001b[43m,\u001b[49m\u001b[43m \u001b[49m\u001b[43mencode_chunked\u001b[49m\u001b[38;5;241;43m=\u001b[39;49m\u001b[43mencode_chunked\u001b[49m\u001b[43m)\u001b[49m\n",
      "File \u001b[0;32m~/miniconda3/lib/python3.9/http/client.py:1280\u001b[0m, in \u001b[0;36mHTTPConnection.endheaders\u001b[0;34m(self, message_body, encode_chunked)\u001b[0m\n\u001b[1;32m   1279\u001b[0m     \u001b[38;5;28;01mraise\u001b[39;00m CannotSendHeader()\n\u001b[0;32m-> 1280\u001b[0m \u001b[38;5;28;43mself\u001b[39;49m\u001b[38;5;241;43m.\u001b[39;49m\u001b[43m_send_output\u001b[49m\u001b[43m(\u001b[49m\u001b[43mmessage_body\u001b[49m\u001b[43m,\u001b[49m\u001b[43m \u001b[49m\u001b[43mencode_chunked\u001b[49m\u001b[38;5;241;43m=\u001b[39;49m\u001b[43mencode_chunked\u001b[49m\u001b[43m)\u001b[49m\n",
      "File \u001b[0;32m~/miniconda3/lib/python3.9/http/client.py:1040\u001b[0m, in \u001b[0;36mHTTPConnection._send_output\u001b[0;34m(self, message_body, encode_chunked)\u001b[0m\n\u001b[1;32m   1039\u001b[0m \u001b[38;5;28;01mdel\u001b[39;00m \u001b[38;5;28mself\u001b[39m\u001b[38;5;241m.\u001b[39m_buffer[:]\n\u001b[0;32m-> 1040\u001b[0m \u001b[38;5;28;43mself\u001b[39;49m\u001b[38;5;241;43m.\u001b[39;49m\u001b[43msend\u001b[49m\u001b[43m(\u001b[49m\u001b[43mmsg\u001b[49m\u001b[43m)\u001b[49m\n\u001b[1;32m   1042\u001b[0m \u001b[38;5;28;01mif\u001b[39;00m message_body \u001b[38;5;129;01mis\u001b[39;00m \u001b[38;5;129;01mnot\u001b[39;00m \u001b[38;5;28;01mNone\u001b[39;00m:\n\u001b[1;32m   1043\u001b[0m \n\u001b[1;32m   1044\u001b[0m     \u001b[38;5;66;03m# create a consistent interface to message_body\u001b[39;00m\n",
      "File \u001b[0;32m~/miniconda3/lib/python3.9/http/client.py:980\u001b[0m, in \u001b[0;36mHTTPConnection.send\u001b[0;34m(self, data)\u001b[0m\n\u001b[1;32m    979\u001b[0m \u001b[38;5;28;01mif\u001b[39;00m \u001b[38;5;28mself\u001b[39m\u001b[38;5;241m.\u001b[39mauto_open:\n\u001b[0;32m--> 980\u001b[0m     \u001b[38;5;28;43mself\u001b[39;49m\u001b[38;5;241;43m.\u001b[39;49m\u001b[43mconnect\u001b[49m\u001b[43m(\u001b[49m\u001b[43m)\u001b[49m\n\u001b[1;32m    981\u001b[0m \u001b[38;5;28;01melse\u001b[39;00m:\n",
      "File \u001b[0;32m~/miniconda3/lib/python3.9/http/client.py:1447\u001b[0m, in \u001b[0;36mHTTPSConnection.connect\u001b[0;34m(self)\u001b[0m\n\u001b[1;32m   1445\u001b[0m \u001b[38;5;124m\"\u001b[39m\u001b[38;5;124mConnect to a host on a given (SSL) port.\u001b[39m\u001b[38;5;124m\"\u001b[39m\n\u001b[0;32m-> 1447\u001b[0m \u001b[38;5;28;43msuper\u001b[39;49m\u001b[43m(\u001b[49m\u001b[43m)\u001b[49m\u001b[38;5;241;43m.\u001b[39;49m\u001b[43mconnect\u001b[49m\u001b[43m(\u001b[49m\u001b[43m)\u001b[49m\n\u001b[1;32m   1449\u001b[0m \u001b[38;5;28;01mif\u001b[39;00m \u001b[38;5;28mself\u001b[39m\u001b[38;5;241m.\u001b[39m_tunnel_host:\n",
      "File \u001b[0;32m~/miniconda3/lib/python3.9/http/client.py:946\u001b[0m, in \u001b[0;36mHTTPConnection.connect\u001b[0;34m(self)\u001b[0m\n\u001b[1;32m    945\u001b[0m \u001b[38;5;250m\u001b[39m\u001b[38;5;124;03m\"\"\"Connect to the host and port specified in __init__.\"\"\"\u001b[39;00m\n\u001b[0;32m--> 946\u001b[0m \u001b[38;5;28mself\u001b[39m\u001b[38;5;241m.\u001b[39msock \u001b[38;5;241m=\u001b[39m \u001b[38;5;28;43mself\u001b[39;49m\u001b[38;5;241;43m.\u001b[39;49m\u001b[43m_create_connection\u001b[49m\u001b[43m(\u001b[49m\n\u001b[1;32m    947\u001b[0m \u001b[43m    \u001b[49m\u001b[43m(\u001b[49m\u001b[38;5;28;43mself\u001b[39;49m\u001b[38;5;241;43m.\u001b[39;49m\u001b[43mhost\u001b[49m\u001b[43m,\u001b[49m\u001b[38;5;28;43mself\u001b[39;49m\u001b[38;5;241;43m.\u001b[39;49m\u001b[43mport\u001b[49m\u001b[43m)\u001b[49m\u001b[43m,\u001b[49m\u001b[43m \u001b[49m\u001b[38;5;28;43mself\u001b[39;49m\u001b[38;5;241;43m.\u001b[39;49m\u001b[43mtimeout\u001b[49m\u001b[43m,\u001b[49m\u001b[43m \u001b[49m\u001b[38;5;28;43mself\u001b[39;49m\u001b[38;5;241;43m.\u001b[39;49m\u001b[43msource_address\u001b[49m\u001b[43m)\u001b[49m\n\u001b[1;32m    948\u001b[0m \u001b[38;5;66;03m# Might fail in OSs that don't implement TCP_NODELAY\u001b[39;00m\n",
      "File \u001b[0;32m~/miniconda3/lib/python3.9/socket.py:823\u001b[0m, in \u001b[0;36mcreate_connection\u001b[0;34m(address, timeout, source_address)\u001b[0m\n\u001b[1;32m    822\u001b[0m err \u001b[38;5;241m=\u001b[39m \u001b[38;5;28;01mNone\u001b[39;00m\n\u001b[0;32m--> 823\u001b[0m \u001b[38;5;28;01mfor\u001b[39;00m res \u001b[38;5;129;01min\u001b[39;00m \u001b[43mgetaddrinfo\u001b[49m\u001b[43m(\u001b[49m\u001b[43mhost\u001b[49m\u001b[43m,\u001b[49m\u001b[43m \u001b[49m\u001b[43mport\u001b[49m\u001b[43m,\u001b[49m\u001b[43m \u001b[49m\u001b[38;5;241;43m0\u001b[39;49m\u001b[43m,\u001b[49m\u001b[43m \u001b[49m\u001b[43mSOCK_STREAM\u001b[49m\u001b[43m)\u001b[49m:\n\u001b[1;32m    824\u001b[0m     af, socktype, proto, canonname, sa \u001b[38;5;241m=\u001b[39m res\n",
      "File \u001b[0;32m~/miniconda3/lib/python3.9/socket.py:954\u001b[0m, in \u001b[0;36mgetaddrinfo\u001b[0;34m(host, port, family, type, proto, flags)\u001b[0m\n\u001b[1;32m    953\u001b[0m addrlist \u001b[38;5;241m=\u001b[39m []\n\u001b[0;32m--> 954\u001b[0m \u001b[38;5;28;01mfor\u001b[39;00m res \u001b[38;5;129;01min\u001b[39;00m \u001b[43m_socket\u001b[49m\u001b[38;5;241;43m.\u001b[39;49m\u001b[43mgetaddrinfo\u001b[49m\u001b[43m(\u001b[49m\u001b[43mhost\u001b[49m\u001b[43m,\u001b[49m\u001b[43m \u001b[49m\u001b[43mport\u001b[49m\u001b[43m,\u001b[49m\u001b[43m \u001b[49m\u001b[43mfamily\u001b[49m\u001b[43m,\u001b[49m\u001b[43m \u001b[49m\u001b[38;5;28;43mtype\u001b[39;49m\u001b[43m,\u001b[49m\u001b[43m \u001b[49m\u001b[43mproto\u001b[49m\u001b[43m,\u001b[49m\u001b[43m \u001b[49m\u001b[43mflags\u001b[49m\u001b[43m)\u001b[49m:\n\u001b[1;32m    955\u001b[0m     af, socktype, proto, canonname, sa \u001b[38;5;241m=\u001b[39m res\n",
      "\u001b[0;31mgaierror\u001b[0m: [Errno -3] Temporary failure in name resolution",
      "\nDuring handling of the above exception, another exception occurred:\n",
      "\u001b[0;31mURLError\u001b[0m                                  Traceback (most recent call last)",
      "Cell \u001b[0;32mIn [97], line 5\u001b[0m\n\u001b[1;32m      3\u001b[0m \u001b[38;5;28;01mfor\u001b[39;00m link \u001b[38;5;129;01min\u001b[39;00m tqdm(links):\n\u001b[1;32m      4\u001b[0m     \u001b[38;5;28mprint\u001b[39m(link)\n\u001b[0;32m----> 5\u001b[0m     gb_handle \u001b[38;5;241m=\u001b[39m \u001b[43mEntrez\u001b[49m\u001b[38;5;241;43m.\u001b[39;49m\u001b[43mefetch\u001b[49m\u001b[43m(\u001b[49m\u001b[43mdb\u001b[49m\u001b[38;5;241;43m=\u001b[39;49m\u001b[43mdb_current\u001b[49m\u001b[43m,\u001b[49m\u001b[43m \u001b[49m\u001b[43mrettype\u001b[49m\u001b[38;5;241;43m=\u001b[39;49m\u001b[38;5;124;43m\"\u001b[39;49m\u001b[38;5;124;43mgb\u001b[39;49m\u001b[38;5;124;43m\"\u001b[39;49m\u001b[43m,\u001b[49m\u001b[43m \u001b[49m\u001b[43mretmode\u001b[49m\u001b[38;5;241;43m=\u001b[39;49m\u001b[38;5;124;43m\"\u001b[39;49m\u001b[38;5;124;43mtext\u001b[39;49m\u001b[38;5;124;43m\"\u001b[39;49m\u001b[43m,\u001b[49m\u001b[43m \u001b[49m\u001b[38;5;28;43mid\u001b[39;49m\u001b[38;5;241;43m=\u001b[39;49m\u001b[43mlink\u001b[49m\u001b[43m[\u001b[49m\u001b[38;5;241;43m0\u001b[39;49m\u001b[43m]\u001b[49m\u001b[43m)\u001b[49m\n\u001b[1;32m      6\u001b[0m     gb_record \u001b[38;5;241m=\u001b[39m SeqIO\u001b[38;5;241m.\u001b[39mread(gb_handle, \u001b[38;5;124m'\u001b[39m\u001b[38;5;124mgenbank\u001b[39m\u001b[38;5;124m'\u001b[39m)\n\u001b[1;32m      7\u001b[0m     gb_records\u001b[38;5;241m.\u001b[39mappend((gb_record, link[\u001b[38;5;241m1\u001b[39m]))\n",
      "File \u001b[0;32m~/miniconda3/lib/python3.9/site-packages/Bio/Entrez/__init__.py:207\u001b[0m, in \u001b[0;36mefetch\u001b[0;34m(db, **keywords)\u001b[0m\n\u001b[1;32m    203\u001b[0m     \u001b[38;5;28;01mif\u001b[39;00m ids\u001b[38;5;241m.\u001b[39mcount(\u001b[38;5;124m\"\u001b[39m\u001b[38;5;124m,\u001b[39m\u001b[38;5;124m\"\u001b[39m) \u001b[38;5;241m>\u001b[39m\u001b[38;5;241m=\u001b[39m \u001b[38;5;241m200\u001b[39m:\n\u001b[1;32m    204\u001b[0m         \u001b[38;5;66;03m# NCBI prefers an HTTP POST instead of an HTTP GET if there are\u001b[39;00m\n\u001b[1;32m    205\u001b[0m         \u001b[38;5;66;03m# more than about 200 IDs\u001b[39;00m\n\u001b[1;32m    206\u001b[0m         post \u001b[38;5;241m=\u001b[39m \u001b[38;5;28;01mTrue\u001b[39;00m\n\u001b[0;32m--> 207\u001b[0m \u001b[38;5;28;01mreturn\u001b[39;00m \u001b[43m_open\u001b[49m\u001b[43m(\u001b[49m\u001b[43mcgi\u001b[49m\u001b[43m,\u001b[49m\u001b[43m \u001b[49m\u001b[43mvariables\u001b[49m\u001b[43m,\u001b[49m\u001b[43m \u001b[49m\u001b[43mpost\u001b[49m\u001b[38;5;241;43m=\u001b[39;49m\u001b[43mpost\u001b[49m\u001b[43m)\u001b[49m\n",
      "File \u001b[0;32m~/miniconda3/lib/python3.9/site-packages/Bio/Entrez/__init__.py:606\u001b[0m, in \u001b[0;36m_open\u001b[0;34m(cgi, params, post, ecitmatch)\u001b[0m\n\u001b[1;32m    604\u001b[0m         handle \u001b[38;5;241m=\u001b[39m urlopen(cgi, data\u001b[38;5;241m=\u001b[39moptions\u001b[38;5;241m.\u001b[39mencode(\u001b[38;5;124m\"\u001b[39m\u001b[38;5;124mutf8\u001b[39m\u001b[38;5;124m\"\u001b[39m))\n\u001b[1;32m    605\u001b[0m     \u001b[38;5;28;01melse\u001b[39;00m:\n\u001b[0;32m--> 606\u001b[0m         handle \u001b[38;5;241m=\u001b[39m \u001b[43murlopen\u001b[49m\u001b[43m(\u001b[49m\u001b[43mcgi\u001b[49m\u001b[43m)\u001b[49m\n\u001b[1;32m    607\u001b[0m \u001b[38;5;28;01mexcept\u001b[39;00m HTTPError \u001b[38;5;28;01mas\u001b[39;00m exception:\n\u001b[1;32m    608\u001b[0m     \u001b[38;5;66;03m# Reraise if the final try fails\u001b[39;00m\n\u001b[1;32m    609\u001b[0m     \u001b[38;5;28;01mif\u001b[39;00m i \u001b[38;5;241m>\u001b[39m\u001b[38;5;241m=\u001b[39m max_tries \u001b[38;5;241m-\u001b[39m \u001b[38;5;241m1\u001b[39m:\n",
      "File \u001b[0;32m~/miniconda3/lib/python3.9/urllib/request.py:214\u001b[0m, in \u001b[0;36murlopen\u001b[0;34m(url, data, timeout, cafile, capath, cadefault, context)\u001b[0m\n\u001b[1;32m    212\u001b[0m \u001b[38;5;28;01melse\u001b[39;00m:\n\u001b[1;32m    213\u001b[0m     opener \u001b[38;5;241m=\u001b[39m _opener\n\u001b[0;32m--> 214\u001b[0m \u001b[38;5;28;01mreturn\u001b[39;00m \u001b[43mopener\u001b[49m\u001b[38;5;241;43m.\u001b[39;49m\u001b[43mopen\u001b[49m\u001b[43m(\u001b[49m\u001b[43murl\u001b[49m\u001b[43m,\u001b[49m\u001b[43m \u001b[49m\u001b[43mdata\u001b[49m\u001b[43m,\u001b[49m\u001b[43m \u001b[49m\u001b[43mtimeout\u001b[49m\u001b[43m)\u001b[49m\n",
      "File \u001b[0;32m~/miniconda3/lib/python3.9/urllib/request.py:517\u001b[0m, in \u001b[0;36mOpenerDirector.open\u001b[0;34m(self, fullurl, data, timeout)\u001b[0m\n\u001b[1;32m    514\u001b[0m     req \u001b[38;5;241m=\u001b[39m meth(req)\n\u001b[1;32m    516\u001b[0m sys\u001b[38;5;241m.\u001b[39maudit(\u001b[38;5;124m'\u001b[39m\u001b[38;5;124murllib.Request\u001b[39m\u001b[38;5;124m'\u001b[39m, req\u001b[38;5;241m.\u001b[39mfull_url, req\u001b[38;5;241m.\u001b[39mdata, req\u001b[38;5;241m.\u001b[39mheaders, req\u001b[38;5;241m.\u001b[39mget_method())\n\u001b[0;32m--> 517\u001b[0m response \u001b[38;5;241m=\u001b[39m \u001b[38;5;28;43mself\u001b[39;49m\u001b[38;5;241;43m.\u001b[39;49m\u001b[43m_open\u001b[49m\u001b[43m(\u001b[49m\u001b[43mreq\u001b[49m\u001b[43m,\u001b[49m\u001b[43m \u001b[49m\u001b[43mdata\u001b[49m\u001b[43m)\u001b[49m\n\u001b[1;32m    519\u001b[0m \u001b[38;5;66;03m# post-process response\u001b[39;00m\n\u001b[1;32m    520\u001b[0m meth_name \u001b[38;5;241m=\u001b[39m protocol\u001b[38;5;241m+\u001b[39m\u001b[38;5;124m\"\u001b[39m\u001b[38;5;124m_response\u001b[39m\u001b[38;5;124m\"\u001b[39m\n",
      "File \u001b[0;32m~/miniconda3/lib/python3.9/urllib/request.py:534\u001b[0m, in \u001b[0;36mOpenerDirector._open\u001b[0;34m(self, req, data)\u001b[0m\n\u001b[1;32m    531\u001b[0m     \u001b[38;5;28;01mreturn\u001b[39;00m result\n\u001b[1;32m    533\u001b[0m protocol \u001b[38;5;241m=\u001b[39m req\u001b[38;5;241m.\u001b[39mtype\n\u001b[0;32m--> 534\u001b[0m result \u001b[38;5;241m=\u001b[39m \u001b[38;5;28;43mself\u001b[39;49m\u001b[38;5;241;43m.\u001b[39;49m\u001b[43m_call_chain\u001b[49m\u001b[43m(\u001b[49m\u001b[38;5;28;43mself\u001b[39;49m\u001b[38;5;241;43m.\u001b[39;49m\u001b[43mhandle_open\u001b[49m\u001b[43m,\u001b[49m\u001b[43m \u001b[49m\u001b[43mprotocol\u001b[49m\u001b[43m,\u001b[49m\u001b[43m \u001b[49m\u001b[43mprotocol\u001b[49m\u001b[43m \u001b[49m\u001b[38;5;241;43m+\u001b[39;49m\n\u001b[1;32m    535\u001b[0m \u001b[43m                          \u001b[49m\u001b[38;5;124;43m'\u001b[39;49m\u001b[38;5;124;43m_open\u001b[39;49m\u001b[38;5;124;43m'\u001b[39;49m\u001b[43m,\u001b[49m\u001b[43m \u001b[49m\u001b[43mreq\u001b[49m\u001b[43m)\u001b[49m\n\u001b[1;32m    536\u001b[0m \u001b[38;5;28;01mif\u001b[39;00m result:\n\u001b[1;32m    537\u001b[0m     \u001b[38;5;28;01mreturn\u001b[39;00m result\n",
      "File \u001b[0;32m~/miniconda3/lib/python3.9/urllib/request.py:494\u001b[0m, in \u001b[0;36mOpenerDirector._call_chain\u001b[0;34m(self, chain, kind, meth_name, *args)\u001b[0m\n\u001b[1;32m    492\u001b[0m \u001b[38;5;28;01mfor\u001b[39;00m handler \u001b[38;5;129;01min\u001b[39;00m handlers:\n\u001b[1;32m    493\u001b[0m     func \u001b[38;5;241m=\u001b[39m \u001b[38;5;28mgetattr\u001b[39m(handler, meth_name)\n\u001b[0;32m--> 494\u001b[0m     result \u001b[38;5;241m=\u001b[39m \u001b[43mfunc\u001b[49m\u001b[43m(\u001b[49m\u001b[38;5;241;43m*\u001b[39;49m\u001b[43margs\u001b[49m\u001b[43m)\u001b[49m\n\u001b[1;32m    495\u001b[0m     \u001b[38;5;28;01mif\u001b[39;00m result \u001b[38;5;129;01mis\u001b[39;00m \u001b[38;5;129;01mnot\u001b[39;00m \u001b[38;5;28;01mNone\u001b[39;00m:\n\u001b[1;32m    496\u001b[0m         \u001b[38;5;28;01mreturn\u001b[39;00m result\n",
      "File \u001b[0;32m~/miniconda3/lib/python3.9/urllib/request.py:1389\u001b[0m, in \u001b[0;36mHTTPSHandler.https_open\u001b[0;34m(self, req)\u001b[0m\n\u001b[1;32m   1388\u001b[0m \u001b[38;5;28;01mdef\u001b[39;00m \u001b[38;5;21mhttps_open\u001b[39m(\u001b[38;5;28mself\u001b[39m, req):\n\u001b[0;32m-> 1389\u001b[0m     \u001b[38;5;28;01mreturn\u001b[39;00m \u001b[38;5;28;43mself\u001b[39;49m\u001b[38;5;241;43m.\u001b[39;49m\u001b[43mdo_open\u001b[49m\u001b[43m(\u001b[49m\u001b[43mhttp\u001b[49m\u001b[38;5;241;43m.\u001b[39;49m\u001b[43mclient\u001b[49m\u001b[38;5;241;43m.\u001b[39;49m\u001b[43mHTTPSConnection\u001b[49m\u001b[43m,\u001b[49m\u001b[43m \u001b[49m\u001b[43mreq\u001b[49m\u001b[43m,\u001b[49m\n\u001b[1;32m   1390\u001b[0m \u001b[43m        \u001b[49m\u001b[43mcontext\u001b[49m\u001b[38;5;241;43m=\u001b[39;49m\u001b[38;5;28;43mself\u001b[39;49m\u001b[38;5;241;43m.\u001b[39;49m\u001b[43m_context\u001b[49m\u001b[43m,\u001b[49m\u001b[43m \u001b[49m\u001b[43mcheck_hostname\u001b[49m\u001b[38;5;241;43m=\u001b[39;49m\u001b[38;5;28;43mself\u001b[39;49m\u001b[38;5;241;43m.\u001b[39;49m\u001b[43m_check_hostname\u001b[49m\u001b[43m)\u001b[49m\n",
      "File \u001b[0;32m~/miniconda3/lib/python3.9/urllib/request.py:1349\u001b[0m, in \u001b[0;36mAbstractHTTPHandler.do_open\u001b[0;34m(self, http_class, req, **http_conn_args)\u001b[0m\n\u001b[1;32m   1346\u001b[0m         h\u001b[38;5;241m.\u001b[39mrequest(req\u001b[38;5;241m.\u001b[39mget_method(), req\u001b[38;5;241m.\u001b[39mselector, req\u001b[38;5;241m.\u001b[39mdata, headers,\n\u001b[1;32m   1347\u001b[0m                   encode_chunked\u001b[38;5;241m=\u001b[39mreq\u001b[38;5;241m.\u001b[39mhas_header(\u001b[38;5;124m'\u001b[39m\u001b[38;5;124mTransfer-encoding\u001b[39m\u001b[38;5;124m'\u001b[39m))\n\u001b[1;32m   1348\u001b[0m     \u001b[38;5;28;01mexcept\u001b[39;00m \u001b[38;5;167;01mOSError\u001b[39;00m \u001b[38;5;28;01mas\u001b[39;00m err: \u001b[38;5;66;03m# timeout error\u001b[39;00m\n\u001b[0;32m-> 1349\u001b[0m         \u001b[38;5;28;01mraise\u001b[39;00m URLError(err)\n\u001b[1;32m   1350\u001b[0m     r \u001b[38;5;241m=\u001b[39m h\u001b[38;5;241m.\u001b[39mgetresponse()\n\u001b[1;32m   1351\u001b[0m \u001b[38;5;28;01mexcept\u001b[39;00m:\n",
      "\u001b[0;31mURLError\u001b[0m: <urlopen error [Errno -3] Temporary failure in name resolution>"
     ]
    }
   ],
   "source": [
    "# Collecting data about assemblies\n",
    "gb_records = []\n",
    "for link in tqdm(links):\n",
    "    print(link)\n",
    "    gb_handle = Entrez.efetch(db=db_current, rettype=\"gb\", retmode=\"text\", id=link[0])\n",
    "    gb_record = SeqIO.read(gb_handle, 'genbank')\n",
    "    gb_records.append((gb_record, link[1]))"
   ]
  },
  {
   "cell_type": "code",
   "execution_count": 91,
   "metadata": {},
   "outputs": [
    {
     "data": {
      "text/plain": [
       "SeqRecord(seq=Seq('TAAACGCAGCTCATCCTGAATGGATTCCTGCTGTTGTGCTCTACCAGGAAATTT...TCT'), id='PRDY01000125.1', name='PRDY01000125', description='Acinetobacter indicus strain IHIT31216 NODE_138_length_301_cov_139.983, whole genome shotgun sequence', dbxrefs=['BioProject:PRJNA432656', 'BioSample:SAMN08456626'])"
      ]
     },
     "execution_count": 91,
     "metadata": {},
     "output_type": "execute_result"
    }
   ],
   "source": [
    "gb_records[1200][0]"
   ]
  },
  {
   "cell_type": "code",
   "execution_count": 86,
   "metadata": {},
   "outputs": [
    {
     "name": "stdout",
     "output_type": "stream",
     "text": [
      "/home/asklepiad/bioinf/start_codons/BI_project_2022/C_psittaci_folder/scripts\r\n"
     ]
    }
   ],
   "source": [
    "!pwd"
   ]
  },
  {
   "cell_type": "markdown",
   "metadata": {},
   "source": [
    "On the next stage we need to create fasta files for each assembly, to reaanotate them."
   ]
  },
  {
   "cell_type": "code",
   "execution_count": 1,
   "metadata": {},
   "outputs": [
    {
     "name": "stdout",
     "output_type": "stream",
     "text": [
      "P_penneri\n"
     ]
    }
   ],
   "source": [
    "orglist = organism.split()\n",
    "if len(orglist[-1]) < 10:\n",
    "    last_letter = len(orglist[-1])\n",
    "else:\n",
    "    last_letter = 9\n",
    "name = f\"{orglist[0][0]}_{orglist[-1][:last_letter]}\"\n",
    "print(name)"
   ]
  },
  {
   "cell_type": "code",
   "execution_count": 23,
   "metadata": {},
   "outputs": [
    {
     "name": "stderr",
     "output_type": "stream",
     "text": [
      "100%|███████████████████████████████████████████████████████████████████████████████████████████████████████| 47/47 [00:00<00:00, 633.51it/s]\n"
     ]
    }
   ],
   "source": [
    "dna_type, tuples, source_list = [], [], [] # Creating list for identyfing the number of every assemblie DNA molecules (chromosome and any plasmids)\n",
    "orglist = organism.split()\n",
    "if len(orglist[-1]) < 10:\n",
    "    last_letter = len(orglist[-1])\n",
    "else:\n",
    "    last_letter = 9\n",
    "name = f\"{orglist[0][0]}_{orglist[-1][:last_letter]}\"\n",
    "for rec in tqdm(gb_records):\n",
    "    source = rec[1] # Number of assembly\n",
    "    if \"plasmid\" in rec[0].description:\n",
    "        dna_type.append(\"plasmid\")\n",
    "    else:\n",
    "        dna_type.append(\"chromosome\")\n",
    "    source_list.append(source) \n",
    "    number = source_list.count(source) # Counting the DNA molecule of assembly\n",
    "    tuples.append((source, number))\n",
    "    mask = f\"{name}{source}_{number}\"\n",
    "    with open (f\"../{name}/data/for_prokka_fasta/{mask}.fasta\", \"w\") as for_prokka_fasta:\n",
    "        for_prokka_fasta.write(\">\")\n",
    "        for_prokka_fasta.write(mask)\n",
    "        for_prokka_fasta.write(\"\\n\")\n",
    "        for_prokka_fasta.write(str(rec[0].seq))\n",
    "        for_prokka_fasta.write(\"\\n\")  "
   ]
  },
  {
   "cell_type": "code",
   "execution_count": 35,
   "metadata": {},
   "outputs": [],
   "source": [
    "# Saving plasmid_code\n",
    "jsonpc1 = json.dumps(tuples)\n",
    "with open(f\"../{name}/data/{name}_plasmid_code1.json\", \"w\") as jspc1:\n",
    "    jspc1.write(jsonpc1)\n",
    "jsonpc2 = json.dumps(dna_type)\n",
    "with open(f\"../{name}/data/{name}_plasmid_code2.json\", \"w\") as jspc2:\n",
    "    jspc2.write(jsonpc2)"
   ]
  }
 ],
 "metadata": {
  "colab": {
   "collapsed_sections": [
    "-WDRF29W3SyR",
    "c8yV-DwPre6C",
    "kyeKwO01rj1G",
    "Zyu27Lga0wWR",
    "dc_xdF-VxoMY",
    "2vlUfrmdJmyr",
    "qlF4YG3srZrF",
    "uuQtazSJwK_s",
    "N3J1A7ThS3Xz",
    "Kk6luKhoS3X0",
    "XrODV9lQS3X0"
   ],
   "provenance": [],
   "toc_visible": true
  },
  "kernelspec": {
   "display_name": "Python 3 (ipykernel)",
   "language": "python",
   "name": "python3"
  },
  "language_info": {
   "codemirror_mode": {
    "name": "ipython",
    "version": 3
   },
   "file_extension": ".py",
   "mimetype": "text/x-python",
   "name": "python",
   "nbconvert_exporter": "python",
   "pygments_lexer": "ipython3",
   "version": "3.9.13"
  }
 },
 "nbformat": 4,
 "nbformat_minor": 1
}
