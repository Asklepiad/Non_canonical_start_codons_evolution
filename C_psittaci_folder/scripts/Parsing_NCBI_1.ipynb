{
 "cells": [
  {
   "cell_type": "markdown",
   "metadata": {
    "id": "DTOWjLn73FjG"
   },
   "source": [
    "### Installing packages"
   ]
  },
  {
   "cell_type": "code",
   "execution_count": 1,
   "metadata": {
    "colab": {
     "base_uri": "https://localhost:8080/"
    },
    "id": "iIn18S_j2Ra4",
    "outputId": "af660329-370e-4e43-8e9d-1a6f1fdd1c9e"
   },
   "outputs": [],
   "source": [
    "# Installing packages\n",
    "#!pip3 install pandas\n",
    "#!pip3 install biopython\n",
    "\n",
    "# Importing packages\n",
    "import Bio\n",
    "import math\n",
    "import os\n",
    "import sys\n",
    "import argparse\n",
    "import shutil\n",
    "import re\n",
    "import json\n",
    "import numpy as np\n",
    "import pandas as pd\n",
    "import seaborn as sns\n",
    "import matplotlib.pyplot as plt\n",
    "from Bio.Seq import Seq\n",
    "from Bio import SeqIO\n",
    "from Bio.Data import CodonTable\n",
    "from Bio.SeqRecord import SeqRecord\n",
    "from Bio import Entrez\n",
    "from itertools import chain\n",
    "from tqdm import tqdm\n",
    "#from google.colab import files   # For working with colab only\n",
    "#from google.colab import drive   # For working with colab only\n",
    "\n",
    "# Asserting email for Entrez\n",
    "Entrez.email = \"bogdan.sotnikov.1999@mail.ru\"\n",
    "\n",
    "# Google drive mounting\n",
    "#drive.mount('/content/gdrive')    # For working with colab only"
   ]
  },
  {
   "cell_type": "code",
   "execution_count": null,
   "metadata": {},
   "outputs": [],
   "source": [
    "parser = argparse.ArgumentParser()\n",
    "\n",
    "parser.add_argument(\"organism_name\", type=str)\n",
    "parser.add_argument(\"mail\", type=str)\n",
    "\n",
    "arguments = parser.parse_args()\n",
    "\n",
    "organism_name = arguments.organism_name\n",
    "Entrez.email = arguments.mail\n",
    "# Если аргумент есть в аргументах, сделать api"
   ]
  },
  {
   "cell_type": "code",
   "execution_count": 2,
   "metadata": {},
   "outputs": [],
   "source": [
    "organism_name = \"Corynebacterium_pseudotuberculosis\""
   ]
  },
  {
   "cell_type": "code",
   "execution_count": 3,
   "metadata": {},
   "outputs": [],
   "source": [
    "# Code from source above, with modifications. It is for choosing GenBank nucleotide data only.\n",
    "def extract_insdc(links):\n",
    "    linkset = [ls for ls in links[0]['LinkSetDb'] if\n",
    "              ls['LinkName'] == 'assembly_nuccore_insdc']\n",
    "    if 0 != len(linkset):\n",
    "        uids = [link['Id'] for link in linkset[0]['Link']]\n",
    "    else:\n",
    "        uids = 0\n",
    "    return uids"
   ]
  },
  {
   "cell_type": "code",
   "execution_count": 4,
   "metadata": {
    "id": "eLfZd17e6IaD"
   },
   "outputs": [],
   "source": [
    "# Creating a variables for futher work with links\n",
    "#organism = organism_name\n",
    "organism = organism_name\n",
    "db_search = \"assembly\"\n",
    "db_current = \"nucleotide\""
   ]
  },
  {
   "cell_type": "code",
   "execution_count": 5,
   "metadata": {
    "id": "eLfZd17e6IaD"
   },
   "outputs": [],
   "source": [
    "# First searching helps to count complete number of links\n",
    "search_handle = Entrez.esearch(db=db_search, term=organism)\n",
    "search_record = Entrez.read(search_handle)\n",
    "count = int(search_record[\"Count\"])\n",
    "\n",
    "# Second searching\n",
    "search_handle = Entrez.esearch(db=db_search, term=organism, retmax=count)\n",
    "search_record = Entrez.read(search_handle)"
   ]
  },
  {
   "cell_type": "code",
   "execution_count": 6,
   "metadata": {
    "id": "6uoWq5E3GdTD"
   },
   "outputs": [
    {
     "name": "stderr",
     "output_type": "stream",
     "text": [
      "100%|██████████████████████████████████████████████████████████████████████████████████████████████████████| 203/203 [06:04<00:00,  1.80s/it]\n"
     ]
    }
   ],
   "source": [
    "# Getting summary about links\n",
    "idlist = search_record[\"IdList\"]\n",
    "complete_ids = []   # List of full completed genomes' ids\n",
    "for ids in tqdm(idlist):\n",
    "    handle = Entrez.esummary(db=db_search, id=ids)\n",
    "    record = Entrez.read(handle)\n",
    "    if record['DocumentSummarySet']['DocumentSummary'][0]['AssemblyStatus'] == \"Complete Genome\":\n",
    "        complete_ids.append(ids)"
   ]
  },
  {
   "cell_type": "code",
   "execution_count": 7,
   "metadata": {},
   "outputs": [
    {
     "name": "stdout",
     "output_type": "stream",
     "text": [
      "Yes\n",
      "Yes\n",
      "Yes\n",
      "Yes\n",
      "Yes\n",
      "Yes\n",
      "Yes\n",
      "Yes\n",
      "Yes\n",
      "Yes\n",
      "Yes\n",
      "Yes\n",
      "Yes\n",
      "Yes\n",
      "Yes\n",
      "Yes\n",
      "Yes\n",
      "Yes\n",
      "Yes\n",
      "Yes\n",
      "Yes\n",
      "Yes\n",
      "Yes\n",
      "Yes\n",
      "Yes\n",
      "Yes\n",
      "Yes\n",
      "Yes\n",
      "Yes\n",
      "Yes\n",
      "Yes\n",
      "Yes\n"
     ]
    }
   ],
   "source": [
    "check_lst = [\"13297461\", \"964991\", \"875591\", \"2276151\", \"14685571\", \"5408331\", \"1055771\", \"756301\", \"1514871\", \"904931\", \"5393791\", \"602331\", \"935101\", \"1596221\", \"345031\", \"1441071\", \"16400851\", \"875631\", \"198501\", \"750791\", \"430551\", \"1014281\", \"1595761\", \"1131311\", \"322401\", \"488641\", \"14685521\", \"198461\", \"750781\", \"5501051\", \"935091\", \"766611\"]\n",
    "for id_ in check_lst:\n",
    "    if id_ in complete_ids:\n",
    "        print(\"Yes\")\n",
    "    else:\n",
    "        print(\"No\")"
   ]
  },
  {
   "cell_type": "code",
   "execution_count": 7,
   "metadata": {
    "id": "hmHfpdhjGdZy"
   },
   "outputs": [
    {
     "name": "stderr",
     "output_type": "stream",
     "text": [
      "100%|████████████████████████████████████████████████████████████████████████████████████████████████████████| 87/87 [01:16<00:00,  1.14it/s]\n"
     ]
    }
   ],
   "source": [
    "# Taking ids for fetching. It collected all non-duplicated links in nucleotide database from assembly database.\n",
    "links = []\n",
    "links_checked = []\n",
    "n = 0\n",
    "for complete_id in tqdm(complete_ids):\n",
    "    link_handle = Entrez.elink(dbfrom=db_search, db=db_current, from_uid=complete_id)\n",
    "    link_record = Entrez.read(link_handle)\n",
    "    uids = extract_insdc(link_record)\n",
    "    if uids != 0:\n",
    "        for uid in uids:\n",
    "            if uid not in links_checked:    # Checking for duplicates\n",
    "                links_checked.append(uid)\n",
    "                links.append((uid, n))\n",
    "                cumulative = 1\n",
    "            else:\n",
    "                cumulative = 0\n",
    "        n += cumulative"
   ]
  },
  {
   "cell_type": "code",
   "execution_count": 8,
   "metadata": {
    "id": "k1ML26sxCden"
   },
   "outputs": [
    {
     "name": "stderr",
     "output_type": "stream",
     "text": [
      "100%|████████████████████████████████████████████████████████████████████████████████████████████████████| 578/578 [1:06:32<00:00,  6.91s/it]\n"
     ]
    }
   ],
   "source": [
    "# Collecting data about assemblies\n",
    "gb_records = []\n",
    "for link in tqdm(links):\n",
    "    gb_handle = Entrez.efetch(db=db_current, rettype=\"gb\", retmode=\"text\", id=link[0])\n",
    "    gb_record = SeqIO.read(gb_handle, 'genbank')\n",
    "    gb_records.append((gb_record, link[1]))"
   ]
  },
  {
   "cell_type": "markdown",
   "metadata": {},
   "source": [
    "On the next stage we need to create fasta files for each assembly, to reaanotate them."
   ]
  },
  {
   "cell_type": "code",
   "execution_count": 1,
   "metadata": {},
   "outputs": [
    {
     "name": "stdout",
     "output_type": "stream",
     "text": [
      "P_penneri\n"
     ]
    }
   ],
   "source": [
    "organism = \"Proteus penneri\"\n",
    "orglist = organism.split()\n",
    "if len(orglist[-1]) < 10:\n",
    "    last_letter = len(orglist[-1])\n",
    "else:\n",
    "    last_letter = 9\n",
    "name = f\"{orglist[0][0]}_{orglist[-1][:last_letter]}\"\n",
    "print(name)"
   ]
  },
  {
   "cell_type": "code",
   "execution_count": 23,
   "metadata": {},
   "outputs": [
    {
     "name": "stderr",
     "output_type": "stream",
     "text": [
      "100%|███████████████████████████████████████████████████████████████████████████████████████████████████████| 47/47 [00:00<00:00, 633.51it/s]\n"
     ]
    }
   ],
   "source": [
    "dna_type, tuples, source_list = [], [], [] # Creating list for identyfing the number of every assemblie DNA molecules (chromosome and any plasmids)\n",
    "orglist = organism.split()\n",
    "if len(orglist[-1]) < 10:\n",
    "    last_letter = len(orglist[-1])\n",
    "else:\n",
    "    last_letter = 9\n",
    "name = f\"{orglist[0][0]}_{orglist[-1][:last_letter]}\"\n",
    "for rec in tqdm(gb_records):\n",
    "    source = rec[1] # Number of assembly\n",
    "    if \"plasmid\" in rec[0].description:\n",
    "        dna_type.append(\"plasmid\")\n",
    "    else:\n",
    "        dna_type.append(\"chromosome\")\n",
    "    source_list.append(source) \n",
    "    number = source_list.count(source) # Counting the DNA molecule of assembly\n",
    "    tuples.append((source, number))\n",
    "    mask = f\"{name}{source}_{number}\"\n",
    "    with open (f\"../{name}/data/for_prokka_fasta/{mask}.fasta\", \"w\") as for_prokka_fasta:\n",
    "        for_prokka_fasta.write(\">\")\n",
    "        for_prokka_fasta.write(mask)\n",
    "        for_prokka_fasta.write(\"\\n\")\n",
    "        for_prokka_fasta.write(str(rec[0].seq))\n",
    "        for_prokka_fasta.write(\"\\n\")  "
   ]
  },
  {
   "cell_type": "code",
   "execution_count": 35,
   "metadata": {},
   "outputs": [],
   "source": [
    "# Saving plasmid_code\n",
    "jsonpc1 = json.dumps(tuples)\n",
    "with open(f\"../{name}/data/{name}_plasmid_code1.json\", \"w\") as jspc1:\n",
    "    jspc1.write(jsonpc1)\n",
    "jsonpc2 = json.dumps(dna_type)\n",
    "with open(f\"../{name}/data/{name}_plasmid_code2.json\", \"w\") as jspc2:\n",
    "    jspc2.write(jsonpc2)"
   ]
  }
 ],
 "metadata": {
  "colab": {
   "collapsed_sections": [
    "-WDRF29W3SyR",
    "c8yV-DwPre6C",
    "kyeKwO01rj1G",
    "Zyu27Lga0wWR",
    "dc_xdF-VxoMY",
    "2vlUfrmdJmyr",
    "qlF4YG3srZrF",
    "uuQtazSJwK_s",
    "N3J1A7ThS3Xz",
    "Kk6luKhoS3X0",
    "XrODV9lQS3X0"
   ],
   "provenance": [],
   "toc_visible": true
  },
  "kernelspec": {
   "display_name": "Python 3 (ipykernel)",
   "language": "python",
   "name": "python3"
  },
  "language_info": {
   "codemirror_mode": {
    "name": "ipython",
    "version": 3
   },
   "file_extension": ".py",
   "mimetype": "text/x-python",
   "name": "python",
   "nbconvert_exporter": "python",
   "pygments_lexer": "ipython3",
   "version": "3.9.13"
  }
 },
 "nbformat": 4,
 "nbformat_minor": 1
}
