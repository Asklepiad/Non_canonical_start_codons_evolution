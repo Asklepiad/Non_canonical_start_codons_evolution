{
 "cells": [
  {
   "cell_type": "code",
   "execution_count": 1,
   "metadata": {},
   "outputs": [],
   "source": [
    "import sys\n",
    "import os\n",
    "import argparse\n",
    "import shutil\n",
    "import re\n",
    "from tqdm import tqdm"
   ]
  },
  {
   "cell_type": "code",
   "execution_count": null,
   "metadata": {},
   "outputs": [],
   "source": [
    "parser = argparse.ArgumentParser()\n",
    "\n",
    "parser.add_argument(\"folder_name\", type=str)\n",
    "parser.add_argument(\"aligner\", type=str)\n",
    "\n",
    "arguments = parser.parse_args()\n",
    "\n",
    "folder_name = arguments.folder_name\n",
    "aligner = arguments.aligner"
   ]
  },
  {
   "cell_type": "code",
   "execution_count": null,
   "metadata": {},
   "outputs": [],
   "source": [
    "if aligner == \"prank\":\n",
    "    num1 = 9\n",
    "    word = \".best.fas\"\n",
    "elif aligner == \"muscle\":\n",
    "    num1 = 4\n",
    "    word = \".afa\""
   ]
  },
  {
   "cell_type": "code",
   "execution_count": 5,
   "metadata": {},
   "outputs": [],
   "source": [
    "current_path = f\"../{folder_name}/data/multialignments/\"\n",
    "multialigns = [align for align in os.listdir(current_path) if align[-num1:] == word]"
   ]
  },
  {
   "cell_type": "code",
   "execution_count": 8,
   "metadata": {},
   "outputs": [],
   "source": [
    "pattern = r\">[\\w]+\"\n",
    "for align in tqdm(multialigns):\n",
    "    with open(f\"../{folder_name}/data/configs/{align[:-num1]}.txt\", \"w\") as writed_align:\n",
    "        writed_align.write(\"DATASET_BINARY\\n\")\n",
    "        writed_align.write(\"SEPARATOR COMMA\\n\")\n",
    "        writed_align.write(\"DATASET_LABEL,start codons\\n\")\n",
    "        writed_align.write(\"FIELD_SHAPES,2,2,2\\n\")\n",
    "        writed_align.write(\"FIELD_LABELS,ATG,GTG,TTG\\n\")\n",
    "        writed_align.write(\"FIELD_COLORS,#ff0000,#00ff00,#0000ff\\n\")\n",
    "        writed_align.write(\"DATA\\n\")\n",
    "        with open(os.path.join(current_path, align), \"r\") as readed_align:\n",
    "                texts = readed_align.read()\n",
    "                result = re.findall(pattern, texts)\n",
    "                for header in result:\n",
    "                    writed_align.write(header[1:])\n",
    "                    if header[-3:] == \"ATG\":\n",
    "                        writed_align.write(\",1,-1,-1\\n\")\n",
    "                    elif header[-3:] == \"GTG\":\n",
    "                        writed_align.write(\",-1,1,-1\\n\")\n",
    "                    elif header[-3:] == \"TTG\":\n",
    "                        writed_align.write(\",-1,-1,1\\n\")"
   ]
  }
 ],
 "metadata": {
  "kernelspec": {
   "display_name": "Python 3 (ipykernel)",
   "language": "python",
   "name": "python3"
  },
  "language_info": {
   "codemirror_mode": {
    "name": "ipython",
    "version": 3
   },
   "file_extension": ".py",
   "mimetype": "text/x-python",
   "name": "python",
   "nbconvert_exporter": "python",
   "pygments_lexer": "ipython3",
   "version": "3.9.13"
  }
 },
 "nbformat": 4,
 "nbformat_minor": 2
}
